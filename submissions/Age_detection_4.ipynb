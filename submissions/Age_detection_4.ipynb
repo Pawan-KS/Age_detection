{
  "nbformat": 4,
  "nbformat_minor": 0,
  "metadata": {
    "colab": {
      "name": "Age_detection_1.ipynb",
      "provenance": [],
      "collapsed_sections": [],
      "toc_visible": true
    },
    "kernelspec": {
      "name": "python3",
      "display_name": "Python 3"
    },
    "accelerator": "GPU"
  },
  "cells": [
    {
      "cell_type": "code",
      "metadata": {
        "id": "OcQjSUsi1bFI",
        "colab_type": "code",
        "colab": {}
      },
      "source": [
        "!unzip test_Bh8pGW3.zip\n",
        "!unzip train_DETg9GD.zip"
      ],
      "execution_count": 0,
      "outputs": []
    },
    {
      "cell_type": "code",
      "metadata": {
        "id": "q7WjL1QqDdQV",
        "colab_type": "code",
        "colab": {}
      },
      "source": [
        "import numpy as np\n",
        "import pandas as pd\n",
        "from random import randint\n",
        "import os\n",
        "import torch\n",
        "import torch.nn as nn\n",
        "import torch.nn.functional as F\n",
        "import torchvision\n",
        "from sklearn.model_selection import train_test_split\n",
        "from sklearn.utils import shuffle\n",
        "from torch.utils.data import DataLoader, Dataset\n",
        "from sklearn.metrics import accuracy_score\n",
        "from matplotlib.pyplot import imread\n",
        "from pylab import *\n",
        "from albumentations import (RGBShift,Blur,RandomContrast,HueSaturationValue,RandomGamma,Rotate,RandomBrightness,HorizontalFlip, Normalize, Resize, Compose, GaussNoise,Transpose,RandomBrightnessContrast,RandomCrop)\n",
        "from albumentations.pytorch import ToTensor\n",
        "import torch.optim as optim\n",
        "from torch.optim import lr_scheduler\n",
        "from torchvision import datasets, models, transforms\n",
        "import time\n",
        "import copy"
      ],
      "execution_count": 0,
      "outputs": []
    },
    {
      "cell_type": "code",
      "metadata": {
        "id": "74taFO98wHYT",
        "colab_type": "code",
        "colab": {}
      },
      "source": [
        "train_csv = pd.read_csv('/content/train.csv')\n",
        "train_csv,val_csv = train_test_split(train_csv,test_size=0.06,random_state=8)\n",
        "test_csv = pd.read_csv('/content/test.csv')\n",
        "test_csv['Class']=\"\"\n",
        "test_csv.Class='MIDDLE'"
      ],
      "execution_count": 0,
      "outputs": []
    },
    {
      "cell_type": "code",
      "metadata": {
        "id": "hF72YOEyw9fl",
        "colab_type": "code",
        "outputId": "e1d4677a-d31f-4b38-c343-aff66f3e0856",
        "colab": {
          "base_uri": "https://localhost:8080/",
          "height": 101
        }
      },
      "source": [
        "print('train image count--',len(train_csv),'\\t test image count--',len(test_csv),'\\t val image count--',len(val_csv))\n",
        "train_csv.Class.value_counts(normalize=True)"
      ],
      "execution_count": 115,
      "outputs": [
        {
          "output_type": "stream",
          "text": [
            "train image count-- 18711 \t test image count-- 6636 \t val image count-- 1195\n"
          ],
          "name": "stdout"
        },
        {
          "output_type": "execute_result",
          "data": {
            "text/plain": [
              "MIDDLE    0.543103\n",
              "YOUNG     0.336112\n",
              "OLD       0.120785\n",
              "Name: Class, dtype: float64"
            ]
          },
          "metadata": {
            "tags": []
          },
          "execution_count": 115
        }
      ]
    },
    {
      "cell_type": "code",
      "metadata": {
        "id": "2qgEu1O3RUsE",
        "colab_type": "code",
        "colab": {}
      },
      "source": [
        "label_assign={'YOUNG':0,'MIDDLE':1,'OLD':2}"
      ],
      "execution_count": 0,
      "outputs": []
    },
    {
      "cell_type": "markdown",
      "metadata": {
        "id": "IK8jAK5CFUJp",
        "colab_type": "text"
      },
      "source": [
        "# knowing image shapes"
      ]
    },
    {
      "cell_type": "code",
      "metadata": {
        "id": "WfybElFLxQCt",
        "colab_type": "code",
        "colab": {}
      },
      "source": [
        "l=[]\n",
        "for i in range(len(train_csv)):\n",
        "  img_path = '/content/Train/' + str(train_csv.ID[i])\n",
        "  img = imread(img_path,format='jpg')\n",
        "  l.append(img.shape)\n",
        "l=np.array(l)"
      ],
      "execution_count": 0,
      "outputs": []
    },
    {
      "cell_type": "code",
      "metadata": {
        "id": "HSIurJn7Ef0C",
        "colab_type": "code",
        "outputId": "24093195-f878-4285-9d62-7312e9fb0b8f",
        "colab": {
          "base_uri": "https://localhost:8080/",
          "height": 67
        }
      },
      "source": [
        "print(min(l[:,0]),min(l[:,1]))\n",
        "print(max(l[:,0]),max(l[:,1]))\n",
        "print(mean(l[:,0]),mean(l[:,1]))"
      ],
      "execution_count": 0,
      "outputs": [
        {
          "output_type": "stream",
          "text": [
            "11 8\n",
            "713 724\n",
            "125.46724605646538 99.01070029136943\n"
          ],
          "name": "stdout"
        }
      ]
    },
    {
      "cell_type": "markdown",
      "metadata": {
        "id": "y9tmNFakFps2",
        "colab_type": "text"
      },
      "source": [
        "# Building datasets and dataloaders before training"
      ]
    },
    {
      "cell_type": "code",
      "metadata": {
        "id": "LtqC04lP-Fvi",
        "colab_type": "code",
        "colab": {}
      },
      "source": [
        "class dataset(Dataset):\n",
        "  def __init__(self, csv_file, dir_path, phase):\n",
        "    self.csv_file = csv_file\n",
        "    self.dir_path = dir_path\n",
        "    self.phase = phase\n",
        "    self.transform = get_transforms(self.phase)\n",
        "\n",
        "  def __len__(self):\n",
        "    return len(self.csv_file)\n",
        "\n",
        "  def __getitem__(self,idx):\n",
        "    img_path = os.path.join(self.dir_path, self.csv_file.iloc[idx, 0])\n",
        "    image = imread(img_path)\n",
        "    label = label_assign[self.csv_file.iloc[idx, 1]]\n",
        "    aug_img = self.transform(image=image)\n",
        "    image = aug_img[\"image\"]\n",
        "    return image,label\n",
        "\n",
        "def get_transforms(phase):\n",
        "  t_list=[]\n",
        "  if phase=='train':\n",
        "    t_list.extend([RandomBrightness(limit=0.8, p=0.5),\n",
        "                   Rotate(limit=25, p=0.5),\n",
        "                   RGBShift(r_shift_limit=50, g_shift_limit=30, b_shift_limit=40, p=0.5),\n",
        "                   RandomGamma(gamma_limit=(80,165), p=0.5),\n",
        "                   HorizontalFlip(p=0.5),\n",
        "                   HueSaturationValue(hue_shift_limit=10, sat_shift_limit=30, val_shift_limit=30, p=0.5),\n",
        "                   RandomContrast(limit=0.5, p=0.5),\n",
        "                   RandomBrightnessContrast(brightness_limit=0.2, contrast_limit=0.2, p=0.5)\n",
        "                   ])\n",
        "  t_list.extend([Resize(128, 100, interpolation=1, p=1),    ## 16x16, 64x64 , 128x100\n",
        "                 Normalize(mean=(0.485, 0.456, 0.406), std=(0.229, 0.224, 0.225), max_pixel_value=255.0, p=1.0),\n",
        "                 ToTensor()])\n",
        "  return  Compose(t_list)"
      ],
      "execution_count": 0,
      "outputs": []
    },
    {
      "cell_type": "code",
      "metadata": {
        "id": "FcnzelbqB_2V",
        "colab_type": "code",
        "outputId": "567f2f67-ca36-4cf7-9ba0-41f9a50e693e",
        "colab": {
          "base_uri": "https://localhost:8080/",
          "height": 34
        }
      },
      "source": [
        "### creating train and test datasets\n",
        "train_dataset = dataset(train_csv,'/content/Train/','train')\n",
        "test_dataset = dataset(test_csv,'/content/Test/','test')\n",
        "val_dataset = dataset(val_csv,'/content/Train/','val')\n",
        "dataset_sizes={'train':len(train_dataset),'val':len(val_dataset),'test':len(test_dataset)}\n",
        "print(dataset_sizes)"
      ],
      "execution_count": 118,
      "outputs": [
        {
          "output_type": "stream",
          "text": [
            "{'train': 18711, 'val': 1195, 'test': 6636}\n"
          ],
          "name": "stdout"
        }
      ]
    },
    {
      "cell_type": "code",
      "metadata": {
        "id": "DUVSGOI7aNSe",
        "colab_type": "code",
        "outputId": "1adc6315-79a3-478b-bd68-fbb18286c9d8",
        "colab": {
          "base_uri": "https://localhost:8080/",
          "height": 403
        }
      },
      "source": [
        "### visualising datasets\n",
        "a=randint(0,1700)\n",
        "print(\"VISUALISING TRAIN DATASET\")\n",
        "for i in range(a,a+10):\n",
        "  image, label = train_dataset[i]\n",
        "  print(i,'\\t', image.shape,'\\t', label)\n",
        "print(\"\\nVISUALISING TEST DATASET\")\n",
        "b=randint(0,6625)\n",
        "for i in range(b,b+10):\n",
        "  image, label = test_dataset[i]\n",
        "  print(i,'\\t', image.shape,'\\t', label)"
      ],
      "execution_count": 119,
      "outputs": [
        {
          "output_type": "stream",
          "text": [
            "VISUALISING TRAIN DATASET\n",
            "68 \t torch.Size([3, 128, 100]) \t 0\n",
            "69 \t torch.Size([3, 128, 100]) \t 2\n",
            "70 \t torch.Size([3, 128, 100]) \t 2\n",
            "71 \t torch.Size([3, 128, 100]) \t 1\n",
            "72 \t torch.Size([3, 128, 100]) \t 1\n",
            "73 \t torch.Size([3, 128, 100]) \t 0\n",
            "74 \t torch.Size([3, 128, 100]) \t 0\n",
            "75 \t torch.Size([3, 128, 100]) \t 1\n",
            "76 \t torch.Size([3, 128, 100]) \t 1\n",
            "77 \t torch.Size([3, 128, 100]) \t 1\n",
            "\n",
            "VISUALISING TEST DATASET\n",
            "5692 \t torch.Size([3, 128, 100]) \t 1\n",
            "5693 \t torch.Size([3, 128, 100]) \t 1\n",
            "5694 \t torch.Size([3, 128, 100]) \t 1\n",
            "5695 \t torch.Size([3, 128, 100]) \t 1\n",
            "5696 \t torch.Size([3, 128, 100]) \t 1\n",
            "5697 \t torch.Size([3, 128, 100]) \t 1\n",
            "5698 \t torch.Size([3, 128, 100]) \t 1\n",
            "5699 \t torch.Size([3, 128, 100]) \t 1\n",
            "5700 \t torch.Size([3, 128, 100]) \t 1\n",
            "5701 \t torch.Size([3, 128, 100]) \t 1\n"
          ],
          "name": "stdout"
        }
      ]
    },
    {
      "cell_type": "code",
      "metadata": {
        "id": "Xxb-q1OsUBML",
        "colab_type": "code",
        "colab": {}
      },
      "source": [
        "dataloader={}\n",
        "dataloader['train'] = DataLoader(train_dataset, batch_size=256, shuffle=True, num_workers=1)\n",
        "dataloader['test'] = DataLoader(test_dataset, batch_size=512, shuffle=False, num_workers=1)\n",
        "dataloader['val'] = DataLoader(val_dataset, batch_size=256, shuffle=True, num_workers=1)"
      ],
      "execution_count": 0,
      "outputs": []
    },
    {
      "cell_type": "code",
      "metadata": {
        "id": "2djqGSTGbG5d",
        "colab_type": "code",
        "outputId": "b961b819-84f6-4e02-bcda-f3594959b3db",
        "colab": {
          "base_uri": "https://localhost:8080/",
          "height": 386
        }
      },
      "source": [
        "### visualing batches\n",
        "def show_batch(sample_batch):\n",
        "  img_batch,label_batch = sample_batch\n",
        "  print('batch size--',len(img_batch))\n",
        "  print('img size--',img_batch.size(2))\n",
        "  grid_border_size = 2\n",
        "  grid = torchvision.utils.make_grid(img_batch)\n",
        "  plt.imshow(grid.numpy().transpose((1, 2, 0)))\n",
        "\n",
        "for i, sample_batch in enumerate(dataloader['train']):\n",
        "  img, label = sample_batch\n",
        "  print(i, img.size(), label.shape)\n",
        "  if i==3:\n",
        "    show_batch(sample_batch)\n",
        "    break"
      ],
      "execution_count": 121,
      "outputs": [
        {
          "output_type": "stream",
          "text": [
            "0 torch.Size([256, 3, 128, 100]) torch.Size([256])\n",
            "1 torch.Size([256, 3, 128, 100]) torch.Size([256])\n",
            "2 torch.Size([256, 3, 128, 100]) torch.Size([256])\n"
          ],
          "name": "stdout"
        },
        {
          "output_type": "stream",
          "text": [
            "Clipping input data to the valid range for imshow with RGB data ([0..1] for floats or [0..255] for integers).\n"
          ],
          "name": "stderr"
        },
        {
          "output_type": "stream",
          "text": [
            "3 torch.Size([256, 3, 128, 100]) torch.Size([256])\n",
            "batch size-- 256\n",
            "img size-- 128\n"
          ],
          "name": "stdout"
        },
        {
          "output_type": "display_data",
          "data": {
            "image/png": "[encoded data removed]",
            "text/plain": [
              "<Figure size 432x288 with 1 Axes>"
            ]
          },
          "metadata": {
            "tags": [],
            "needs_background": "light"
          }
        }
      ]
    },
    {
      "cell_type": "markdown",
      "metadata": {
        "id": "qfADvrlVQKNm",
        "colab_type": "text"
      },
      "source": [
        "# Trainer"
      ]
    },
    {
      "cell_type": "code",
      "metadata": {
        "id": "oZlxMge2rJRc",
        "colab_type": "code",
        "colab": {}
      },
      "source": [
        "def train_model(model, criterion, optimizer, scheduler, num_epochs=25):\n",
        "    since = time.time()\n",
        "    latest_model_wts = copy.deepcopy(model.state_dict())\n",
        "    best_model_wts = copy.deepcopy(model.state_dict())\n",
        "    best_acc = 0.0\n",
        "\n",
        "    for epoch in range(num_epochs):\n",
        "        print('Epoch {}/{}'.format(epoch, num_epochs - 1))\n",
        "        print('-' * 10)\n",
        "\n",
        "        # Each epoch has a training and validation phase\n",
        "        for phase in ['train', 'val']:\n",
        "            if phase == 'train':\n",
        "                model.train()  # Set model to training mode\n",
        "            else:\n",
        "                model.eval()   # Set model to evaluate mode\n",
        "\n",
        "            running_loss = 0.0\n",
        "            running_corrects = 0\n",
        "\n",
        "            # Iterate over data.\n",
        "            for img_batch, labels in dataloader[phase]:\n",
        "                img_batch = img_batch.to(device)\n",
        "                labels = labels.to(device)\n",
        "\n",
        "                # zero the parameter gradients\n",
        "                optimizer.zero_grad()\n",
        "\n",
        "                # forward\n",
        "                # track history if only in train\n",
        "                with torch.set_grad_enabled(phase == 'train'):\n",
        "                    outputs = model(img_batch)\n",
        "                    _, preds = torch.max(outputs, 1)\n",
        "                    loss = criterion(outputs, labels)\n",
        "\n",
        "                    # backward + optimize only if in training phase\n",
        "                    if phase == 'train':\n",
        "                        loss.backward()\n",
        "                        optimizer.step()\n",
        "\n",
        "                # statistics\n",
        "                running_loss += loss.item() * img_batch.size(0)\n",
        "                running_corrects += torch.sum(preds == labels.data)\n",
        "            if phase == 'train':\n",
        "                scheduler.step()\n",
        "\n",
        "            epoch_loss = running_loss / dataset_sizes[phase]\n",
        "            epoch_acc = running_corrects.double() / dataset_sizes[phase]\n",
        "\n",
        "            print('{} Loss: {:.4f} Acc: {:.4f}'.format(\n",
        "                phase, epoch_loss, epoch_acc))\n",
        "\n",
        "            # deep copy the model\n",
        "            latest_model_wts = copy.deepcopy(model.state_dict())\n",
        "            if phase == 'val' and epoch_acc > best_acc:\n",
        "                best_acc = epoch_acc\n",
        "                best_model_wts = copy.deepcopy(model.state_dict())\n",
        "\n",
        "        print()\n",
        "\n",
        "    time_elapsed = time.time() - since\n",
        "    print('Training complete in {:.0f}m {:.0f}s'.format(\n",
        "        time_elapsed // 60, time_elapsed % 60))\n",
        "    print('Best val Acc: {:4f}'.format(best_acc))\n",
        "    # load best model weights\n",
        "    model.load_state_dict(best_model_wts)\n",
        "    return model"
      ],
      "execution_count": 0,
      "outputs": []
    },
    {
      "cell_type": "markdown",
      "metadata": {
        "id": "33zCbo8VQXad",
        "colab_type": "text"
      },
      "source": [
        "# Training model with freeze"
      ]
    },
    {
      "cell_type": "code",
      "metadata": {
        "id": "Jc1EPN-Y2nu6",
        "colab_type": "code",
        "colab": {
          "base_uri": "https://localhost:8080/",
          "height": 1000
        },
        "outputId": "bb882eae-7412-4c97-bd1e-1e3ee130a58a"
      },
      "source": [
        "# lr_list = np.random.rand(20)\n",
        "# lr_list = 10**(-5*lr_list)\n",
        "# for lr in lr_list:\n",
        "#   print('***********\\tLR =',lr,'\\t************')\n",
        "model = models.resnet18(pretrained=True)\n",
        "for param in model.parameters():\n",
        "    param.requires_grad = False\n",
        "num_ftrs = model.fc.in_features\n",
        "model.fc = nn.Linear(num_ftrs, 3)\n",
        "\n",
        "device = torch.device(\"cuda\")\n",
        "model = model.to(device)\n",
        "\n",
        "criterion = nn.CrossEntropyLoss()\n",
        "optimizer = optim.SGD(model.parameters(), lr=0.004, momentum=0.9, nesterov=True)\n",
        "# Decay LR by a factor of 0.1 every 7 epochs\n",
        "exp_lr_scheduler = lr_scheduler.StepLR(optimizer, step_size=7, gamma=0.1)\n",
        "\n",
        "\n",
        "best_model = train_model(model, criterion, optimizer, exp_lr_scheduler, num_epochs=13)"
      ],
      "execution_count": 123,
      "outputs": [
        {
          "output_type": "stream",
          "text": [
            "Epoch 0/12\n",
            "----------\n",
            "train Loss: 0.9030 Acc: 0.5903\n",
            "val Loss: 0.8016 Acc: 0.6460\n",
            "\n",
            "Epoch 1/12\n",
            "----------\n",
            "train Loss: 0.8345 Acc: 0.6296\n",
            "val Loss: 0.7904 Acc: 0.6502\n",
            "\n",
            "Epoch 2/12\n",
            "----------\n",
            "train Loss: 0.8133 Acc: 0.6380\n",
            "val Loss: 0.8146 Acc: 0.6427\n",
            "\n",
            "Epoch 3/12\n",
            "----------\n",
            "train Loss: 0.8080 Acc: 0.6434\n",
            "val Loss: 0.8243 Acc: 0.6318\n",
            "\n",
            "Epoch 4/12\n",
            "----------\n",
            "train Loss: 0.8077 Acc: 0.6408\n",
            "val Loss: 0.7857 Acc: 0.6460\n",
            "\n",
            "Epoch 5/12\n",
            "----------\n",
            "train Loss: 0.8019 Acc: 0.6440\n",
            "val Loss: 0.8528 Acc: 0.6084\n",
            "\n",
            "Epoch 6/12\n",
            "----------\n",
            "train Loss: 0.8113 Acc: 0.6368\n",
            "val Loss: 0.7821 Acc: 0.6527\n",
            "\n",
            "Epoch 7/12\n",
            "----------\n",
            "train Loss: 0.8014 Acc: 0.6415\n",
            "val Loss: 0.7647 Acc: 0.6728\n",
            "\n",
            "Epoch 8/12\n",
            "----------\n",
            "train Loss: 0.7961 Acc: 0.6483\n",
            "val Loss: 0.7664 Acc: 0.6669\n",
            "\n",
            "Epoch 9/12\n",
            "----------\n",
            "train Loss: 0.7959 Acc: 0.6470\n",
            "val Loss: 0.7607 Acc: 0.6736\n",
            "\n",
            "Epoch 10/12\n",
            "----------\n",
            "train Loss: 0.7892 Acc: 0.6510\n",
            "val Loss: 0.7620 Acc: 0.6711\n",
            "\n",
            "Epoch 11/12\n",
            "----------\n",
            "train Loss: 0.7896 Acc: 0.6520\n",
            "val Loss: 0.7622 Acc: 0.6762\n",
            "\n",
            "Epoch 12/12\n",
            "----------\n",
            "train Loss: 0.7932 Acc: 0.6528\n",
            "val Loss: 0.7611 Acc: 0.6644\n",
            "\n",
            "Training complete in 12m 16s\n",
            "Best val Acc: 0.676151\n"
          ],
          "name": "stdout"
        }
      ]
    },
    {
      "cell_type": "markdown",
      "metadata": {
        "id": "c8u-GimZQh9g",
        "colab_type": "text"
      },
      "source": [
        "# Unfreeze and training (fine tuning)"
      ]
    },
    {
      "cell_type": "code",
      "metadata": {
        "id": "cRB599HdVivN",
        "colab_type": "code",
        "colab": {}
      },
      "source": [
        "model = best_model\n",
        "for param in model.parameters():\n",
        "    param.requires_grad = True\n",
        "\n",
        "device = torch.device(\"cuda\")\n",
        "model = model.to(device)\n",
        "\n",
        "criterion = nn.CrossEntropyLoss()\n",
        "optimizer = optim.SGD(model.parameters(), lr=0.01, momentum=0.9, nesterov=True)\n",
        "# Decay LR by a factor of 0.1 every 7 epochs\n",
        "exp_lr_scheduler = lr_scheduler.StepLR(optimizer, step_size=20, gamma=0.1)"
      ],
      "execution_count": 0,
      "outputs": []
    },
    {
      "cell_type": "code",
      "metadata": {
        "id": "eyYNAnvJpZs5",
        "colab_type": "code",
        "colab": {
          "base_uri": "https://localhost:8080/",
          "height": 1000
        },
        "outputId": "4f9f74c1-f291-48a6-f738-828956586698"
      },
      "source": [
        "new_model = train_model(model, criterion, optimizer, exp_lr_scheduler, num_epochs=50)"
      ],
      "execution_count": 125,
      "outputs": [
        {
          "output_type": "stream",
          "text": [
            "Epoch 0/49\n",
            "----------\n",
            "train Loss: 0.7538 Acc: 0.6830\n",
            "val Loss: 0.8249 Acc: 0.6285\n",
            "\n",
            "Epoch 1/49\n",
            "----------\n",
            "train Loss: 0.5942 Acc: 0.7470\n",
            "val Loss: 0.5928 Acc: 0.7523\n",
            "\n",
            "Epoch 2/49\n",
            "----------\n",
            "train Loss: 0.5106 Acc: 0.7862\n",
            "val Loss: 0.4721 Acc: 0.8084\n",
            "\n",
            "Epoch 3/49\n",
            "----------\n",
            "train Loss: 0.4349 Acc: 0.8224\n",
            "val Loss: 0.4991 Acc: 0.8033\n",
            "\n",
            "Epoch 4/49\n",
            "----------\n",
            "train Loss: 0.3797 Acc: 0.8466\n",
            "val Loss: 0.4221 Acc: 0.8310\n",
            "\n",
            "Epoch 5/49\n",
            "----------\n",
            "train Loss: 0.3372 Acc: 0.8637\n",
            "val Loss: 0.4039 Acc: 0.8502\n",
            "\n",
            "Epoch 6/49\n",
            "----------\n",
            "train Loss: 0.3101 Acc: 0.8750\n",
            "val Loss: 0.3775 Acc: 0.8561\n",
            "\n",
            "Epoch 7/49\n",
            "----------\n",
            "train Loss: 0.2814 Acc: 0.8876\n",
            "val Loss: 0.3426 Acc: 0.8695\n",
            "\n",
            "Epoch 8/49\n",
            "----------\n",
            "train Loss: 0.2441 Acc: 0.9037\n",
            "val Loss: 0.4279 Acc: 0.8435\n",
            "\n",
            "Epoch 9/49\n",
            "----------\n",
            "train Loss: 0.2336 Acc: 0.9099\n",
            "val Loss: 0.3970 Acc: 0.8569\n",
            "\n",
            "Epoch 10/49\n",
            "----------\n",
            "train Loss: 0.2141 Acc: 0.9182\n",
            "val Loss: 0.3933 Acc: 0.8636\n",
            "\n",
            "Epoch 11/49\n",
            "----------\n",
            "train Loss: 0.1944 Acc: 0.9241\n",
            "val Loss: 0.3675 Acc: 0.8753\n",
            "\n",
            "Epoch 12/49\n",
            "----------\n",
            "train Loss: 0.2068 Acc: 0.9204\n",
            "val Loss: 0.3654 Acc: 0.8770\n",
            "\n",
            "Epoch 13/49\n",
            "----------\n",
            "train Loss: 0.1814 Acc: 0.9304\n",
            "val Loss: 0.4055 Acc: 0.8586\n",
            "\n",
            "Epoch 14/49\n",
            "----------\n",
            "train Loss: 0.1792 Acc: 0.9325\n",
            "val Loss: 0.3632 Acc: 0.8795\n",
            "\n",
            "Epoch 15/49\n",
            "----------\n",
            "train Loss: 0.1485 Acc: 0.9447\n",
            "val Loss: 0.3557 Acc: 0.8854\n",
            "\n",
            "Epoch 16/49\n",
            "----------\n",
            "train Loss: 0.1359 Acc: 0.9489\n",
            "val Loss: 0.3972 Acc: 0.8879\n",
            "\n",
            "Epoch 17/49\n",
            "----------\n",
            "train Loss: 0.1396 Acc: 0.9471\n",
            "val Loss: 0.3735 Acc: 0.8912\n",
            "\n",
            "Epoch 18/49\n",
            "----------\n",
            "train Loss: 0.1277 Acc: 0.9516\n",
            "val Loss: 0.4123 Acc: 0.8812\n",
            "\n",
            "Epoch 19/49\n",
            "----------\n",
            "train Loss: 0.1234 Acc: 0.9532\n",
            "val Loss: 0.4110 Acc: 0.8845\n",
            "\n",
            "Epoch 20/49\n",
            "----------\n",
            "train Loss: 0.0892 Acc: 0.9671\n",
            "val Loss: 0.3262 Acc: 0.9004\n",
            "\n",
            "Epoch 21/49\n",
            "----------\n",
            "train Loss: 0.0775 Acc: 0.9726\n",
            "val Loss: 0.3194 Acc: 0.8987\n",
            "\n",
            "Epoch 22/49\n",
            "----------\n",
            "train Loss: 0.0717 Acc: 0.9749\n",
            "val Loss: 0.3163 Acc: 0.9029\n",
            "\n",
            "Epoch 23/49\n",
            "----------\n",
            "train Loss: 0.0686 Acc: 0.9755\n",
            "val Loss: 0.3099 Acc: 0.9038\n",
            "\n",
            "Epoch 24/49\n",
            "----------\n",
            "train Loss: 0.0687 Acc: 0.9763\n",
            "val Loss: 0.3158 Acc: 0.9088\n",
            "\n",
            "Epoch 25/49\n",
            "----------\n",
            "train Loss: 0.0642 Acc: 0.9757\n",
            "val Loss: 0.3084 Acc: 0.9071\n",
            "\n",
            "Epoch 26/49\n",
            "----------\n",
            "train Loss: 0.0624 Acc: 0.9790\n",
            "val Loss: 0.3193 Acc: 0.9096\n",
            "\n",
            "Epoch 27/49\n",
            "----------\n",
            "train Loss: 0.0537 Acc: 0.9812\n",
            "val Loss: 0.3117 Acc: 0.9105\n",
            "\n",
            "Epoch 28/49\n",
            "----------\n",
            "train Loss: 0.0590 Acc: 0.9796\n",
            "val Loss: 0.3114 Acc: 0.9096\n",
            "\n",
            "Epoch 29/49\n",
            "----------\n",
            "train Loss: 0.0549 Acc: 0.9804\n",
            "val Loss: 0.3168 Acc: 0.9079\n",
            "\n",
            "Epoch 30/49\n",
            "----------\n",
            "train Loss: 0.0545 Acc: 0.9813\n",
            "val Loss: 0.3206 Acc: 0.9054\n",
            "\n",
            "Epoch 31/49\n",
            "----------\n",
            "train Loss: 0.0522 Acc: 0.9820\n",
            "val Loss: 0.3201 Acc: 0.9079\n",
            "\n",
            "Epoch 32/49\n",
            "----------\n",
            "train Loss: 0.0544 Acc: 0.9799\n",
            "val Loss: 0.3150 Acc: 0.9113\n",
            "\n",
            "Epoch 33/49\n",
            "----------\n",
            "train Loss: 0.0525 Acc: 0.9807\n",
            "val Loss: 0.3197 Acc: 0.9079\n",
            "\n",
            "Epoch 34/49\n",
            "----------\n",
            "train Loss: 0.0474 Acc: 0.9837\n",
            "val Loss: 0.3205 Acc: 0.9054\n",
            "\n",
            "Epoch 35/49\n",
            "----------\n",
            "train Loss: 0.0467 Acc: 0.9830\n",
            "val Loss: 0.3201 Acc: 0.9105\n",
            "\n",
            "Epoch 36/49\n",
            "----------\n",
            "train Loss: 0.0477 Acc: 0.9833\n",
            "val Loss: 0.3309 Acc: 0.9063\n",
            "\n",
            "Epoch 37/49\n",
            "----------\n",
            "train Loss: 0.0489 Acc: 0.9836\n",
            "val Loss: 0.3197 Acc: 0.9130\n",
            "\n",
            "Epoch 38/49\n",
            "----------\n",
            "train Loss: 0.0476 Acc: 0.9834\n",
            "val Loss: 0.3127 Acc: 0.9079\n",
            "\n",
            "Epoch 39/49\n",
            "----------\n",
            "train Loss: 0.0414 Acc: 0.9851\n",
            "val Loss: 0.3215 Acc: 0.9079\n",
            "\n",
            "Epoch 40/49\n",
            "----------\n",
            "train Loss: 0.0422 Acc: 0.9851\n",
            "val Loss: 0.3193 Acc: 0.9079\n",
            "\n",
            "Epoch 41/49\n",
            "----------\n",
            "train Loss: 0.0443 Acc: 0.9847\n",
            "val Loss: 0.3171 Acc: 0.9054\n",
            "\n",
            "Epoch 42/49\n",
            "----------\n",
            "train Loss: 0.0468 Acc: 0.9840\n",
            "val Loss: 0.3251 Acc: 0.9121\n",
            "\n",
            "Epoch 43/49\n",
            "----------\n",
            "train Loss: 0.0430 Acc: 0.9846\n",
            "val Loss: 0.3199 Acc: 0.9121\n",
            "\n",
            "Epoch 44/49\n",
            "----------\n",
            "train Loss: 0.0441 Acc: 0.9846\n",
            "val Loss: 0.3175 Acc: 0.9096\n",
            "\n",
            "Epoch 45/49\n",
            "----------\n",
            "train Loss: 0.0441 Acc: 0.9835\n",
            "val Loss: 0.3262 Acc: 0.9121\n",
            "\n",
            "Epoch 46/49\n",
            "----------\n",
            "train Loss: 0.0463 Acc: 0.9847\n",
            "val Loss: 0.3217 Acc: 0.9105\n",
            "\n",
            "Epoch 47/49\n",
            "----------\n",
            "train Loss: 0.0409 Acc: 0.9854\n",
            "val Loss: 0.3203 Acc: 0.9088\n",
            "\n",
            "Epoch 48/49\n",
            "----------\n",
            "train Loss: 0.0430 Acc: 0.9852\n",
            "val Loss: 0.3253 Acc: 0.9105\n",
            "\n",
            "Epoch 49/49\n",
            "----------\n",
            "train Loss: 0.0395 Acc: 0.9864\n",
            "val Loss: 0.3215 Acc: 0.9121\n",
            "\n",
            "Training complete in 49m 24s\n",
            "Best val Acc: 0.912971\n"
          ],
          "name": "stdout"
        }
      ]
    },
    {
      "cell_type": "markdown",
      "metadata": {
        "id": "H4xZcA6uQzHU",
        "colab_type": "text"
      },
      "source": [
        "# Prediction on test "
      ]
    },
    {
      "cell_type": "code",
      "metadata": {
        "id": "nyHWPDrYRKCw",
        "colab_type": "code",
        "colab": {}
      },
      "source": [
        "label_decoding={0:'YOUNG',1:'MIDDLE',2:'OLD'}"
      ],
      "execution_count": 0,
      "outputs": []
    },
    {
      "cell_type": "code",
      "metadata": {
        "id": "_YxVhMHBLuqj",
        "colab_type": "code",
        "colab": {
          "base_uri": "https://localhost:8080/",
          "height": 34
        },
        "outputId": "203a9094-4627-47d4-ab28-a234995f4c84"
      },
      "source": [
        "prediction = torch.tensor([],dtype=torch.int64)\n",
        "prediction = prediction.to(device)\n",
        "for inputs, labels in dataloader['test']:\n",
        "            inputs = inputs.to(device)\n",
        "            labels = labels.to(device)\n",
        "            \n",
        "            outputs = new_model(inputs)\n",
        "            _, preds = torch.max(outputs, 1)\n",
        "            #print(type(preds),preds.shape,preds.dtype,preds.device)\n",
        "            prediction = torch.cat((prediction,preds),0)\n",
        "            #print(prediction.shape,prediction.device)\n",
        "print(prediction.shape)"
      ],
      "execution_count": 127,
      "outputs": [
        {
          "output_type": "stream",
          "text": [
            "torch.Size([6636])\n"
          ],
          "name": "stdout"
        }
      ]
    },
    {
      "cell_type": "code",
      "metadata": {
        "id": "5BnulH5dXCfd",
        "colab_type": "code",
        "colab": {
          "base_uri": "https://localhost:8080/",
          "height": 34
        },
        "outputId": "e5a768be-8378-4fcd-8fa3-634a4f5edfb1"
      },
      "source": [
        "sub_csv = test_csv.copy()\n",
        "prediction = prediction.to('cpu')\n",
        "print(prediction.device)\n",
        "for i in range(len(prediction)):\n",
        "  sub_csv.Class[i] = label_decoding[int(prediction[i])]"
      ],
      "execution_count": 128,
      "outputs": [
        {
          "output_type": "stream",
          "text": [
            "cpu\n"
          ],
          "name": "stdout"
        }
      ]
    },
    {
      "cell_type": "code",
      "metadata": {
        "id": "_ETLJEb-b6EW",
        "colab_type": "code",
        "colab": {
          "base_uri": "https://localhost:8080/",
          "height": 195
        },
        "outputId": "5930c08e-b224-4b00-a47e-765954e6110b"
      },
      "source": [
        "test_csv.head()"
      ],
      "execution_count": 129,
      "outputs": [
        {
          "output_type": "execute_result",
          "data": {
            "text/html": [
              "<div>\n",
              "<style scoped>\n",
              "    .dataframe tbody tr th:only-of-type {\n",
              "        vertical-align: middle;\n",
              "    }\n",
              "\n",
              "    .dataframe tbody tr th {\n",
              "        vertical-align: top;\n",
              "    }\n",
              "\n",
              "    .dataframe thead th {\n",
              "        text-align: right;\n",
              "    }\n",
              "</style>\n",
              "<table border=\"1\" class=\"dataframe\">\n",
              "  <thead>\n",
              "    <tr style=\"text-align: right;\">\n",
              "      <th></th>\n",
              "      <th>ID</th>\n",
              "      <th>Class</th>\n",
              "    </tr>\n",
              "  </thead>\n",
              "  <tbody>\n",
              "    <tr>\n",
              "      <th>0</th>\n",
              "      <td>25321.jpg</td>\n",
              "      <td>MIDDLE</td>\n",
              "    </tr>\n",
              "    <tr>\n",
              "      <th>1</th>\n",
              "      <td>989.jpg</td>\n",
              "      <td>MIDDLE</td>\n",
              "    </tr>\n",
              "    <tr>\n",
              "      <th>2</th>\n",
              "      <td>19277.jpg</td>\n",
              "      <td>MIDDLE</td>\n",
              "    </tr>\n",
              "    <tr>\n",
              "      <th>3</th>\n",
              "      <td>13093.jpg</td>\n",
              "      <td>MIDDLE</td>\n",
              "    </tr>\n",
              "    <tr>\n",
              "      <th>4</th>\n",
              "      <td>5367.jpg</td>\n",
              "      <td>MIDDLE</td>\n",
              "    </tr>\n",
              "  </tbody>\n",
              "</table>\n",
              "</div>"
            ],
            "text/plain": [
              "          ID   Class\n",
              "0  25321.jpg  MIDDLE\n",
              "1    989.jpg  MIDDLE\n",
              "2  19277.jpg  MIDDLE\n",
              "3  13093.jpg  MIDDLE\n",
              "4   5367.jpg  MIDDLE"
            ]
          },
          "metadata": {
            "tags": []
          },
          "execution_count": 129
        }
      ]
    },
    {
      "cell_type": "code",
      "metadata": {
        "id": "RJjY6JfGcEAU",
        "colab_type": "code",
        "colab": {
          "base_uri": "https://localhost:8080/",
          "height": 195
        },
        "outputId": "a96591e4-80e6-4d28-8992-71b245bb79ec"
      },
      "source": [
        "sub_csv.head()"
      ],
      "execution_count": 130,
      "outputs": [
        {
          "output_type": "execute_result",
          "data": {
            "text/html": [
              "<div>\n",
              "<style scoped>\n",
              "    .dataframe tbody tr th:only-of-type {\n",
              "        vertical-align: middle;\n",
              "    }\n",
              "\n",
              "    .dataframe tbody tr th {\n",
              "        vertical-align: top;\n",
              "    }\n",
              "\n",
              "    .dataframe thead th {\n",
              "        text-align: right;\n",
              "    }\n",
              "</style>\n",
              "<table border=\"1\" class=\"dataframe\">\n",
              "  <thead>\n",
              "    <tr style=\"text-align: right;\">\n",
              "      <th></th>\n",
              "      <th>ID</th>\n",
              "      <th>Class</th>\n",
              "    </tr>\n",
              "  </thead>\n",
              "  <tbody>\n",
              "    <tr>\n",
              "      <th>0</th>\n",
              "      <td>25321.jpg</td>\n",
              "      <td>MIDDLE</td>\n",
              "    </tr>\n",
              "    <tr>\n",
              "      <th>1</th>\n",
              "      <td>989.jpg</td>\n",
              "      <td>YOUNG</td>\n",
              "    </tr>\n",
              "    <tr>\n",
              "      <th>2</th>\n",
              "      <td>19277.jpg</td>\n",
              "      <td>MIDDLE</td>\n",
              "    </tr>\n",
              "    <tr>\n",
              "      <th>3</th>\n",
              "      <td>13093.jpg</td>\n",
              "      <td>MIDDLE</td>\n",
              "    </tr>\n",
              "    <tr>\n",
              "      <th>4</th>\n",
              "      <td>5367.jpg</td>\n",
              "      <td>MIDDLE</td>\n",
              "    </tr>\n",
              "  </tbody>\n",
              "</table>\n",
              "</div>"
            ],
            "text/plain": [
              "          ID   Class\n",
              "0  25321.jpg  MIDDLE\n",
              "1    989.jpg   YOUNG\n",
              "2  19277.jpg  MIDDLE\n",
              "3  13093.jpg  MIDDLE\n",
              "4   5367.jpg  MIDDLE"
            ]
          },
          "metadata": {
            "tags": []
          },
          "execution_count": 130
        }
      ]
    },
    {
      "cell_type": "code",
      "metadata": {
        "id": "706505Aqdfa2",
        "colab_type": "code",
        "colab": {}
      },
      "source": [
        "sub_csv.to_csv('/content/sample_submission_sDO3m7O.csv',index=False)"
      ],
      "execution_count": 0,
      "outputs": []
    },
    {
      "cell_type": "code",
      "metadata": {
        "id": "kFZYqWjxxcH2",
        "colab_type": "code",
        "colab": {}
      },
      "source": [
        ""
      ],
      "execution_count": 0,
      "outputs": []
    }
  ]
}