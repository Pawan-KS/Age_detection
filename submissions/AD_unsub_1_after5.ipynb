{
  "nbformat": 4,
  "nbformat_minor": 0,
  "metadata": {
    "colab": {
      "name": "Age_detection_1.ipynb",
      "provenance": [],
      "collapsed_sections": []
    },
    "kernelspec": {
      "name": "python3",
      "display_name": "Python 3"
    },
    "accelerator": "GPU",
    "widgets": {
      "application/vnd.jupyter.widget-state+json": {
        "f2aaf12222c046b69250508bbe3bd7b9": {
          "model_module": "@jupyter-widgets/controls",
          "model_name": "HBoxModel",
          "state": {
            "_view_name": "HBoxView",
            "_dom_classes": [],
            "_model_name": "HBoxModel",
            "_view_module": "@jupyter-widgets/controls",
            "_model_module_version": "1.5.0",
            "_view_count": null,
            "_view_module_version": "1.5.0",
            "box_style": "",
            "layout": "IPY_MODEL_b1d0f454278d47e7a48af0142e53a8be",
            "_model_module": "@jupyter-widgets/controls",
            "children": [
              "IPY_MODEL_9bd9c599c4554e288353f487db05702f",
              "IPY_MODEL_894813d7891148fdb658dd678863de99"
            ]
          }
        },
        "b1d0f454278d47e7a48af0142e53a8be": {
          "model_module": "@jupyter-widgets/base",
          "model_name": "LayoutModel",
          "state": {
            "_view_name": "LayoutView",
            "grid_template_rows": null,
            "right": null,
            "justify_content": null,
            "_view_module": "@jupyter-widgets/base",
            "overflow": null,
            "_model_module_version": "1.2.0",
            "_view_count": null,
            "flex_flow": null,
            "width": null,
            "min_width": null,
            "border": null,
            "align_items": null,
            "bottom": null,
            "_model_module": "@jupyter-widgets/base",
            "top": null,
            "grid_column": null,
            "overflow_y": null,
            "overflow_x": null,
            "grid_auto_flow": null,
            "grid_area": null,
            "grid_template_columns": null,
            "flex": null,
            "_model_name": "LayoutModel",
            "justify_items": null,
            "grid_row": null,
            "max_height": null,
            "align_content": null,
            "visibility": null,
            "align_self": null,
            "height": null,
            "min_height": null,
            "padding": null,
            "grid_auto_rows": null,
            "grid_gap": null,
            "max_width": null,
            "order": null,
            "_view_module_version": "1.2.0",
            "grid_template_areas": null,
            "object_position": null,
            "object_fit": null,
            "grid_auto_columns": null,
            "margin": null,
            "display": null,
            "left": null
          }
        },
        "9bd9c599c4554e288353f487db05702f": {
          "model_module": "@jupyter-widgets/controls",
          "model_name": "FloatProgressModel",
          "state": {
            "_view_name": "ProgressView",
            "style": "IPY_MODEL_88cf55cc58ce4cbca8f231351d69472d",
            "_dom_classes": [],
            "description": "100%",
            "_model_name": "FloatProgressModel",
            "bar_style": "success",
            "max": 46827520,
            "_view_module": "@jupyter-widgets/controls",
            "_model_module_version": "1.5.0",
            "value": 46827520,
            "_view_count": null,
            "_view_module_version": "1.5.0",
            "orientation": "horizontal",
            "min": 0,
            "description_tooltip": null,
            "_model_module": "@jupyter-widgets/controls",
            "layout": "IPY_MODEL_e4eb55cca58c499db5518277daae15fa"
          }
        },
        "894813d7891148fdb658dd678863de99": {
          "model_module": "@jupyter-widgets/controls",
          "model_name": "HTMLModel",
          "state": {
            "_view_name": "HTMLView",
            "style": "IPY_MODEL_631e2314ba804c75b8d572e5926824da",
            "_dom_classes": [],
            "description": "",
            "_model_name": "HTMLModel",
            "placeholder": "​",
            "_view_module": "@jupyter-widgets/controls",
            "_model_module_version": "1.5.0",
            "value": " 44.7M/44.7M [1:00:40&lt;00:00, 12.9kB/s]",
            "_view_count": null,
            "_view_module_version": "1.5.0",
            "description_tooltip": null,
            "_model_module": "@jupyter-widgets/controls",
            "layout": "IPY_MODEL_d015db5c30c64bbdb2c1cd5e9e95fce2"
          }
        },
        "88cf55cc58ce4cbca8f231351d69472d": {
          "model_module": "@jupyter-widgets/controls",
          "model_name": "ProgressStyleModel",
          "state": {
            "_view_name": "StyleView",
            "_model_name": "ProgressStyleModel",
            "description_width": "initial",
            "_view_module": "@jupyter-widgets/base",
            "_model_module_version": "1.5.0",
            "_view_count": null,
            "_view_module_version": "1.2.0",
            "bar_color": null,
            "_model_module": "@jupyter-widgets/controls"
          }
        },
        "e4eb55cca58c499db5518277daae15fa": {
          "model_module": "@jupyter-widgets/base",
          "model_name": "LayoutModel",
          "state": {
            "_view_name": "LayoutView",
            "grid_template_rows": null,
            "right": null,
            "justify_content": null,
            "_view_module": "@jupyter-widgets/base",
            "overflow": null,
            "_model_module_version": "1.2.0",
            "_view_count": null,
            "flex_flow": null,
            "width": null,
            "min_width": null,
            "border": null,
            "align_items": null,
            "bottom": null,
            "_model_module": "@jupyter-widgets/base",
            "top": null,
            "grid_column": null,
            "overflow_y": null,
            "overflow_x": null,
            "grid_auto_flow": null,
            "grid_area": null,
            "grid_template_columns": null,
            "flex": null,
            "_model_name": "LayoutModel",
            "justify_items": null,
            "grid_row": null,
            "max_height": null,
            "align_content": null,
            "visibility": null,
            "align_self": null,
            "height": null,
            "min_height": null,
            "padding": null,
            "grid_auto_rows": null,
            "grid_gap": null,
            "max_width": null,
            "order": null,
            "_view_module_version": "1.2.0",
            "grid_template_areas": null,
            "object_position": null,
            "object_fit": null,
            "grid_auto_columns": null,
            "margin": null,
            "display": null,
            "left": null
          }
        },
        "631e2314ba804c75b8d572e5926824da": {
          "model_module": "@jupyter-widgets/controls",
          "model_name": "DescriptionStyleModel",
          "state": {
            "_view_name": "StyleView",
            "_model_name": "DescriptionStyleModel",
            "description_width": "",
            "_view_module": "@jupyter-widgets/base",
            "_model_module_version": "1.5.0",
            "_view_count": null,
            "_view_module_version": "1.2.0",
            "_model_module": "@jupyter-widgets/controls"
          }
        },
        "d015db5c30c64bbdb2c1cd5e9e95fce2": {
          "model_module": "@jupyter-widgets/base",
          "model_name": "LayoutModel",
          "state": {
            "_view_name": "LayoutView",
            "grid_template_rows": null,
            "right": null,
            "justify_content": null,
            "_view_module": "@jupyter-widgets/base",
            "overflow": null,
            "_model_module_version": "1.2.0",
            "_view_count": null,
            "flex_flow": null,
            "width": null,
            "min_width": null,
            "border": null,
            "align_items": null,
            "bottom": null,
            "_model_module": "@jupyter-widgets/base",
            "top": null,
            "grid_column": null,
            "overflow_y": null,
            "overflow_x": null,
            "grid_auto_flow": null,
            "grid_area": null,
            "grid_template_columns": null,
            "flex": null,
            "_model_name": "LayoutModel",
            "justify_items": null,
            "grid_row": null,
            "max_height": null,
            "align_content": null,
            "visibility": null,
            "align_self": null,
            "height": null,
            "min_height": null,
            "padding": null,
            "grid_auto_rows": null,
            "grid_gap": null,
            "max_width": null,
            "order": null,
            "_view_module_version": "1.2.0",
            "grid_template_areas": null,
            "object_position": null,
            "object_fit": null,
            "grid_auto_columns": null,
            "margin": null,
            "display": null,
            "left": null
          }
        }
      }
    }
  },
  "cells": [
    {
      "cell_type": "code",
      "metadata": {
        "id": "OcQjSUsi1bFI",
        "colab_type": "code",
        "colab": {}
      },
      "source": [
        "!unzip test_Bh8pGW3.zip\n",
        "!unzip train_DETg9GD.zip"
      ],
      "execution_count": 0,
      "outputs": []
    },
    {
      "cell_type": "code",
      "metadata": {
        "id": "q7WjL1QqDdQV",
        "colab_type": "code",
        "colab": {}
      },
      "source": [
        "import numpy as np\n",
        "import pandas as pd\n",
        "from random import randint\n",
        "import os\n",
        "import torch\n",
        "import torch.nn as nn\n",
        "import torch.nn.functional as F\n",
        "import torchvision\n",
        "from sklearn.model_selection import train_test_split\n",
        "from sklearn.utils import shuffle\n",
        "from torch.utils.data import DataLoader, Dataset\n",
        "from sklearn.metrics import accuracy_score\n",
        "from matplotlib.pyplot import imread\n",
        "from pylab import *\n",
        "from albumentations import (RGBShift,Blur,RandomContrast,HueSaturationValue,RandomGamma,Rotate,RandomBrightness,HorizontalFlip, Normalize, Resize, Compose, GaussNoise,Transpose,RandomBrightnessContrast,RandomCrop)\n",
        "from albumentations.pytorch import ToTensor\n",
        "import torch.optim as optim\n",
        "from torch.optim import lr_scheduler\n",
        "from torchvision import datasets, models, transforms\n",
        "import time\n",
        "import copy"
      ],
      "execution_count": 0,
      "outputs": []
    },
    {
      "cell_type": "code",
      "metadata": {
        "id": "74taFO98wHYT",
        "colab_type": "code",
        "colab": {}
      },
      "source": [
        "train_csv = pd.read_csv('/content/train.csv')\n",
        "train_csv,val_csv = train_test_split(train_csv,test_size=0.06,random_state=8)\n",
        "test_csv = pd.read_csv('/content/test.csv')\n",
        "test_csv['Class']=\"\"\n",
        "test_csv.Class='MIDDLE'"
      ],
      "execution_count": 0,
      "outputs": []
    },
    {
      "cell_type": "code",
      "metadata": {
        "id": "hF72YOEyw9fl",
        "colab_type": "code",
        "outputId": "1c5d14f9-9b3f-40e1-8859-36a67892967c",
        "colab": {
          "base_uri": "https://localhost:8080/",
          "height": 101
        }
      },
      "source": [
        "print('train image count--',len(train_csv),'\\t test image count--',len(test_csv),'\\t val image count--',len(val_csv))\n",
        "train_csv.Class.value_counts(normalize=True)"
      ],
      "execution_count": 4,
      "outputs": [
        {
          "output_type": "stream",
          "text": [
            "train image count-- 18711 \t test image count-- 6636 \t val image count-- 1195\n"
          ],
          "name": "stdout"
        },
        {
          "output_type": "execute_result",
          "data": {
            "text/plain": [
              "MIDDLE    0.543103\n",
              "YOUNG     0.336112\n",
              "OLD       0.120785\n",
              "Name: Class, dtype: float64"
            ]
          },
          "metadata": {
            "tags": []
          },
          "execution_count": 4
        }
      ]
    },
    {
      "cell_type": "code",
      "metadata": {
        "id": "2qgEu1O3RUsE",
        "colab_type": "code",
        "colab": {}
      },
      "source": [
        "label_assign={'YOUNG':0,'MIDDLE':1,'OLD':2}"
      ],
      "execution_count": 0,
      "outputs": []
    },
    {
      "cell_type": "markdown",
      "metadata": {
        "id": "IK8jAK5CFUJp",
        "colab_type": "text"
      },
      "source": [
        "# knowing image shapes"
      ]
    },
    {
      "cell_type": "code",
      "metadata": {
        "id": "WfybElFLxQCt",
        "colab_type": "code",
        "colab": {}
      },
      "source": [
        "l=[]\n",
        "for i in range(len(train_csv)):\n",
        "  img_path = '/content/Train/' + str(train_csv.ID[i])\n",
        "  img = imread(img_path,format='jpg')\n",
        "  l.append(img.shape)\n",
        "l=np.array(l)"
      ],
      "execution_count": 0,
      "outputs": []
    },
    {
      "cell_type": "code",
      "metadata": {
        "id": "HSIurJn7Ef0C",
        "colab_type": "code",
        "colab": {}
      },
      "source": [
        "print(min(l[:,0]),min(l[:,1]))\n",
        "print(max(l[:,0]),max(l[:,1]))\n",
        "print(mean(l[:,0]),mean(l[:,1]))"
      ],
      "execution_count": 0,
      "outputs": []
    },
    {
      "cell_type": "markdown",
      "metadata": {
        "id": "y9tmNFakFps2",
        "colab_type": "text"
      },
      "source": [
        "# Building datasets and dataloaders before training"
      ]
    },
    {
      "cell_type": "code",
      "metadata": {
        "id": "LtqC04lP-Fvi",
        "colab_type": "code",
        "colab": {}
      },
      "source": [
        "class dataset(Dataset):\n",
        "  def __init__(self, csv_file, dir_path, phase):\n",
        "    self.csv_file = csv_file\n",
        "    self.dir_path = dir_path\n",
        "    self.phase = phase\n",
        "    self.transform = get_transforms(self.phase)\n",
        "\n",
        "  def __len__(self):\n",
        "    return len(self.csv_file)\n",
        "\n",
        "  def __getitem__(self,idx):\n",
        "    img_path = os.path.join(self.dir_path, self.csv_file.iloc[idx, 0])\n",
        "    image = imread(img_path)\n",
        "    label = label_assign[self.csv_file.iloc[idx, 1]]\n",
        "    aug_img = self.transform(image=image)\n",
        "    image = aug_img[\"image\"]\n",
        "    return image,label\n",
        "\n",
        "def get_transforms(phase):\n",
        "  t_list=[]\n",
        "  if phase=='train':\n",
        "    t_list.extend([RandomBrightness(limit=0.8, p=0.5),\n",
        "                   Rotate(limit=25, p=0.5),\n",
        "                   RGBShift(r_shift_limit=50, g_shift_limit=30, b_shift_limit=40, p=0.5),\n",
        "                   RandomGamma(gamma_limit=(80,165), p=0.5),\n",
        "                   HorizontalFlip(p=0.5),\n",
        "                   HueSaturationValue(hue_shift_limit=10, sat_shift_limit=30, val_shift_limit=30, p=0.5),\n",
        "                   RandomContrast(limit=0.5, p=0.5),\n",
        "                   RandomBrightnessContrast(brightness_limit=0.2, contrast_limit=0.2, p=0.5)\n",
        "                   ])\n",
        "  t_list.extend([Resize(224, 224, interpolation=1, p=1),    ## 16x16, 64x64 , 128x100\n",
        "                 Normalize(mean=(0.485, 0.456, 0.406), std=(0.229, 0.224, 0.225), max_pixel_value=255.0, p=1.0),\n",
        "                 ToTensor()])\n",
        "  return  Compose(t_list)"
      ],
      "execution_count": 0,
      "outputs": []
    },
    {
      "cell_type": "code",
      "metadata": {
        "id": "FcnzelbqB_2V",
        "colab_type": "code",
        "outputId": "975b20fd-bc1e-4022-e813-714f9817c926",
        "colab": {
          "base_uri": "https://localhost:8080/",
          "height": 34
        }
      },
      "source": [
        "### creating train and test datasets\n",
        "train_dataset = dataset(train_csv,'/content/Train/','train')\n",
        "test_dataset = dataset(test_csv,'/content/Test/','test')\n",
        "val_dataset = dataset(val_csv,'/content/Train/','val')\n",
        "dataset_sizes={'train':len(train_dataset),'val':len(val_dataset),'test':len(test_dataset)}\n",
        "print(dataset_sizes)"
      ],
      "execution_count": 7,
      "outputs": [
        {
          "output_type": "stream",
          "text": [
            "{'train': 18711, 'val': 1195, 'test': 6636}\n"
          ],
          "name": "stdout"
        }
      ]
    },
    {
      "cell_type": "code",
      "metadata": {
        "id": "DUVSGOI7aNSe",
        "colab_type": "code",
        "outputId": "9469b8a7-d8c5-4b69-e749-57bdb8a8369c",
        "colab": {
          "base_uri": "https://localhost:8080/",
          "height": 403
        }
      },
      "source": [
        "### visualising datasets\n",
        "a=randint(0,1700)\n",
        "print(\"VISUALISING TRAIN DATASET\")\n",
        "for i in range(a,a+10):\n",
        "  image, label = train_dataset[i]\n",
        "  print(i,'\\t', image.shape,'\\t', label)\n",
        "print(\"\\nVISUALISING TEST DATASET\")\n",
        "b=randint(0,6625)\n",
        "for i in range(b,b+10):\n",
        "  image, label = test_dataset[i]\n",
        "  print(i,'\\t', image.shape,'\\t', label)"
      ],
      "execution_count": 8,
      "outputs": [
        {
          "output_type": "stream",
          "text": [
            "VISUALISING TRAIN DATASET\n",
            "1109 \t torch.Size([3, 224, 224]) \t 1\n",
            "1110 \t torch.Size([3, 224, 224]) \t 0\n",
            "1111 \t torch.Size([3, 224, 224]) \t 1\n",
            "1112 \t torch.Size([3, 224, 224]) \t 2\n",
            "1113 \t torch.Size([3, 224, 224]) \t 1\n",
            "1114 \t torch.Size([3, 224, 224]) \t 0\n",
            "1115 \t torch.Size([3, 224, 224]) \t 0\n",
            "1116 \t torch.Size([3, 224, 224]) \t 1\n",
            "1117 \t torch.Size([3, 224, 224]) \t 2\n",
            "1118 \t torch.Size([3, 224, 224]) \t 1\n",
            "\n",
            "VISUALISING TEST DATASET\n",
            "415 \t torch.Size([3, 224, 224]) \t 1\n",
            "416 \t torch.Size([3, 224, 224]) \t 1\n",
            "417 \t torch.Size([3, 224, 224]) \t 1\n",
            "418 \t torch.Size([3, 224, 224]) \t 1\n",
            "419 \t torch.Size([3, 224, 224]) \t 1\n",
            "420 \t torch.Size([3, 224, 224]) \t 1\n",
            "421 \t torch.Size([3, 224, 224]) \t 1\n",
            "422 \t torch.Size([3, 224, 224]) \t 1\n",
            "423 \t torch.Size([3, 224, 224]) \t 1\n",
            "424 \t torch.Size([3, 224, 224]) \t 1\n"
          ],
          "name": "stdout"
        }
      ]
    },
    {
      "cell_type": "code",
      "metadata": {
        "id": "Xxb-q1OsUBML",
        "colab_type": "code",
        "colab": {}
      },
      "source": [
        "dataloader={}\n",
        "dataloader['train'] = DataLoader(train_dataset, batch_size=256, shuffle=True, num_workers=1)\n",
        "dataloader['test'] = DataLoader(test_dataset, batch_size=64, shuffle=False, num_workers=1)\n",
        "dataloader['val'] = DataLoader(val_dataset, batch_size=256, shuffle=True, num_workers=1)"
      ],
      "execution_count": 0,
      "outputs": []
    },
    {
      "cell_type": "code",
      "metadata": {
        "id": "2djqGSTGbG5d",
        "colab_type": "code",
        "outputId": "c1a8943b-95c5-4ccd-ab18-e0e05904949a",
        "colab": {
          "base_uri": "https://localhost:8080/",
          "height": 386
        }
      },
      "source": [
        "### visualing batches\n",
        "def show_batch(sample_batch):\n",
        "  img_batch,label_batch = sample_batch\n",
        "  print('batch size--',len(img_batch))\n",
        "  print('img size--',img_batch.size(2))\n",
        "  grid_border_size = 2\n",
        "  grid = torchvision.utils.make_grid(img_batch)\n",
        "  plt.imshow(grid.numpy().transpose((1, 2, 0)))\n",
        "\n",
        "for i, sample_batch in enumerate(dataloader['train']):\n",
        "  img, label = sample_batch\n",
        "  print(i, img.size(), label.shape)\n",
        "  if i==3:\n",
        "    show_batch(sample_batch)\n",
        "    break"
      ],
      "execution_count": 10,
      "outputs": [
        {
          "output_type": "stream",
          "text": [
            "0 torch.Size([256, 3, 224, 224]) torch.Size([256])\n",
            "1 torch.Size([256, 3, 224, 224]) torch.Size([256])\n",
            "2 torch.Size([256, 3, 224, 224]) torch.Size([256])\n",
            "3 torch.Size([256, 3, 224, 224]) torch.Size([256])\n",
            "batch size-- 256\n",
            "img size-- 224\n"
          ],
          "name": "stdout"
        },
        {
          "output_type": "stream",
          "text": [
            "Clipping input data to the valid range for imshow with RGB data ([0..1] for floats or [0..255] for integers).\n"
          ],
          "name": "stderr"
        },
        {
          "output_type": "display_data",
          "data": {
            "image/png": "[encoded data removed]",
            "text/plain": [
              "<Figure size 432x288 with 1 Axes>"
            ]
          },
          "metadata": {
            "tags": [],
            "needs_background": "light"
          }
        }
      ]
    },
    {
      "cell_type": "markdown",
      "metadata": {
        "id": "qfADvrlVQKNm",
        "colab_type": "text"
      },
      "source": [
        "# Trainer"
      ]
    },
    {
      "cell_type": "code",
      "metadata": {
        "id": "oZlxMge2rJRc",
        "colab_type": "code",
        "colab": {}
      },
      "source": [
        "def train_model(model, criterion, optimizer, scheduler, num_epochs=25):\n",
        "    since = time.time()\n",
        "    latest_model_wts = copy.deepcopy(model.state_dict())\n",
        "    best_model_wts = copy.deepcopy(model.state_dict())\n",
        "    best_acc = 0.0\n",
        "\n",
        "    for epoch in range(num_epochs):\n",
        "        print('Epoch {}/{}'.format(epoch, num_epochs - 1))\n",
        "        print('-' * 10)\n",
        "\n",
        "        # Each epoch has a training and validation phase\n",
        "        for phase in ['train', 'val']:\n",
        "            if phase == 'train':\n",
        "                model.train()  # Set model to training mode\n",
        "            else:\n",
        "                model.eval()   # Set model to evaluate mode\n",
        "\n",
        "            running_loss = 0.0\n",
        "            running_corrects = 0\n",
        "\n",
        "            # Iterate over data.\n",
        "            for img_batch, labels in dataloader[phase]:\n",
        "                img_batch = img_batch.to(device)\n",
        "                labels = labels.to(device)\n",
        "\n",
        "                # zero the parameter gradients\n",
        "                optimizer.zero_grad()\n",
        "\n",
        "                # forward\n",
        "                # track history if only in train\n",
        "                with torch.set_grad_enabled(phase == 'train'):\n",
        "                    outputs = model(img_batch)\n",
        "                    _, preds = torch.max(outputs, 1)\n",
        "                    loss = criterion(outputs, labels)\n",
        "\n",
        "                    # backward + optimize only if in training phase\n",
        "                    if phase == 'train':\n",
        "                        loss.backward()\n",
        "                        optimizer.step()\n",
        "\n",
        "                # statistics\n",
        "                running_loss += loss.item() * img_batch.size(0)\n",
        "                running_corrects += torch.sum(preds == labels.data)\n",
        "            if phase == 'train':\n",
        "                scheduler.step()\n",
        "\n",
        "            epoch_loss = running_loss / dataset_sizes[phase]\n",
        "            epoch_acc = running_corrects.double() / dataset_sizes[phase]\n",
        "\n",
        "            print('{} Loss: {:.4f} Acc: {:.4f}'.format(\n",
        "                phase, epoch_loss, epoch_acc))\n",
        "\n",
        "            # deep copy the model\n",
        "            latest_model_wts = copy.deepcopy(model.state_dict())\n",
        "            if phase == 'val' and epoch_acc > best_acc:\n",
        "                best_acc = epoch_acc\n",
        "                best_model_wts = copy.deepcopy(model.state_dict())\n",
        "\n",
        "        print()\n",
        "\n",
        "    time_elapsed = time.time() - since\n",
        "    print('Training complete in {:.0f}m {:.0f}s'.format(\n",
        "        time_elapsed // 60, time_elapsed % 60))\n",
        "    print('Best val Acc: {:4f}'.format(best_acc))\n",
        "    # load best model weights\n",
        "    model.load_state_dict(best_model_wts)\n",
        "    return model"
      ],
      "execution_count": 0,
      "outputs": []
    },
    {
      "cell_type": "markdown",
      "metadata": {
        "id": "33zCbo8VQXad",
        "colab_type": "text"
      },
      "source": [
        "# Training model with freeze"
      ]
    },
    {
      "cell_type": "code",
      "metadata": {
        "id": "Jc1EPN-Y2nu6",
        "colab_type": "code",
        "outputId": "9185b2d1-bb44-45b2-d920-cca6c93ab5e1",
        "colab": {
          "base_uri": "https://localhost:8080/",
          "height": 0,
          "referenced_widgets": [
            "f2aaf12222c046b69250508bbe3bd7b9",
            "b1d0f454278d47e7a48af0142e53a8be",
            "9bd9c599c4554e288353f487db05702f",
            "894813d7891148fdb658dd678863de99",
            "88cf55cc58ce4cbca8f231351d69472d",
            "e4eb55cca58c499db5518277daae15fa",
            "631e2314ba804c75b8d572e5926824da",
            "d015db5c30c64bbdb2c1cd5e9e95fce2"
          ]
        }
      },
      "source": [
        "# lr_list = np.random.rand(20)\n",
        "# lr_list = 10**(-5*lr_list)\n",
        "# for lr in lr_list:\n",
        "#   print('***********\\tLR =',lr,'\\t************')\n",
        "model = models.resnet18(pretrained=True)\n",
        "for param in model.parameters():\n",
        "    param.requires_grad = False\n",
        "num_ftrs = model.fc.in_features\n",
        "model.fc = nn.Linear(num_ftrs, 3)\n",
        "\n",
        "device = torch.device(\"cuda\")\n",
        "model = model.to(device)\n",
        "\n",
        "criterion = nn.CrossEntropyLoss()\n",
        "optimizer = optim.SGD(model.parameters(), lr=0.004, momentum=0.9, nesterov=True)\n",
        "# Decay LR by a factor of 0.1 every 7 epochs\n",
        "exp_lr_scheduler = lr_scheduler.StepLR(optimizer, step_size=7, gamma=0.1)\n",
        "\n",
        "\n",
        "best_model = train_model(model, criterion, optimizer, exp_lr_scheduler, num_epochs=13)"
      ],
      "execution_count": 12,
      "outputs": [
        {
          "output_type": "stream",
          "text": [
            "Downloading: \"https://download.pytorch.org/models/resnet18-5c106cde.pth\" to /root/.cache/torch/checkpoints/resnet18-5c106cde.pth\n"
          ],
          "name": "stderr"
        },
        {
          "output_type": "display_data",
          "data": {
            "application/vnd.jupyter.widget-view+json": {
              "model_id": "f2aaf12222c046b69250508bbe3bd7b9",
              "version_minor": 0,
              "version_major": 2
            },
            "text/plain": [
              "HBox(children=(FloatProgress(value=0.0, max=46827520.0), HTML(value='')))"
            ]
          },
          "metadata": {
            "tags": []
          }
        },
        {
          "output_type": "stream",
          "text": [
            "\n",
            "Epoch 0/12\n",
            "----------\n",
            "train Loss: 0.8920 Acc: 0.5868\n",
            "val Loss: 0.8304 Acc: 0.6218\n",
            "\n",
            "Epoch 1/12\n",
            "----------\n",
            "train Loss: 0.8340 Acc: 0.6259\n",
            "val Loss: 0.8059 Acc: 0.6577\n",
            "\n",
            "Epoch 2/12\n",
            "----------\n",
            "train Loss: 0.8171 Acc: 0.6306\n",
            "val Loss: 0.9267 Acc: 0.5481\n",
            "\n",
            "Epoch 3/12\n",
            "----------\n",
            "train Loss: 0.8144 Acc: 0.6384\n",
            "val Loss: 0.8258 Acc: 0.6226\n",
            "\n",
            "Epoch 4/12\n",
            "----------\n",
            "train Loss: 0.8040 Acc: 0.6446\n",
            "val Loss: 0.8497 Acc: 0.6092\n",
            "\n",
            "Epoch 5/12\n",
            "----------\n",
            "train Loss: 0.8036 Acc: 0.6439\n",
            "val Loss: 0.7989 Acc: 0.6527\n",
            "\n",
            "Epoch 6/12\n",
            "----------\n",
            "train Loss: 0.7998 Acc: 0.6426\n",
            "val Loss: 0.7830 Acc: 0.6569\n",
            "\n",
            "Epoch 7/12\n",
            "----------\n",
            "train Loss: 0.7908 Acc: 0.6473\n",
            "val Loss: 0.7639 Acc: 0.6745\n",
            "\n",
            "Epoch 8/12\n",
            "----------\n",
            "train Loss: 0.7892 Acc: 0.6489\n",
            "val Loss: 0.7615 Acc: 0.6686\n",
            "\n",
            "Epoch 9/12\n",
            "----------\n",
            "train Loss: 0.7949 Acc: 0.6507\n",
            "val Loss: 0.7595 Acc: 0.6711\n",
            "\n",
            "Epoch 10/12\n",
            "----------\n",
            "train Loss: 0.7857 Acc: 0.6531\n",
            "val Loss: 0.7607 Acc: 0.6678\n",
            "\n",
            "Epoch 11/12\n",
            "----------\n",
            "train Loss: 0.7929 Acc: 0.6467\n",
            "val Loss: 0.7592 Acc: 0.6745\n",
            "\n",
            "Epoch 12/12\n",
            "----------\n",
            "train Loss: 0.7916 Acc: 0.6496\n",
            "val Loss: 0.7588 Acc: 0.6762\n",
            "\n",
            "Training complete in 15m 50s\n",
            "Best val Acc: 0.676151\n"
          ],
          "name": "stdout"
        }
      ]
    },
    {
      "cell_type": "markdown",
      "metadata": {
        "id": "c8u-GimZQh9g",
        "colab_type": "text"
      },
      "source": [
        "# Unfreeze and training (fine tuning)"
      ]
    },
    {
      "cell_type": "code",
      "metadata": {
        "id": "cRB599HdVivN",
        "colab_type": "code",
        "colab": {}
      },
      "source": [
        "model = best_model\n",
        "for param in model.parameters():\n",
        "    param.requires_grad = True\n",
        "\n",
        "device = torch.device(\"cuda\")\n",
        "model = model.to(device)\n",
        "\n",
        "criterion = nn.CrossEntropyLoss()\n",
        "optimizer = optim.SGD(model.parameters(), lr=0.01, momentum=0.9, nesterov=True)\n",
        "# Decay LR by a factor of 0.1 every 7 epochs\n",
        "exp_lr_scheduler = lr_scheduler.StepLR(optimizer, step_size=20, gamma=0.1)"
      ],
      "execution_count": 0,
      "outputs": []
    },
    {
      "cell_type": "code",
      "metadata": {
        "id": "eyYNAnvJpZs5",
        "colab_type": "code",
        "outputId": "4e175371-48c4-4979-988f-0a9e29b95f10",
        "colab": {
          "base_uri": "https://localhost:8080/",
          "height": 1000
        }
      },
      "source": [
        "new_model = train_model(model, criterion, optimizer, exp_lr_scheduler, num_epochs=50)"
      ],
      "execution_count": 14,
      "outputs": [
        {
          "output_type": "stream",
          "text": [
            "Epoch 0/49\n",
            "----------\n",
            "train Loss: 0.7402 Acc: 0.6779\n",
            "val Loss: 1.1040 Acc: 0.5682\n",
            "\n",
            "Epoch 1/49\n",
            "----------\n",
            "train Loss: 0.6059 Acc: 0.7457\n",
            "val Loss: 0.7400 Acc: 0.6828\n",
            "\n",
            "Epoch 2/49\n",
            "----------\n",
            "train Loss: 0.5075 Acc: 0.7922\n",
            "val Loss: 0.4985 Acc: 0.7933\n",
            "\n",
            "Epoch 3/49\n",
            "----------\n",
            "train Loss: 0.4378 Acc: 0.8217\n",
            "val Loss: 0.4579 Acc: 0.8126\n",
            "\n",
            "Epoch 4/49\n",
            "----------\n",
            "train Loss: 0.3904 Acc: 0.8416\n",
            "val Loss: 0.4670 Acc: 0.8151\n",
            "\n",
            "Epoch 5/49\n",
            "----------\n",
            "train Loss: 0.3553 Acc: 0.8589\n",
            "val Loss: 0.4343 Acc: 0.8402\n",
            "\n",
            "Epoch 6/49\n",
            "----------\n",
            "train Loss: 0.3116 Acc: 0.8754\n",
            "val Loss: 0.3802 Acc: 0.8502\n",
            "\n",
            "Epoch 7/49\n",
            "----------\n",
            "train Loss: 0.2821 Acc: 0.8879\n",
            "val Loss: 0.5707 Acc: 0.7874\n",
            "\n",
            "Epoch 8/49\n",
            "----------\n",
            "train Loss: 0.2622 Acc: 0.8976\n",
            "val Loss: 0.4447 Acc: 0.8452\n",
            "\n",
            "Epoch 9/49\n",
            "----------\n",
            "train Loss: 0.2333 Acc: 0.9090\n",
            "val Loss: 0.5398 Acc: 0.8234\n",
            "\n",
            "Epoch 10/49\n",
            "----------\n",
            "train Loss: 0.2082 Acc: 0.9197\n",
            "val Loss: 0.4488 Acc: 0.8577\n",
            "\n",
            "Epoch 11/49\n",
            "----------\n",
            "train Loss: 0.1977 Acc: 0.9253\n",
            "val Loss: 0.3510 Acc: 0.8778\n",
            "\n",
            "Epoch 12/49\n",
            "----------\n",
            "train Loss: 0.1888 Acc: 0.9275\n",
            "val Loss: 0.4482 Acc: 0.8536\n",
            "\n",
            "Epoch 13/49\n",
            "----------\n",
            "train Loss: 0.1711 Acc: 0.9364\n",
            "val Loss: 0.3827 Acc: 0.8653\n",
            "\n",
            "Epoch 14/49\n",
            "----------\n",
            "train Loss: 0.1516 Acc: 0.9432\n",
            "val Loss: 0.3698 Acc: 0.8820\n",
            "\n",
            "Epoch 15/49\n",
            "----------\n",
            "train Loss: 0.1408 Acc: 0.9477\n",
            "val Loss: 0.4108 Acc: 0.8820\n",
            "\n",
            "Epoch 16/49\n",
            "----------\n",
            "train Loss: 0.1422 Acc: 0.9443\n",
            "val Loss: 0.5978 Acc: 0.8159\n",
            "\n",
            "Epoch 17/49\n",
            "----------\n",
            "train Loss: 0.1424 Acc: 0.9450\n",
            "val Loss: 0.4359 Acc: 0.8812\n",
            "\n",
            "Epoch 18/49\n",
            "----------\n",
            "train Loss: 0.1269 Acc: 0.9521\n",
            "val Loss: 0.4445 Acc: 0.8686\n",
            "\n",
            "Epoch 19/49\n",
            "----------\n",
            "train Loss: 0.1200 Acc: 0.9540\n",
            "val Loss: 0.3553 Acc: 0.8929\n",
            "\n",
            "Epoch 20/49\n",
            "----------\n",
            "train Loss: 0.0851 Acc: 0.9692\n",
            "val Loss: 0.3398 Acc: 0.8996\n",
            "\n",
            "Epoch 21/49\n",
            "----------\n",
            "train Loss: 0.0739 Acc: 0.9736\n",
            "val Loss: 0.3242 Acc: 0.9021\n",
            "\n",
            "Epoch 22/49\n",
            "----------\n",
            "train Loss: 0.0683 Acc: 0.9761\n",
            "val Loss: 0.3220 Acc: 0.9029\n",
            "\n",
            "Epoch 23/49\n",
            "----------\n",
            "train Loss: 0.0670 Acc: 0.9761\n",
            "val Loss: 0.3232 Acc: 0.9013\n",
            "\n",
            "Epoch 24/49\n",
            "----------\n",
            "train Loss: 0.0618 Acc: 0.9789\n",
            "val Loss: 0.3250 Acc: 0.9029\n",
            "\n",
            "Epoch 25/49\n",
            "----------\n",
            "train Loss: 0.0590 Acc: 0.9804\n",
            "val Loss: 0.3251 Acc: 0.8962\n",
            "\n",
            "Epoch 26/49\n",
            "----------\n",
            "train Loss: 0.0559 Acc: 0.9801\n",
            "val Loss: 0.3242 Acc: 0.9063\n",
            "\n",
            "Epoch 27/49\n",
            "----------\n",
            "train Loss: 0.0570 Acc: 0.9805\n",
            "val Loss: 0.3171 Acc: 0.9046\n",
            "\n",
            "Epoch 28/49\n",
            "----------\n",
            "train Loss: 0.0567 Acc: 0.9799\n",
            "val Loss: 0.3227 Acc: 0.9054\n",
            "\n",
            "Epoch 29/49\n",
            "----------\n",
            "train Loss: 0.0533 Acc: 0.9825\n",
            "val Loss: 0.3215 Acc: 0.8996\n",
            "\n",
            "Epoch 30/49\n",
            "----------\n",
            "train Loss: 0.0528 Acc: 0.9817\n",
            "val Loss: 0.3206 Acc: 0.9046\n",
            "\n",
            "Epoch 31/49\n",
            "----------\n",
            "train Loss: 0.0520 Acc: 0.9827\n",
            "val Loss: 0.3249 Acc: 0.9029\n",
            "\n",
            "Epoch 32/49\n",
            "----------\n",
            "train Loss: 0.0490 Acc: 0.9835\n",
            "val Loss: 0.3194 Acc: 0.9079\n",
            "\n",
            "Epoch 33/49\n",
            "----------\n",
            "train Loss: 0.0505 Acc: 0.9835\n",
            "val Loss: 0.3276 Acc: 0.9021\n",
            "\n",
            "Epoch 34/49\n",
            "----------\n",
            "train Loss: 0.0486 Acc: 0.9835\n",
            "val Loss: 0.3205 Acc: 0.8996\n",
            "\n",
            "Epoch 35/49\n",
            "----------\n",
            "train Loss: 0.0477 Acc: 0.9833\n",
            "val Loss: 0.3223 Acc: 0.9029\n",
            "\n",
            "Epoch 36/49\n",
            "----------\n",
            "train Loss: 0.0458 Acc: 0.9850\n",
            "val Loss: 0.3206 Acc: 0.9029\n",
            "\n",
            "Epoch 37/49\n",
            "----------\n",
            "train Loss: 0.0479 Acc: 0.9843\n",
            "val Loss: 0.3302 Acc: 0.8979\n",
            "\n",
            "Epoch 38/49\n",
            "----------\n",
            "train Loss: 0.0421 Acc: 0.9864\n",
            "val Loss: 0.3269 Acc: 0.9013\n",
            "\n",
            "Epoch 39/49\n",
            "----------\n",
            "train Loss: 0.0449 Acc: 0.9848\n",
            "val Loss: 0.3270 Acc: 0.9038\n",
            "\n",
            "Epoch 40/49\n",
            "----------\n",
            "train Loss: 0.0455 Acc: 0.9848\n",
            "val Loss: 0.3278 Acc: 0.9046\n",
            "\n",
            "Epoch 41/49\n",
            "----------\n",
            "train Loss: 0.0430 Acc: 0.9863\n",
            "val Loss: 0.3230 Acc: 0.9013\n",
            "\n",
            "Epoch 42/49\n",
            "----------\n",
            "train Loss: 0.0420 Acc: 0.9856\n",
            "val Loss: 0.3257 Acc: 0.9063\n",
            "\n",
            "Epoch 43/49\n",
            "----------\n",
            "train Loss: 0.0406 Acc: 0.9864\n",
            "val Loss: 0.3241 Acc: 0.9071\n",
            "\n",
            "Epoch 44/49\n",
            "----------\n",
            "train Loss: 0.0438 Acc: 0.9850\n",
            "val Loss: 0.3284 Acc: 0.9046\n",
            "\n",
            "Epoch 45/49\n",
            "----------\n",
            "train Loss: 0.0388 Acc: 0.9870\n",
            "val Loss: 0.3271 Acc: 0.9029\n",
            "\n",
            "Epoch 46/49\n",
            "----------\n",
            "train Loss: 0.0412 Acc: 0.9862\n",
            "val Loss: 0.3281 Acc: 0.9004\n",
            "\n",
            "Epoch 47/49\n",
            "----------\n",
            "train Loss: 0.0442 Acc: 0.9854\n",
            "val Loss: 0.3266 Acc: 0.9096\n",
            "\n",
            "Epoch 48/49\n",
            "----------\n",
            "train Loss: 0.0434 Acc: 0.9848\n",
            "val Loss: 0.3273 Acc: 0.9038\n",
            "\n",
            "Epoch 49/49\n",
            "----------\n",
            "train Loss: 0.0383 Acc: 0.9875\n",
            "val Loss: 0.3259 Acc: 0.9046\n",
            "\n",
            "Training complete in 70m 19s\n",
            "Best val Acc: 0.909623\n"
          ],
          "name": "stdout"
        }
      ]
    },
    {
      "cell_type": "markdown",
      "metadata": {
        "id": "H4xZcA6uQzHU",
        "colab_type": "text"
      },
      "source": [
        "# Prediction on test "
      ]
    },
    {
      "cell_type": "code",
      "metadata": {
        "id": "nyHWPDrYRKCw",
        "colab_type": "code",
        "colab": {}
      },
      "source": [
        "label_decoding={0:'YOUNG',1:'MIDDLE',2:'OLD'}"
      ],
      "execution_count": 0,
      "outputs": []
    },
    {
      "cell_type": "code",
      "metadata": {
        "id": "_YxVhMHBLuqj",
        "colab_type": "code",
        "colab": {}
      },
      "source": [
        "prediction = torch.tensor([],dtype=torch.int64)\n",
        "# prediction = prediction.to(device)\n",
        "for inputs, labels in dataloader['test']:\n",
        "            # inputs = inputs.to(device)\n",
        "            # labels = labels.to(device)\n",
        "            new_model.to('cpu')\n",
        "            \n",
        "            outputs = new_model(inputs)\n",
        "            _, preds = torch.max(outputs, 1)\n",
        "            #print(type(preds),preds.shape,preds.dtype,preds.device)\n",
        "            prediction = torch.cat((prediction,preds),0)\n",
        "            #print(prediction.shape,prediction.device)\n",
        "print(prediction.shape)"
      ],
      "execution_count": 0,
      "outputs": []
    },
    {
      "cell_type": "code",
      "metadata": {
        "id": "5BnulH5dXCfd",
        "colab_type": "code",
        "colab": {}
      },
      "source": [
        "sub_csv = test_csv.copy()\n",
        "#prediction = prediction.to('cpu')\n",
        "print(prediction.device)\n",
        "for i in range(len(prediction)):\n",
        "  sub_csv.Class[i] = label_decoding[int(prediction[i])]"
      ],
      "execution_count": 0,
      "outputs": []
    },
    {
      "cell_type": "code",
      "metadata": {
        "id": "_ETLJEb-b6EW",
        "colab_type": "code",
        "colab": {}
      },
      "source": [
        "test_csv.head()"
      ],
      "execution_count": 0,
      "outputs": []
    },
    {
      "cell_type": "code",
      "metadata": {
        "id": "RJjY6JfGcEAU",
        "colab_type": "code",
        "colab": {}
      },
      "source": [
        "sub_csv.head()"
      ],
      "execution_count": 0,
      "outputs": []
    },
    {
      "cell_type": "code",
      "metadata": {
        "id": "706505Aqdfa2",
        "colab_type": "code",
        "colab": {}
      },
      "source": [
        "sub_csv.to_csv('/content/sample_submission_sDO3m7O.csv',index=False)"
      ],
      "execution_count": 0,
      "outputs": []
    },
    {
      "cell_type": "code",
      "metadata": {
        "id": "kFZYqWjxxcH2",
        "colab_type": "code",
        "colab": {}
      },
      "source": [
        ""
      ],
      "execution_count": 0,
      "outputs": []
    }
  ]
}