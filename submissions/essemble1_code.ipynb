{
  "nbformat": 4,
  "nbformat_minor": 0,
  "metadata": {
    "colab": {
      "name": "Untitled0.ipynb",
      "provenance": []
    },
    "kernelspec": {
      "name": "python3",
      "display_name": "Python 3"
    }
  },
  "cells": [
    {
      "cell_type": "code",
      "metadata": {
        "id": "EzqgVgyNcPvr",
        "colab_type": "code",
        "colab": {
          "base_uri": "https://localhost:8080/",
          "height": 330
        },
        "outputId": "f2f374b6-b549-45e8-a86f-6564a960e808"
      },
      "source": [
        "import numpy as np\n",
        "import pandas as pd"
      ],
      "execution_count": 10,
      "outputs": [
        {
          "output_type": "error",
          "ename": "ModuleNotFoundError",
          "evalue": "ignored",
          "traceback": [
            "\u001b[0;31m---------------------------------------------------------------------------\u001b[0m",
            "\u001b[0;31mModuleNotFoundError\u001b[0m                       Traceback (most recent call last)",
            "\u001b[0;32m<ipython-input-10-3c636eb23f40>\u001b[0m in \u001b[0;36m<module>\u001b[0;34m()\u001b[0m\n\u001b[1;32m      1\u001b[0m \u001b[0;32mimport\u001b[0m \u001b[0mnumpy\u001b[0m \u001b[0;32mas\u001b[0m \u001b[0mnp\u001b[0m\u001b[0;34m\u001b[0m\u001b[0;34m\u001b[0m\u001b[0m\n\u001b[1;32m      2\u001b[0m \u001b[0;32mimport\u001b[0m \u001b[0mpandas\u001b[0m \u001b[0;32mas\u001b[0m \u001b[0mpd\u001b[0m\u001b[0;34m\u001b[0m\u001b[0;34m\u001b[0m\u001b[0m\n\u001b[0;32m----> 3\u001b[0;31m \u001b[0;32mimport\u001b[0m \u001b[0mscipy\u001b[0m\u001b[0;34m.\u001b[0m\u001b[0mstats\u001b[0m\u001b[0;34m.\u001b[0m\u001b[0mmode\u001b[0m\u001b[0;34m\u001b[0m\u001b[0;34m\u001b[0m\u001b[0m\n\u001b[0m",
            "\u001b[0;31mModuleNotFoundError\u001b[0m: No module named 'scipy.stats.mode'",
            "",
            "\u001b[0;31m---------------------------------------------------------------------------\u001b[0;32m\nNOTE: If your import is failing due to a missing package, you can\nmanually install dependencies using either !pip or !apt.\n\nTo view examples of installing some common dependencies, click the\n\"Open Examples\" button below.\n\u001b[0;31m---------------------------------------------------------------------------\u001b[0m\n"
          ]
        }
      ]
    },
    {
      "cell_type": "code",
      "metadata": {
        "id": "BfblW5VN3iKh",
        "colab_type": "code",
        "colab": {}
      },
      "source": [
        "result = pd.DataFrame()\n",
        "result['a1']=csvtta1.Class\n",
        "result['a2']=csvtta2.Class\n",
        "result['a3']=csv1.Class\n",
        "result['a4']=csv2.Class\n",
        "result['a5']=csv3.Class\n",
        "result['a6']=csv4.Class\n",
        "result['a7']=csv5.Class\n",
        "result['a8']=csv6.Class"
      ],
      "execution_count": 0,
      "outputs": []
    },
    {
      "cell_type": "code",
      "metadata": {
        "id": "pzbroq9_39qb",
        "colab_type": "code",
        "colab": {
          "base_uri": "https://localhost:8080/",
          "height": 195
        },
        "outputId": "bcda2de8-6325-4425-ed56-3bf485dabb64"
      },
      "source": [
        "csvtta1=pd.read_csv('/content/227_900376_us_sample_submission_tta_Do8LpZG.csv')\n",
        "csvtta2=pd.read_csv('/content/227_900376_us_sub_csv_trash_trying_tta.csv')\n",
        "csv1=pd.read_csv('/content/227_900376_us_sub_csv10.csv')\n",
        "csv2=pd.read_csv('/content/227_900376_us_sub_csv15.csv')\n",
        "csv3=pd.read_csv('/content/227_900376_us_sub_csv16.csv')\n",
        "csv4=pd.read_csv('/content/227_900376_us_sub_csv17.csv')\n",
        "csv5=pd.read_csv('/content/227_900376_us_sub_csv18.csv')\n",
        "csv6=pd.read_csv('/content/227_900376_us_sub_csv19.csv')\n",
        "csvtta1.head()"
      ],
      "execution_count": 7,
      "outputs": [
        {
          "output_type": "execute_result",
          "data": {
            "text/html": [
              "<div>\n",
              "<style scoped>\n",
              "    .dataframe tbody tr th:only-of-type {\n",
              "        vertical-align: middle;\n",
              "    }\n",
              "\n",
              "    .dataframe tbody tr th {\n",
              "        vertical-align: top;\n",
              "    }\n",
              "\n",
              "    .dataframe thead th {\n",
              "        text-align: right;\n",
              "    }\n",
              "</style>\n",
              "<table border=\"1\" class=\"dataframe\">\n",
              "  <thead>\n",
              "    <tr style=\"text-align: right;\">\n",
              "      <th></th>\n",
              "      <th>ID</th>\n",
              "      <th>Class</th>\n",
              "    </tr>\n",
              "  </thead>\n",
              "  <tbody>\n",
              "    <tr>\n",
              "      <th>0</th>\n",
              "      <td>25321.jpg</td>\n",
              "      <td>MIDDLE</td>\n",
              "    </tr>\n",
              "    <tr>\n",
              "      <th>1</th>\n",
              "      <td>989.jpg</td>\n",
              "      <td>YOUNG</td>\n",
              "    </tr>\n",
              "    <tr>\n",
              "      <th>2</th>\n",
              "      <td>19277.jpg</td>\n",
              "      <td>MIDDLE</td>\n",
              "    </tr>\n",
              "    <tr>\n",
              "      <th>3</th>\n",
              "      <td>13093.jpg</td>\n",
              "      <td>MIDDLE</td>\n",
              "    </tr>\n",
              "    <tr>\n",
              "      <th>4</th>\n",
              "      <td>5367.jpg</td>\n",
              "      <td>OLD</td>\n",
              "    </tr>\n",
              "  </tbody>\n",
              "</table>\n",
              "</div>"
            ],
            "text/plain": [
              "          ID   Class\n",
              "0  25321.jpg  MIDDLE\n",
              "1    989.jpg   YOUNG\n",
              "2  19277.jpg  MIDDLE\n",
              "3  13093.jpg  MIDDLE\n",
              "4   5367.jpg     OLD"
            ]
          },
          "metadata": {
            "tags": []
          },
          "execution_count": 7
        }
      ]
    },
    {
      "cell_type": "code",
      "metadata": {
        "id": "Ut5AGv2K4Zem",
        "colab_type": "code",
        "colab": {
          "base_uri": "https://localhost:8080/",
          "height": 195
        },
        "outputId": "ad07e926-5e05-4b8f-d863-40f062cf0962"
      },
      "source": [
        "result.head()"
      ],
      "execution_count": 14,
      "outputs": [
        {
          "output_type": "execute_result",
          "data": {
            "text/html": [
              "<div>\n",
              "<style scoped>\n",
              "    .dataframe tbody tr th:only-of-type {\n",
              "        vertical-align: middle;\n",
              "    }\n",
              "\n",
              "    .dataframe tbody tr th {\n",
              "        vertical-align: top;\n",
              "    }\n",
              "\n",
              "    .dataframe thead th {\n",
              "        text-align: right;\n",
              "    }\n",
              "</style>\n",
              "<table border=\"1\" class=\"dataframe\">\n",
              "  <thead>\n",
              "    <tr style=\"text-align: right;\">\n",
              "      <th></th>\n",
              "      <th>a1</th>\n",
              "      <th>a2</th>\n",
              "      <th>a3</th>\n",
              "      <th>a4</th>\n",
              "      <th>a5</th>\n",
              "      <th>a6</th>\n",
              "      <th>a7</th>\n",
              "      <th>a8</th>\n",
              "      <th>max_freq</th>\n",
              "    </tr>\n",
              "  </thead>\n",
              "  <tbody>\n",
              "    <tr>\n",
              "      <th>0</th>\n",
              "      <td>MIDDLE</td>\n",
              "      <td>MIDDLE</td>\n",
              "      <td>MIDDLE</td>\n",
              "      <td>MIDDLE</td>\n",
              "      <td>YOUNG</td>\n",
              "      <td>MIDDLE</td>\n",
              "      <td>YOUNG</td>\n",
              "      <td>YOUNG</td>\n",
              "      <td>MIDDLE</td>\n",
              "    </tr>\n",
              "    <tr>\n",
              "      <th>1</th>\n",
              "      <td>YOUNG</td>\n",
              "      <td>YOUNG</td>\n",
              "      <td>YOUNG</td>\n",
              "      <td>YOUNG</td>\n",
              "      <td>YOUNG</td>\n",
              "      <td>YOUNG</td>\n",
              "      <td>YOUNG</td>\n",
              "      <td>YOUNG</td>\n",
              "      <td>YOUNG</td>\n",
              "    </tr>\n",
              "    <tr>\n",
              "      <th>2</th>\n",
              "      <td>MIDDLE</td>\n",
              "      <td>MIDDLE</td>\n",
              "      <td>MIDDLE</td>\n",
              "      <td>MIDDLE</td>\n",
              "      <td>MIDDLE</td>\n",
              "      <td>MIDDLE</td>\n",
              "      <td>MIDDLE</td>\n",
              "      <td>MIDDLE</td>\n",
              "      <td>MIDDLE</td>\n",
              "    </tr>\n",
              "    <tr>\n",
              "      <th>3</th>\n",
              "      <td>MIDDLE</td>\n",
              "      <td>MIDDLE</td>\n",
              "      <td>MIDDLE</td>\n",
              "      <td>MIDDLE</td>\n",
              "      <td>MIDDLE</td>\n",
              "      <td>MIDDLE</td>\n",
              "      <td>MIDDLE</td>\n",
              "      <td>MIDDLE</td>\n",
              "      <td>MIDDLE</td>\n",
              "    </tr>\n",
              "    <tr>\n",
              "      <th>4</th>\n",
              "      <td>OLD</td>\n",
              "      <td>MIDDLE</td>\n",
              "      <td>MIDDLE</td>\n",
              "      <td>OLD</td>\n",
              "      <td>OLD</td>\n",
              "      <td>OLD</td>\n",
              "      <td>OLD</td>\n",
              "      <td>OLD</td>\n",
              "      <td>OLD</td>\n",
              "    </tr>\n",
              "  </tbody>\n",
              "</table>\n",
              "</div>"
            ],
            "text/plain": [
              "       a1      a2      a3      a4      a5      a6      a7      a8 max_freq\n",
              "0  MIDDLE  MIDDLE  MIDDLE  MIDDLE   YOUNG  MIDDLE   YOUNG   YOUNG   MIDDLE\n",
              "1   YOUNG   YOUNG   YOUNG   YOUNG   YOUNG   YOUNG   YOUNG   YOUNG    YOUNG\n",
              "2  MIDDLE  MIDDLE  MIDDLE  MIDDLE  MIDDLE  MIDDLE  MIDDLE  MIDDLE   MIDDLE\n",
              "3  MIDDLE  MIDDLE  MIDDLE  MIDDLE  MIDDLE  MIDDLE  MIDDLE  MIDDLE   MIDDLE\n",
              "4     OLD  MIDDLE  MIDDLE     OLD     OLD     OLD     OLD     OLD      OLD"
            ]
          },
          "metadata": {
            "tags": []
          },
          "execution_count": 14
        }
      ]
    },
    {
      "cell_type": "code",
      "metadata": {
        "id": "3_LspXOx4lUU",
        "colab_type": "code",
        "colab": {}
      },
      "source": [
        "result['max_freq'] = result.agg(lambda x: x.mode() if x.mode().size==1 else x['a4'], axis=1)"
      ],
      "execution_count": 0,
      "outputs": []
    },
    {
      "cell_type": "code",
      "metadata": {
        "id": "DskNkVG08ZwK",
        "colab_type": "code",
        "colab": {}
      },
      "source": [
        "csv = pd.read_csv('/content/sample_submission.csv')\n",
        "csv['Class'] = result['max_freq']"
      ],
      "execution_count": 0,
      "outputs": []
    },
    {
      "cell_type": "code",
      "metadata": {
        "id": "oy4c1FaM85zL",
        "colab_type": "code",
        "colab": {
          "base_uri": "https://localhost:8080/",
          "height": 195
        },
        "outputId": "66a144f3-f3d0-4489-8448-11cd20be053b"
      },
      "source": [
        "csv.head()"
      ],
      "execution_count": 16,
      "outputs": [
        {
          "output_type": "execute_result",
          "data": {
            "text/html": [
              "<div>\n",
              "<style scoped>\n",
              "    .dataframe tbody tr th:only-of-type {\n",
              "        vertical-align: middle;\n",
              "    }\n",
              "\n",
              "    .dataframe tbody tr th {\n",
              "        vertical-align: top;\n",
              "    }\n",
              "\n",
              "    .dataframe thead th {\n",
              "        text-align: right;\n",
              "    }\n",
              "</style>\n",
              "<table border=\"1\" class=\"dataframe\">\n",
              "  <thead>\n",
              "    <tr style=\"text-align: right;\">\n",
              "      <th></th>\n",
              "      <th>Class</th>\n",
              "      <th>ID</th>\n",
              "    </tr>\n",
              "  </thead>\n",
              "  <tbody>\n",
              "    <tr>\n",
              "      <th>0</th>\n",
              "      <td>MIDDLE</td>\n",
              "      <td>25321.jpg</td>\n",
              "    </tr>\n",
              "    <tr>\n",
              "      <th>1</th>\n",
              "      <td>YOUNG</td>\n",
              "      <td>989.jpg</td>\n",
              "    </tr>\n",
              "    <tr>\n",
              "      <th>2</th>\n",
              "      <td>MIDDLE</td>\n",
              "      <td>19277.jpg</td>\n",
              "    </tr>\n",
              "    <tr>\n",
              "      <th>3</th>\n",
              "      <td>MIDDLE</td>\n",
              "      <td>13093.jpg</td>\n",
              "    </tr>\n",
              "    <tr>\n",
              "      <th>4</th>\n",
              "      <td>OLD</td>\n",
              "      <td>5367.jpg</td>\n",
              "    </tr>\n",
              "  </tbody>\n",
              "</table>\n",
              "</div>"
            ],
            "text/plain": [
              "    Class         ID\n",
              "0  MIDDLE  25321.jpg\n",
              "1   YOUNG    989.jpg\n",
              "2  MIDDLE  19277.jpg\n",
              "3  MIDDLE  13093.jpg\n",
              "4     OLD   5367.jpg"
            ]
          },
          "metadata": {
            "tags": []
          },
          "execution_count": 16
        }
      ]
    },
    {
      "cell_type": "code",
      "metadata": {
        "id": "1xnkEAUw87hQ",
        "colab_type": "code",
        "colab": {}
      },
      "source": [
        "csv.to_csv('/content/essemble1.csv',index=False)"
      ],
      "execution_count": 0,
      "outputs": []
    },
    {
      "cell_type": "code",
      "metadata": {
        "id": "MpkWerRA9Hi-",
        "colab_type": "code",
        "colab": {}
      },
      "source": [
        ""
      ],
      "execution_count": 0,
      "outputs": []
    }
  ]
}