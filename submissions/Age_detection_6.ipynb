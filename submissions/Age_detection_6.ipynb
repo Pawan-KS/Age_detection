{
  "nbformat": 4,
  "nbformat_minor": 0,
  "metadata": {
    "colab": {
      "name": "Age_detection_1.ipynb",
      "provenance": [],
      "collapsed_sections": [],
      "toc_visible": true
    },
    "kernelspec": {
      "name": "python3",
      "display_name": "Python 3"
    },
    "accelerator": "GPU"
  },
  "cells": [
    {
      "cell_type": "code",
      "metadata": {
        "id": "OcQjSUsi1bFI",
        "colab_type": "code",
        "colab": {}
      },
      "source": [
        "!unzip test_Bh8pGW3.zip\n",
        "!unzip train_DETg9GD.zip"
      ],
      "execution_count": 0,
      "outputs": []
    },
    {
      "cell_type": "code",
      "metadata": {
        "id": "q7WjL1QqDdQV",
        "colab_type": "code",
        "outputId": "f83ece71-ec0c-4289-a3fe-497186f52677",
        "colab": {
          "base_uri": "https://localhost:8080/",
          "height": 118
        }
      },
      "source": [
        "import numpy as np\n",
        "import pandas as pd\n",
        "from random import randint\n",
        "import os\n",
        "import torch\n",
        "import torch.nn as nn\n",
        "import torch.nn.functional as F\n",
        "import torchvision\n",
        "from torch.optim.optimizer import Optimizer\n",
        "from sklearn.model_selection import train_test_split\n",
        "from sklearn.utils import shuffle\n",
        "from torch.utils.data import DataLoader, Dataset\n",
        "from sklearn.metrics import accuracy_score\n",
        "from matplotlib.pyplot import imread\n",
        "from pylab import *\n",
        "from albumentations import (RGBShift,Blur,RandomContrast,HueSaturationValue,RandomGamma,Rotate,RandomBrightness,HorizontalFlip, Normalize, Resize, Compose, GaussNoise,Transpose,RandomBrightnessContrast,RandomCrop)\n",
        "from albumentations.pytorch import ToTensor\n",
        "import torch.optim as optim\n",
        "from torch.optim import lr_scheduler\n",
        "from torchvision import datasets, models, transforms\n",
        "import time\n",
        "import copy\n",
        "!pip install timm\n",
        "import timm\n",
        "import rangelars_lookahead_ralamb\n",
        "from rangelars_lookahead_ralamb import *"
      ],
      "execution_count": 1,
      "outputs": [
        {
          "output_type": "stream",
          "text": [
            "Requirement already satisfied: timm in /usr/local/lib/python3.6/dist-packages (0.1.26)\n",
            "Requirement already satisfied: torch>=1.0 in /usr/local/lib/python3.6/dist-packages (from timm) (1.5.0+cu101)\n",
            "Requirement already satisfied: torchvision in /usr/local/lib/python3.6/dist-packages (from timm) (0.6.0+cu101)\n",
            "Requirement already satisfied: future in /usr/local/lib/python3.6/dist-packages (from torch>=1.0->timm) (0.16.0)\n",
            "Requirement already satisfied: numpy in /usr/local/lib/python3.6/dist-packages (from torch>=1.0->timm) (1.18.4)\n",
            "Requirement already satisfied: pillow>=4.1.1 in /usr/local/lib/python3.6/dist-packages (from torchvision->timm) (7.0.0)\n"
          ],
          "name": "stdout"
        }
      ]
    },
    {
      "cell_type": "code",
      "metadata": {
        "id": "74taFO98wHYT",
        "colab_type": "code",
        "colab": {}
      },
      "source": [
        "train_csv = pd.read_csv('/content/train.csv')\n",
        "train_csv,val_csv = train_test_split(train_csv,test_size=0.06,random_state=8)\n",
        "test_csv = pd.read_csv('/content/test.csv')\n",
        "test_csv['Class']=\"\"\n",
        "test_csv.Class='MIDDLE'"
      ],
      "execution_count": 0,
      "outputs": []
    },
    {
      "cell_type": "code",
      "metadata": {
        "id": "hF72YOEyw9fl",
        "colab_type": "code",
        "outputId": "b20fbb42-c50d-4cfe-9a91-5c29a0dc8756",
        "colab": {
          "base_uri": "https://localhost:8080/",
          "height": 101
        }
      },
      "source": [
        "print('train image count--',len(train_csv),'\\t test image count--',len(test_csv),'\\t val image count--',len(val_csv))\n",
        "train_csv.Class.value_counts(normalize=True)"
      ],
      "execution_count": 3,
      "outputs": [
        {
          "output_type": "stream",
          "text": [
            "train image count-- 18711 \t test image count-- 6636 \t val image count-- 1195\n"
          ],
          "name": "stdout"
        },
        {
          "output_type": "execute_result",
          "data": {
            "text/plain": [
              "MIDDLE    0.543103\n",
              "YOUNG     0.336112\n",
              "OLD       0.120785\n",
              "Name: Class, dtype: float64"
            ]
          },
          "metadata": {
            "tags": []
          },
          "execution_count": 3
        }
      ]
    },
    {
      "cell_type": "code",
      "metadata": {
        "id": "2qgEu1O3RUsE",
        "colab_type": "code",
        "colab": {}
      },
      "source": [
        "label_assign={'YOUNG':0,'MIDDLE':1,'OLD':2}"
      ],
      "execution_count": 0,
      "outputs": []
    },
    {
      "cell_type": "markdown",
      "metadata": {
        "id": "IK8jAK5CFUJp",
        "colab_type": "text"
      },
      "source": [
        "# knowing image shapes"
      ]
    },
    {
      "cell_type": "code",
      "metadata": {
        "id": "WfybElFLxQCt",
        "colab_type": "code",
        "colab": {}
      },
      "source": [
        "l=[]\n",
        "for i in range(len(train_csv)):\n",
        "  img_path = '/content/Train/' + str(train_csv.ID[i])\n",
        "  img = imread(img_path,format='jpg')\n",
        "  l.append(img.shape)\n",
        "l=np.array(l)"
      ],
      "execution_count": 0,
      "outputs": []
    },
    {
      "cell_type": "code",
      "metadata": {
        "id": "HSIurJn7Ef0C",
        "colab_type": "code",
        "colab": {}
      },
      "source": [
        "print(min(l[:,0]),min(l[:,1]))\n",
        "print(max(l[:,0]),max(l[:,1]))\n",
        "print(mean(l[:,0]),mean(l[:,1]))"
      ],
      "execution_count": 0,
      "outputs": []
    },
    {
      "cell_type": "markdown",
      "metadata": {
        "id": "y9tmNFakFps2",
        "colab_type": "text"
      },
      "source": [
        "# Building datasets and dataloaders before training"
      ]
    },
    {
      "cell_type": "code",
      "metadata": {
        "id": "LtqC04lP-Fvi",
        "colab_type": "code",
        "colab": {}
      },
      "source": [
        "class dataset(Dataset):\n",
        "  def __init__(self, csv_file, dir_path, phase):\n",
        "    self.csv_file = csv_file\n",
        "    self.dir_path = dir_path\n",
        "    self.phase = phase\n",
        "    self.transform = get_transforms(self.phase)\n",
        "\n",
        "  def __len__(self):\n",
        "    return len(self.csv_file)\n",
        "\n",
        "  def __getitem__(self,idx):\n",
        "    img_path = os.path.join(self.dir_path, self.csv_file.iloc[idx, 0])\n",
        "    image = imread(img_path)\n",
        "    label = label_assign[self.csv_file.iloc[idx, 1]]\n",
        "    aug_img = self.transform(image=image)\n",
        "    image = aug_img[\"image\"]\n",
        "    return image,label\n",
        "\n",
        "def get_transforms(phase):\n",
        "  t_list=[]\n",
        "  if phase=='train':\n",
        "    t_list.extend([RandomBrightness(limit=0.8, p=0.5),\n",
        "                   Rotate(limit=25, p=0.5),\n",
        "                   RGBShift(r_shift_limit=50, g_shift_limit=30, b_shift_limit=40, p=0.5),\n",
        "                   RandomGamma(gamma_limit=(80,165), p=0.5),\n",
        "                   HorizontalFlip(p=0.5),\n",
        "                   HueSaturationValue(hue_shift_limit=10, sat_shift_limit=30, val_shift_limit=30, p=0.5),\n",
        "                   RandomContrast(limit=0.5, p=0.5),\n",
        "                   RandomBrightnessContrast(brightness_limit=0.2, contrast_limit=0.2, p=0.5)\n",
        "                   ])\n",
        "  t_list.extend([Resize(125, 100, interpolation=1, p=1),    ## 16x16, 64x64 , 128x100\n",
        "                 Normalize(mean=(0.485, 0.456, 0.406), std=(0.229, 0.224, 0.225), max_pixel_value=255.0, p=1.0),\n",
        "                 ToTensor()])\n",
        "  return  Compose(t_list)"
      ],
      "execution_count": 0,
      "outputs": []
    },
    {
      "cell_type": "code",
      "metadata": {
        "id": "FcnzelbqB_2V",
        "colab_type": "code",
        "outputId": "f44eddc7-36b6-489f-d780-5042f9eb7fbe",
        "colab": {
          "base_uri": "https://localhost:8080/",
          "height": 34
        }
      },
      "source": [
        "### creating train and test datasets\n",
        "train_dataset = dataset(train_csv,'/content/Train/','train')\n",
        "test_dataset = dataset(test_csv,'/content/Test/','test')\n",
        "val_dataset = dataset(val_csv,'/content/Train/','val')\n",
        "dataset_sizes={'train':len(train_dataset),'val':len(val_dataset),'test':len(test_dataset)}\n",
        "print(dataset_sizes)"
      ],
      "execution_count": 17,
      "outputs": [
        {
          "output_type": "stream",
          "text": [
            "{'train': 18711, 'val': 1195, 'test': 6636}\n"
          ],
          "name": "stdout"
        }
      ]
    },
    {
      "cell_type": "code",
      "metadata": {
        "id": "DUVSGOI7aNSe",
        "colab_type": "code",
        "outputId": "d4b56634-3e2e-4213-f4a6-b527447bb910",
        "colab": {
          "base_uri": "https://localhost:8080/",
          "height": 403
        }
      },
      "source": [
        "### visualising datasets\n",
        "a=randint(0,1700)\n",
        "print(\"VISUALISING TRAIN DATASET\")\n",
        "for i in range(a,a+10):\n",
        "  image, label = train_dataset[i]\n",
        "  print(i,'\\t', image.shape,'\\t', label)\n",
        "print(\"\\nVISUALISING TEST DATASET\")\n",
        "b=randint(0,6625)\n",
        "for i in range(b,b+10):\n",
        "  image, label = test_dataset[i]\n",
        "  print(i,'\\t', image.shape,'\\t', label)"
      ],
      "execution_count": 18,
      "outputs": [
        {
          "output_type": "stream",
          "text": [
            "VISUALISING TRAIN DATASET\n",
            "1422 \t torch.Size([3, 125, 100]) \t 0\n",
            "1423 \t torch.Size([3, 125, 100]) \t 1\n",
            "1424 \t torch.Size([3, 125, 100]) \t 2\n",
            "1425 \t torch.Size([3, 125, 100]) \t 0\n",
            "1426 \t torch.Size([3, 125, 100]) \t 0\n",
            "1427 \t torch.Size([3, 125, 100]) \t 1\n",
            "1428 \t torch.Size([3, 125, 100]) \t 1\n",
            "1429 \t torch.Size([3, 125, 100]) \t 0\n",
            "1430 \t torch.Size([3, 125, 100]) \t 1\n",
            "1431 \t torch.Size([3, 125, 100]) \t 1\n",
            "\n",
            "VISUALISING TEST DATASET\n",
            "3666 \t torch.Size([3, 125, 100]) \t 1\n",
            "3667 \t torch.Size([3, 125, 100]) \t 1\n",
            "3668 \t torch.Size([3, 125, 100]) \t 1\n",
            "3669 \t torch.Size([3, 125, 100]) \t 1\n",
            "3670 \t torch.Size([3, 125, 100]) \t 1\n",
            "3671 \t torch.Size([3, 125, 100]) \t 1\n",
            "3672 \t torch.Size([3, 125, 100]) \t 1\n",
            "3673 \t torch.Size([3, 125, 100]) \t 1\n",
            "3674 \t torch.Size([3, 125, 100]) \t 1\n",
            "3675 \t torch.Size([3, 125, 100]) \t 1\n"
          ],
          "name": "stdout"
        }
      ]
    },
    {
      "cell_type": "code",
      "metadata": {
        "id": "Xxb-q1OsUBML",
        "colab_type": "code",
        "colab": {}
      },
      "source": [
        "dataloader={}\n",
        "dataloader['train'] = DataLoader(train_dataset, batch_size=256, shuffle=True, num_workers=1)\n",
        "dataloader['test'] = DataLoader(test_dataset, batch_size=32, shuffle=False, num_workers=1)\n",
        "dataloader['val'] = DataLoader(val_dataset, batch_size=256, shuffle=True, num_workers=1)"
      ],
      "execution_count": 0,
      "outputs": []
    },
    {
      "cell_type": "code",
      "metadata": {
        "id": "2djqGSTGbG5d",
        "colab_type": "code",
        "outputId": "3646e8df-7030-4862-cde5-5adb88949bc1",
        "colab": {
          "base_uri": "https://localhost:8080/",
          "height": 386
        }
      },
      "source": [
        "### visualing batches\n",
        "def show_batch(sample_batch):\n",
        "  img_batch,label_batch = sample_batch\n",
        "  print('batch size--',len(img_batch))\n",
        "  print('img size--',img_batch.size(2))\n",
        "  grid_border_size = 2\n",
        "  grid = torchvision.utils.make_grid(img_batch)\n",
        "  plt.imshow(grid.numpy().transpose((1, 2, 0)))\n",
        "\n",
        "for i, sample_batch in enumerate(dataloader['train']):\n",
        "  img, label = sample_batch\n",
        "  print(i, img.size(), label.shape)\n",
        "  if i==3:\n",
        "    show_batch(sample_batch)\n",
        "    break"
      ],
      "execution_count": 20,
      "outputs": [
        {
          "output_type": "stream",
          "text": [
            "0 torch.Size([256, 3, 125, 100]) torch.Size([256])\n",
            "1 torch.Size([256, 3, 125, 100]) torch.Size([256])\n",
            "2 torch.Size([256, 3, 125, 100]) torch.Size([256])\n"
          ],
          "name": "stdout"
        },
        {
          "output_type": "stream",
          "text": [
            "Clipping input data to the valid range for imshow with RGB data ([0..1] for floats or [0..255] for integers).\n"
          ],
          "name": "stderr"
        },
        {
          "output_type": "stream",
          "text": [
            "3 torch.Size([256, 3, 125, 100]) torch.Size([256])\n",
            "batch size-- 256\n",
            "img size-- 125\n"
          ],
          "name": "stdout"
        },
        {
          "output_type": "display_data",
          "data": {
            "image/png": "[encoded data removed]",
            "text/plain": [
              "<Figure size 432x288 with 1 Axes>"
            ]
          },
          "metadata": {
            "tags": [],
            "needs_background": "light"
          }
        }
      ]
    },
    {
      "cell_type": "markdown",
      "metadata": {
        "id": "qfADvrlVQKNm",
        "colab_type": "text"
      },
      "source": [
        "# Trainer"
      ]
    },
    {
      "cell_type": "code",
      "metadata": {
        "id": "oZlxMge2rJRc",
        "colab_type": "code",
        "colab": {}
      },
      "source": [
        "def train_model(model, criterion, optimizer, scheduler, num_epochs=25):\n",
        "    since = time.time()\n",
        "    latest_model_wts = copy.deepcopy(model.state_dict())\n",
        "    best_model_wts = copy.deepcopy(model.state_dict())\n",
        "    best_acc = 0.0\n",
        "\n",
        "    for epoch in range(num_epochs):\n",
        "        print('Epoch {}/{}'.format(epoch, num_epochs - 1))\n",
        "        print('-' * 10)\n",
        "\n",
        "        # Each epoch has a training and validation phase\n",
        "        for phase in ['train', 'val']:\n",
        "            if phase == 'train':\n",
        "                model.train()  # Set model to training mode\n",
        "            else:\n",
        "                model.eval()   # Set model to evaluate mode\n",
        "\n",
        "            running_loss = 0.0\n",
        "            running_corrects = 0\n",
        "\n",
        "            # Iterate over data.\n",
        "            for img_batch, labels in dataloader[phase]:\n",
        "                img_batch = img_batch.to(device)\n",
        "                labels = labels.to(device)\n",
        "\n",
        "                # zero the parameter gradients\n",
        "                optimizer.zero_grad()\n",
        "\n",
        "                # forward\n",
        "                # track history if only in train\n",
        "                with torch.set_grad_enabled(phase == 'train'):\n",
        "                    outputs = model(img_batch)\n",
        "                    _, preds = torch.max(outputs, 1)\n",
        "                    loss = criterion(outputs, labels)\n",
        "\n",
        "                    # backward + optimize only if in training phase\n",
        "                    if phase == 'train':\n",
        "                        loss.backward()\n",
        "                        optimizer.step()\n",
        "\n",
        "                # statistics\n",
        "                running_loss += loss.item() * img_batch.size(0)\n",
        "                running_corrects += torch.sum(preds == labels.data)\n",
        "            if phase == 'train':\n",
        "                scheduler.step()\n",
        "\n",
        "            epoch_loss = running_loss / dataset_sizes[phase]\n",
        "            epoch_acc = running_corrects.double() / dataset_sizes[phase]\n",
        "\n",
        "            print('{} Loss: {:.4f} Acc: {:.4f}'.format(\n",
        "                phase, epoch_loss, epoch_acc))\n",
        "\n",
        "            # deep copy the model\n",
        "            latest_model_wts = copy.deepcopy(model.state_dict())\n",
        "            if phase == 'val' and epoch_acc > best_acc:\n",
        "                best_acc = epoch_acc\n",
        "                best_model_wts = copy.deepcopy(model.state_dict())\n",
        "\n",
        "        print()\n",
        "\n",
        "    time_elapsed = time.time() - since\n",
        "    print('Training complete in {:.0f}m {:.0f}s'.format(\n",
        "        time_elapsed // 60, time_elapsed % 60))\n",
        "    print('Best val Acc: {:4f}'.format(best_acc))\n",
        "    # load best model weights\n",
        "    model.load_state_dict(best_model_wts)\n",
        "    return model"
      ],
      "execution_count": 0,
      "outputs": []
    },
    {
      "cell_type": "markdown",
      "metadata": {
        "id": "33zCbo8VQXad",
        "colab_type": "text"
      },
      "source": [
        "# Training model with freeze"
      ]
    },
    {
      "cell_type": "code",
      "metadata": {
        "id": "Jc1EPN-Y2nu6",
        "colab_type": "code",
        "outputId": "a3744b27-6b20-48c4-d278-99a3a1e7127e",
        "colab": {
          "base_uri": "https://localhost:8080/",
          "height": 1000
        }
      },
      "source": [
        "# lr_list = np.random.rand(20)\n",
        "# lr_list = 10**(-5*lr_list)\n",
        "# for lr in lr_list:\n",
        "#   print('***********\\tLR =',lr,'\\t************')\n",
        "model = models.resnet50(pretrained=True)\n",
        "for param in model.parameters():\n",
        "    param.requires_grad = False\n",
        "num_ftrs = model.fc.in_features\n",
        "model.fc = nn.Linear(num_ftrs, 3)\n",
        "\n",
        "device = torch.device(\"cuda\")\n",
        "model = model.to(device)\n",
        "\n",
        "criterion = nn.CrossEntropyLoss()\n",
        "#optimizer = optim.SGD(model.parameters(), lr=0.004, momentum=0.9, nesterov=True)\n",
        "optimizer = Over9000(model.parameters(), lr= 0.03)\n",
        "# Decay LR by a factor of 0.1 every 7 epochs\n",
        "exp_lr_scheduler = lr_scheduler.MultiStepLR(optimizer, [5,12,18], gamma=0.2)\n",
        "\n",
        "\n",
        "best_model = train_model(model, criterion, optimizer, exp_lr_scheduler, num_epochs=20)"
      ],
      "execution_count": 23,
      "outputs": [
        {
          "output_type": "stream",
          "text": [
            "Epoch 0/19\n",
            "----------\n",
            "train Loss: 2.6769 Acc: 0.5050\n",
            "val Loss: 2.9677 Acc: 0.4117\n",
            "\n",
            "Epoch 1/19\n",
            "----------\n",
            "train Loss: 2.7103 Acc: 0.5304\n",
            "val Loss: 8.2230 Acc: 0.5372\n",
            "\n",
            "Epoch 2/19\n",
            "----------\n",
            "train Loss: 4.2584 Acc: 0.5208\n",
            "val Loss: 1.9351 Acc: 0.5958\n",
            "\n",
            "Epoch 3/19\n",
            "----------\n",
            "train Loss: 5.1655 Acc: 0.5185\n",
            "val Loss: 9.3716 Acc: 0.5540\n",
            "\n",
            "Epoch 4/19\n",
            "----------\n",
            "train Loss: 7.1745 Acc: 0.5157\n",
            "val Loss: 12.4766 Acc: 0.5582\n",
            "\n",
            "Epoch 5/19\n",
            "----------\n",
            "train Loss: 7.1126 Acc: 0.5294\n",
            "val Loss: 9.8396 Acc: 0.6343\n",
            "\n",
            "Epoch 6/19\n",
            "----------\n",
            "train Loss: 3.4494 Acc: 0.6241\n",
            "val Loss: 2.0804 Acc: 0.6485\n",
            "\n",
            "Epoch 7/19\n",
            "----------\n"
          ],
          "name": "stdout"
        },
        {
          "output_type": "stream",
          "text": [
            "Exception ignored in: <bound method _MultiProcessingDataLoaderIter.__del__ of <torch.utils.data.dataloader._MultiProcessingDataLoaderIter object at 0x7f74551f9518>>\n",
            "Traceback (most recent call last):\n",
            "  File \"/usr/local/lib/python3.6/dist-packages/torch/utils/data/dataloader.py\", line 962, in __del__\n",
            "    self._shutdown_workers()\n",
            "  File \"/usr/local/lib/python3.6/dist-packages/torch/utils/data/dataloader.py\", line 942, in _shutdown_workers\n",
            "    w.join()\n",
            "  File \"/usr/lib/python3.6/multiprocessing/process.py\", line 122, in join\n",
            "    assert self._parent_pid == os.getpid(), 'can only join a child process'\n",
            "AssertionError: can only join a child process\n",
            "Exception ignored in: <bound method _MultiProcessingDataLoaderIter.__del__ of <torch.utils.data.dataloader._MultiProcessingDataLoaderIter object at 0x7f7455208588>>\n",
            "Traceback (most recent call last):\n",
            "  File \"/usr/local/lib/python3.6/dist-packages/torch/utils/data/dataloader.py\", line 962, in __del__\n",
            "    self._shutdown_workers()\n",
            "  File \"/usr/local/lib/python3.6/dist-packages/torch/utils/data/dataloader.py\", line 942, in _shutdown_workers\n",
            "    w.join()\n",
            "  File \"/usr/lib/python3.6/multiprocessing/process.py\", line 122, in join\n",
            "    assert self._parent_pid == os.getpid(), 'can only join a child process'\n",
            "AssertionError: can only join a child process\n"
          ],
          "name": "stderr"
        },
        {
          "output_type": "stream",
          "text": [
            "train Loss: 1.6400 Acc: 0.6362\n",
            "val Loss: 1.5186 Acc: 0.6318\n",
            "\n",
            "Epoch 8/19\n",
            "----------\n"
          ],
          "name": "stdout"
        },
        {
          "output_type": "stream",
          "text": [
            "Exception ignored in: <bound method _MultiProcessingDataLoaderIter.__del__ of <torch.utils.data.dataloader._MultiProcessingDataLoaderIter object at 0x7f74551f9518>>\n",
            "Traceback (most recent call last):\n",
            "  File \"/usr/local/lib/python3.6/dist-packages/torch/utils/data/dataloader.py\", line 962, in __del__\n",
            "    self._shutdown_workers()\n",
            "  File \"/usr/local/lib/python3.6/dist-packages/torch/utils/data/dataloader.py\", line 942, in _shutdown_workers\n",
            "    w.join()\n",
            "  File \"/usr/lib/python3.6/multiprocessing/process.py\", line 122, in join\n",
            "    assert self._parent_pid == os.getpid(), 'can only join a child process'\n",
            "AssertionError: can only join a child process\n",
            "Exception ignored in: <bound method _MultiProcessingDataLoaderIter.__del__ of <torch.utils.data.dataloader._MultiProcessingDataLoaderIter object at 0x7f7455208588>>\n",
            "Traceback (most recent call last):\n",
            "  File \"/usr/local/lib/python3.6/dist-packages/torch/utils/data/dataloader.py\", line 962, in __del__\n",
            "    self._shutdown_workers()\n",
            "  File \"/usr/local/lib/python3.6/dist-packages/torch/utils/data/dataloader.py\", line 942, in _shutdown_workers\n",
            "    w.join()\n",
            "  File \"/usr/lib/python3.6/multiprocessing/process.py\", line 122, in join\n",
            "    assert self._parent_pid == os.getpid(), 'can only join a child process'\n",
            "AssertionError: can only join a child process\n"
          ],
          "name": "stderr"
        },
        {
          "output_type": "stream",
          "text": [
            "train Loss: 1.2739 Acc: 0.6395\n",
            "val Loss: 1.1922 Acc: 0.6385\n",
            "\n",
            "Epoch 9/19\n",
            "----------\n"
          ],
          "name": "stdout"
        },
        {
          "output_type": "stream",
          "text": [
            "Exception ignored in: <bound method _MultiProcessingDataLoaderIter.__del__ of <torch.utils.data.dataloader._MultiProcessingDataLoaderIter object at 0x7f74551f9518>>\n",
            "Traceback (most recent call last):\n",
            "  File \"/usr/local/lib/python3.6/dist-packages/torch/utils/data/dataloader.py\", line 962, in __del__\n",
            "    self._shutdown_workers()\n",
            "  File \"/usr/local/lib/python3.6/dist-packages/torch/utils/data/dataloader.py\", line 942, in _shutdown_workers\n",
            "    w.join()\n",
            "  File \"/usr/lib/python3.6/multiprocessing/process.py\", line 122, in join\n",
            "    assert self._parent_pid == os.getpid(), 'can only join a child process'\n",
            "AssertionError: can only join a child process\n",
            "Exception ignored in: <bound method _MultiProcessingDataLoaderIter.__del__ of <torch.utils.data.dataloader._MultiProcessingDataLoaderIter object at 0x7f7455208588>>\n",
            "Traceback (most recent call last):\n",
            "  File \"/usr/local/lib/python3.6/dist-packages/torch/utils/data/dataloader.py\", line 962, in __del__\n",
            "    self._shutdown_workers()\n",
            "  File \"/usr/local/lib/python3.6/dist-packages/torch/utils/data/dataloader.py\", line 942, in _shutdown_workers\n",
            "    w.join()\n",
            "  File \"/usr/lib/python3.6/multiprocessing/process.py\", line 122, in join\n",
            "    assert self._parent_pid == os.getpid(), 'can only join a child process'\n",
            "AssertionError: can only join a child process\n"
          ],
          "name": "stderr"
        },
        {
          "output_type": "stream",
          "text": [
            "train Loss: 1.0908 Acc: 0.6378\n",
            "val Loss: 1.2093 Acc: 0.5841\n",
            "\n",
            "Epoch 10/19\n",
            "----------\n"
          ],
          "name": "stdout"
        },
        {
          "output_type": "stream",
          "text": [
            "Exception ignored in: <bound method _MultiProcessingDataLoaderIter.__del__ of <torch.utils.data.dataloader._MultiProcessingDataLoaderIter object at 0x7f74551f9518>>\n",
            "Traceback (most recent call last):\n",
            "  File \"/usr/local/lib/python3.6/dist-packages/torch/utils/data/dataloader.py\", line 962, in __del__\n",
            "    self._shutdown_workers()\n",
            "  File \"/usr/local/lib/python3.6/dist-packages/torch/utils/data/dataloader.py\", line 942, in _shutdown_workers\n",
            "    w.join()\n",
            "  File \"/usr/lib/python3.6/multiprocessing/process.py\", line 122, in join\n",
            "    assert self._parent_pid == os.getpid(), 'can only join a child process'\n",
            "AssertionError: can only join a child process\n",
            "Exception ignored in: <bound method _MultiProcessingDataLoaderIter.__del__ of <torch.utils.data.dataloader._MultiProcessingDataLoaderIter object at 0x7f7455208588>>\n",
            "Traceback (most recent call last):\n",
            "  File \"/usr/local/lib/python3.6/dist-packages/torch/utils/data/dataloader.py\", line 962, in __del__\n",
            "    self._shutdown_workers()\n",
            "  File \"/usr/local/lib/python3.6/dist-packages/torch/utils/data/dataloader.py\", line 942, in _shutdown_workers\n",
            "    w.join()\n",
            "  File \"/usr/lib/python3.6/multiprocessing/process.py\", line 122, in join\n",
            "    assert self._parent_pid == os.getpid(), 'can only join a child process'\n",
            "AssertionError: can only join a child process\n"
          ],
          "name": "stderr"
        },
        {
          "output_type": "stream",
          "text": [
            "train Loss: 0.9935 Acc: 0.6367\n",
            "val Loss: 1.1541 Acc: 0.5858\n",
            "\n",
            "Epoch 11/19\n",
            "----------\n"
          ],
          "name": "stdout"
        },
        {
          "output_type": "stream",
          "text": [
            "Exception ignored in: <bound method _MultiProcessingDataLoaderIter.__del__ of <torch.utils.data.dataloader._MultiProcessingDataLoaderIter object at 0x7f74551f9518>>\n",
            "Traceback (most recent call last):\n",
            "  File \"/usr/local/lib/python3.6/dist-packages/torch/utils/data/dataloader.py\", line 962, in __del__\n",
            "    self._shutdown_workers()\n",
            "  File \"/usr/local/lib/python3.6/dist-packages/torch/utils/data/dataloader.py\", line 942, in _shutdown_workers\n",
            "    w.join()\n",
            "  File \"/usr/lib/python3.6/multiprocessing/process.py\", line 122, in join\n",
            "    assert self._parent_pid == os.getpid(), 'can only join a child process'\n",
            "AssertionError: can only join a child process\n",
            "Exception ignored in: <bound method _MultiProcessingDataLoaderIter.__del__ of <torch.utils.data.dataloader._MultiProcessingDataLoaderIter object at 0x7f7455208588>>\n",
            "Traceback (most recent call last):\n",
            "  File \"/usr/local/lib/python3.6/dist-packages/torch/utils/data/dataloader.py\", line 962, in __del__\n",
            "    self._shutdown_workers()\n",
            "  File \"/usr/local/lib/python3.6/dist-packages/torch/utils/data/dataloader.py\", line 942, in _shutdown_workers\n",
            "    w.join()\n",
            "  File \"/usr/lib/python3.6/multiprocessing/process.py\", line 122, in join\n",
            "    assert self._parent_pid == os.getpid(), 'can only join a child process'\n",
            "AssertionError: can only join a child process\n"
          ],
          "name": "stderr"
        },
        {
          "output_type": "stream",
          "text": [
            "train Loss: 0.9663 Acc: 0.6356\n",
            "val Loss: 0.8703 Acc: 0.6820\n",
            "\n",
            "Epoch 12/19\n",
            "----------\n"
          ],
          "name": "stdout"
        },
        {
          "output_type": "stream",
          "text": [
            "Exception ignored in: <bound method _MultiProcessingDataLoaderIter.__del__ of <torch.utils.data.dataloader._MultiProcessingDataLoaderIter object at 0x7f74551f9518>>\n",
            "Traceback (most recent call last):\n",
            "  File \"/usr/local/lib/python3.6/dist-packages/torch/utils/data/dataloader.py\", line 962, in __del__\n",
            "    self._shutdown_workers()\n",
            "  File \"/usr/local/lib/python3.6/dist-packages/torch/utils/data/dataloader.py\", line 942, in _shutdown_workers\n",
            "    w.join()\n",
            "  File \"/usr/lib/python3.6/multiprocessing/process.py\", line 122, in join\n",
            "    assert self._parent_pid == os.getpid(), 'can only join a child process'\n",
            "AssertionError: can only join a child process\n",
            "Exception ignored in: <bound method _MultiProcessingDataLoaderIter.__del__ of <torch.utils.data.dataloader._MultiProcessingDataLoaderIter object at 0x7f7455208588>>\n",
            "Traceback (most recent call last):\n",
            "  File \"/usr/local/lib/python3.6/dist-packages/torch/utils/data/dataloader.py\", line 962, in __del__\n",
            "    self._shutdown_workers()\n",
            "  File \"/usr/local/lib/python3.6/dist-packages/torch/utils/data/dataloader.py\", line 942, in _shutdown_workers\n",
            "    w.join()\n",
            "  File \"/usr/lib/python3.6/multiprocessing/process.py\", line 122, in join\n",
            "    assert self._parent_pid == os.getpid(), 'can only join a child process'\n",
            "AssertionError: can only join a child process\n"
          ],
          "name": "stderr"
        },
        {
          "output_type": "stream",
          "text": [
            "train Loss: 0.8519 Acc: 0.6558\n",
            "val Loss: 0.8307 Acc: 0.6669\n",
            "\n",
            "Epoch 13/19\n",
            "----------\n"
          ],
          "name": "stdout"
        },
        {
          "output_type": "stream",
          "text": [
            "Exception ignored in: <bound method _MultiProcessingDataLoaderIter.__del__ of <torch.utils.data.dataloader._MultiProcessingDataLoaderIter object at 0x7f74551f9518>>\n",
            "Traceback (most recent call last):\n",
            "  File \"/usr/local/lib/python3.6/dist-packages/torch/utils/data/dataloader.py\", line 962, in __del__\n",
            "    self._shutdown_workers()\n",
            "  File \"/usr/local/lib/python3.6/dist-packages/torch/utils/data/dataloader.py\", line 942, in _shutdown_workers\n",
            "    w.join()\n",
            "  File \"/usr/lib/python3.6/multiprocessing/process.py\", line 122, in join\n",
            "    assert self._parent_pid == os.getpid(), 'can only join a child process'\n",
            "AssertionError: can only join a child process\n",
            "Exception ignored in: <bound method _MultiProcessingDataLoaderIter.__del__ of <torch.utils.data.dataloader._MultiProcessingDataLoaderIter object at 0x7f7455208588>>\n",
            "Traceback (most recent call last):\n",
            "  File \"/usr/local/lib/python3.6/dist-packages/torch/utils/data/dataloader.py\", line 962, in __del__\n",
            "    self._shutdown_workers()\n",
            "  File \"/usr/local/lib/python3.6/dist-packages/torch/utils/data/dataloader.py\", line 942, in _shutdown_workers\n",
            "    w.join()\n",
            "  File \"/usr/lib/python3.6/multiprocessing/process.py\", line 122, in join\n",
            "    assert self._parent_pid == os.getpid(), 'can only join a child process'\n",
            "AssertionError: can only join a child process\n"
          ],
          "name": "stderr"
        },
        {
          "output_type": "stream",
          "text": [
            "train Loss: 0.8505 Acc: 0.6550\n",
            "val Loss: 0.8209 Acc: 0.6695\n",
            "\n",
            "Epoch 14/19\n",
            "----------\n"
          ],
          "name": "stdout"
        },
        {
          "output_type": "stream",
          "text": [
            "Exception ignored in: <bound method _MultiProcessingDataLoaderIter.__del__ of <torch.utils.data.dataloader._MultiProcessingDataLoaderIter object at 0x7f74551f9518>>\n",
            "Traceback (most recent call last):\n",
            "  File \"/usr/local/lib/python3.6/dist-packages/torch/utils/data/dataloader.py\", line 962, in __del__\n",
            "    self._shutdown_workers()\n",
            "  File \"/usr/local/lib/python3.6/dist-packages/torch/utils/data/dataloader.py\", line 942, in _shutdown_workers\n",
            "    w.join()\n",
            "  File \"/usr/lib/python3.6/multiprocessing/process.py\", line 122, in join\n",
            "    assert self._parent_pid == os.getpid(), 'can only join a child process'\n",
            "AssertionError: can only join a child process\n",
            "Exception ignored in: <bound method _MultiProcessingDataLoaderIter.__del__ of <torch.utils.data.dataloader._MultiProcessingDataLoaderIter object at 0x7f7455208588>>\n",
            "Traceback (most recent call last):\n",
            "  File \"/usr/local/lib/python3.6/dist-packages/torch/utils/data/dataloader.py\", line 962, in __del__\n",
            "    self._shutdown_workers()\n",
            "  File \"/usr/local/lib/python3.6/dist-packages/torch/utils/data/dataloader.py\", line 942, in _shutdown_workers\n",
            "    w.join()\n",
            "  File \"/usr/lib/python3.6/multiprocessing/process.py\", line 122, in join\n",
            "    assert self._parent_pid == os.getpid(), 'can only join a child process'\n",
            "AssertionError: can only join a child process\n"
          ],
          "name": "stderr"
        },
        {
          "output_type": "stream",
          "text": [
            "train Loss: 0.8413 Acc: 0.6533\n",
            "val Loss: 0.8119 Acc: 0.6820\n",
            "\n",
            "Epoch 15/19\n",
            "----------\n"
          ],
          "name": "stdout"
        },
        {
          "output_type": "stream",
          "text": [
            "Exception ignored in: <bound method _MultiProcessingDataLoaderIter.__del__ of <torch.utils.data.dataloader._MultiProcessingDataLoaderIter object at 0x7f74551f9518>>\n",
            "Traceback (most recent call last):\n",
            "  File \"/usr/local/lib/python3.6/dist-packages/torch/utils/data/dataloader.py\", line 962, in __del__\n",
            "    self._shutdown_workers()\n",
            "  File \"/usr/local/lib/python3.6/dist-packages/torch/utils/data/dataloader.py\", line 942, in _shutdown_workers\n",
            "    w.join()\n",
            "  File \"/usr/lib/python3.6/multiprocessing/process.py\", line 122, in join\n",
            "    assert self._parent_pid == os.getpid(), 'can only join a child process'\n",
            "AssertionError: can only join a child process\n",
            "Exception ignored in: <bound method _MultiProcessingDataLoaderIter.__del__ of <torch.utils.data.dataloader._MultiProcessingDataLoaderIter object at 0x7f7455208588>>\n",
            "Traceback (most recent call last):\n",
            "  File \"/usr/local/lib/python3.6/dist-packages/torch/utils/data/dataloader.py\", line 962, in __del__\n",
            "    self._shutdown_workers()\n",
            "  File \"/usr/local/lib/python3.6/dist-packages/torch/utils/data/dataloader.py\", line 942, in _shutdown_workers\n",
            "    w.join()\n",
            "  File \"/usr/lib/python3.6/multiprocessing/process.py\", line 122, in join\n",
            "    assert self._parent_pid == os.getpid(), 'can only join a child process'\n",
            "AssertionError: can only join a child process\n"
          ],
          "name": "stderr"
        },
        {
          "output_type": "stream",
          "text": [
            "train Loss: 0.8177 Acc: 0.6655\n",
            "val Loss: 0.8032 Acc: 0.6753\n",
            "\n",
            "Epoch 16/19\n",
            "----------\n"
          ],
          "name": "stdout"
        },
        {
          "output_type": "stream",
          "text": [
            "Exception ignored in: <bound method _MultiProcessingDataLoaderIter.__del__ of <torch.utils.data.dataloader._MultiProcessingDataLoaderIter object at 0x7f74551f9518>>\n",
            "Traceback (most recent call last):\n",
            "  File \"/usr/local/lib/python3.6/dist-packages/torch/utils/data/dataloader.py\", line 962, in __del__\n",
            "    self._shutdown_workers()\n",
            "  File \"/usr/local/lib/python3.6/dist-packages/torch/utils/data/dataloader.py\", line 942, in _shutdown_workers\n",
            "    w.join()\n",
            "  File \"/usr/lib/python3.6/multiprocessing/process.py\", line 122, in join\n",
            "    assert self._parent_pid == os.getpid(), 'can only join a child process'\n",
            "AssertionError: can only join a child process\n",
            "Exception ignored in: <bound method _MultiProcessingDataLoaderIter.__del__ of <torch.utils.data.dataloader._MultiProcessingDataLoaderIter object at 0x7f7455208588>>\n",
            "Traceback (most recent call last):\n",
            "  File \"/usr/local/lib/python3.6/dist-packages/torch/utils/data/dataloader.py\", line 962, in __del__\n",
            "    self._shutdown_workers()\n",
            "  File \"/usr/local/lib/python3.6/dist-packages/torch/utils/data/dataloader.py\", line 942, in _shutdown_workers\n",
            "    w.join()\n",
            "  File \"/usr/lib/python3.6/multiprocessing/process.py\", line 122, in join\n",
            "    assert self._parent_pid == os.getpid(), 'can only join a child process'\n",
            "AssertionError: can only join a child process\n"
          ],
          "name": "stderr"
        },
        {
          "output_type": "stream",
          "text": [
            "train Loss: 0.8191 Acc: 0.6576\n",
            "val Loss: 0.8019 Acc: 0.6711\n",
            "\n",
            "Epoch 17/19\n",
            "----------\n"
          ],
          "name": "stdout"
        },
        {
          "output_type": "stream",
          "text": [
            "Exception ignored in: <bound method _MultiProcessingDataLoaderIter.__del__ of <torch.utils.data.dataloader._MultiProcessingDataLoaderIter object at 0x7f74551f9518>>\n",
            "Traceback (most recent call last):\n",
            "  File \"/usr/local/lib/python3.6/dist-packages/torch/utils/data/dataloader.py\", line 962, in __del__\n",
            "    self._shutdown_workers()\n",
            "  File \"/usr/local/lib/python3.6/dist-packages/torch/utils/data/dataloader.py\", line 942, in _shutdown_workers\n",
            "    w.join()\n",
            "  File \"/usr/lib/python3.6/multiprocessing/process.py\", line 122, in join\n",
            "    assert self._parent_pid == os.getpid(), 'can only join a child process'\n",
            "AssertionError: can only join a child process\n",
            "Exception ignored in: <bound method _MultiProcessingDataLoaderIter.__del__ of <torch.utils.data.dataloader._MultiProcessingDataLoaderIter object at 0x7f7455208588>>\n",
            "Traceback (most recent call last):\n",
            "  File \"/usr/local/lib/python3.6/dist-packages/torch/utils/data/dataloader.py\", line 962, in __del__\n",
            "    self._shutdown_workers()\n",
            "  File \"/usr/local/lib/python3.6/dist-packages/torch/utils/data/dataloader.py\", line 942, in _shutdown_workers\n",
            "    w.join()\n",
            "  File \"/usr/lib/python3.6/multiprocessing/process.py\", line 122, in join\n",
            "    assert self._parent_pid == os.getpid(), 'can only join a child process'\n",
            "AssertionError: can only join a child process\n"
          ],
          "name": "stderr"
        },
        {
          "output_type": "stream",
          "text": [
            "train Loss: 0.8235 Acc: 0.6626\n",
            "val Loss: 0.7911 Acc: 0.6736\n",
            "\n",
            "Epoch 18/19\n",
            "----------\n"
          ],
          "name": "stdout"
        },
        {
          "output_type": "stream",
          "text": [
            "Exception ignored in: <bound method _MultiProcessingDataLoaderIter.__del__ of <torch.utils.data.dataloader._MultiProcessingDataLoaderIter object at 0x7f74551f9518>>\n",
            "Traceback (most recent call last):\n",
            "  File \"/usr/local/lib/python3.6/dist-packages/torch/utils/data/dataloader.py\", line 962, in __del__\n",
            "    self._shutdown_workers()\n",
            "  File \"/usr/local/lib/python3.6/dist-packages/torch/utils/data/dataloader.py\", line 942, in _shutdown_workers\n",
            "    w.join()\n",
            "  File \"/usr/lib/python3.6/multiprocessing/process.py\", line 122, in join\n",
            "    assert self._parent_pid == os.getpid(), 'can only join a child process'\n",
            "AssertionError: can only join a child process\n",
            "Exception ignored in: <bound method _MultiProcessingDataLoaderIter.__del__ of <torch.utils.data.dataloader._MultiProcessingDataLoaderIter object at 0x7f7455208588>>\n",
            "Traceback (most recent call last):\n",
            "  File \"/usr/local/lib/python3.6/dist-packages/torch/utils/data/dataloader.py\", line 962, in __del__\n",
            "    self._shutdown_workers()\n",
            "  File \"/usr/local/lib/python3.6/dist-packages/torch/utils/data/dataloader.py\", line 942, in _shutdown_workers\n",
            "    w.join()\n",
            "  File \"/usr/lib/python3.6/multiprocessing/process.py\", line 122, in join\n",
            "    assert self._parent_pid == os.getpid(), 'can only join a child process'\n",
            "AssertionError: can only join a child process\n"
          ],
          "name": "stderr"
        },
        {
          "output_type": "stream",
          "text": [
            "train Loss: 0.8058 Acc: 0.6663\n",
            "val Loss: 0.7828 Acc: 0.6803\n",
            "\n",
            "Epoch 19/19\n",
            "----------\n"
          ],
          "name": "stdout"
        },
        {
          "output_type": "stream",
          "text": [
            "Exception ignored in: <bound method _MultiProcessingDataLoaderIter.__del__ of <torch.utils.data.dataloader._MultiProcessingDataLoaderIter object at 0x7f74551f9518>>\n",
            "Traceback (most recent call last):\n",
            "  File \"/usr/local/lib/python3.6/dist-packages/torch/utils/data/dataloader.py\", line 962, in __del__\n",
            "    self._shutdown_workers()\n",
            "  File \"/usr/local/lib/python3.6/dist-packages/torch/utils/data/dataloader.py\", line 942, in _shutdown_workers\n",
            "    w.join()\n",
            "  File \"/usr/lib/python3.6/multiprocessing/process.py\", line 122, in join\n",
            "    assert self._parent_pid == os.getpid(), 'can only join a child process'\n",
            "AssertionError: can only join a child process\n",
            "Exception ignored in: <bound method _MultiProcessingDataLoaderIter.__del__ of <torch.utils.data.dataloader._MultiProcessingDataLoaderIter object at 0x7f7455208588>>\n",
            "Traceback (most recent call last):\n",
            "  File \"/usr/local/lib/python3.6/dist-packages/torch/utils/data/dataloader.py\", line 962, in __del__\n",
            "    self._shutdown_workers()\n",
            "  File \"/usr/local/lib/python3.6/dist-packages/torch/utils/data/dataloader.py\", line 942, in _shutdown_workers\n",
            "    w.join()\n",
            "  File \"/usr/lib/python3.6/multiprocessing/process.py\", line 122, in join\n",
            "    assert self._parent_pid == os.getpid(), 'can only join a child process'\n",
            "AssertionError: can only join a child process\n"
          ],
          "name": "stderr"
        },
        {
          "output_type": "stream",
          "text": [
            "train Loss: 0.8067 Acc: 0.6630\n",
            "val Loss: 0.7873 Acc: 0.6728\n",
            "\n",
            "Training complete in 16m 5s\n",
            "Best val Acc: 0.682008\n"
          ],
          "name": "stdout"
        }
      ]
    },
    {
      "cell_type": "markdown",
      "metadata": {
        "id": "c8u-GimZQh9g",
        "colab_type": "text"
      },
      "source": [
        "# Unfreeze and training (fine tuning)"
      ]
    },
    {
      "cell_type": "code",
      "metadata": {
        "id": "cRB599HdVivN",
        "colab_type": "code",
        "colab": {}
      },
      "source": [
        "model = best_model\n",
        "for param in model.parameters():\n",
        "    param.requires_grad = True\n",
        "\n",
        "device = torch.device(\"cuda\")\n",
        "model = model.to(device)\n",
        "\n",
        "criterion = nn.CrossEntropyLoss()\n",
        "#optimizer = optim.SGD(model.parameters(), lr=0.01, momentum=0.9, nesterov=True)\n",
        "optimiser = Over9000(model.parameters(), lr= 2)\n",
        "# Decay LR by a factor of 0.1 every 7 epochs\n",
        "exp_lr_scheduler = lr_scheduler.MultiStepLR(optimizer, [6,12,20,30,40,50], gamma=0.2)"
      ],
      "execution_count": 0,
      "outputs": []
    },
    {
      "cell_type": "code",
      "metadata": {
        "id": "eyYNAnvJpZs5",
        "colab_type": "code",
        "outputId": "7b4e1a7b-555b-48d2-e34b-ecc7efbf0e96",
        "colab": {
          "base_uri": "https://localhost:8080/",
          "height": 1000
        }
      },
      "source": [
        "new_model = train_model(model, criterion, optimizer, exp_lr_scheduler, num_epochs=50)"
      ],
      "execution_count": 25,
      "outputs": [
        {
          "output_type": "stream",
          "text": [
            "Epoch 0/49\n",
            "----------\n"
          ],
          "name": "stdout"
        },
        {
          "output_type": "stream",
          "text": [
            "Exception ignored in: <bound method _MultiProcessingDataLoaderIter.__del__ of <torch.utils.data.dataloader._MultiProcessingDataLoaderIter object at 0x7f74551f9518>>\n",
            "Traceback (most recent call last):\n",
            "  File \"/usr/local/lib/python3.6/dist-packages/torch/utils/data/dataloader.py\", line 962, in __del__\n",
            "    self._shutdown_workers()\n",
            "  File \"/usr/local/lib/python3.6/dist-packages/torch/utils/data/dataloader.py\", line 942, in _shutdown_workers\n",
            "    w.join()\n",
            "  File \"/usr/lib/python3.6/multiprocessing/process.py\", line 122, in join\n",
            "    assert self._parent_pid == os.getpid(), 'can only join a child process'\n",
            "AssertionError: can only join a child process\n",
            "Exception ignored in: <bound method _MultiProcessingDataLoaderIter.__del__ of <torch.utils.data.dataloader._MultiProcessingDataLoaderIter object at 0x7f7455208588>>\n",
            "Traceback (most recent call last):\n",
            "  File \"/usr/local/lib/python3.6/dist-packages/torch/utils/data/dataloader.py\", line 962, in __del__\n",
            "    self._shutdown_workers()\n",
            "  File \"/usr/local/lib/python3.6/dist-packages/torch/utils/data/dataloader.py\", line 942, in _shutdown_workers\n",
            "    w.join()\n",
            "  File \"/usr/lib/python3.6/multiprocessing/process.py\", line 122, in join\n",
            "    assert self._parent_pid == os.getpid(), 'can only join a child process'\n",
            "AssertionError: can only join a child process\n"
          ],
          "name": "stderr"
        },
        {
          "output_type": "stream",
          "text": [
            "train Loss: 0.7962 Acc: 0.6691\n"
          ],
          "name": "stdout"
        },
        {
          "output_type": "stream",
          "text": [
            "Exception ignored in: <bound method _MultiProcessingDataLoaderIter.__del__ of <torch.utils.data.dataloader._MultiProcessingDataLoaderIter object at 0x7f74551f9518>>\n",
            "Traceback (most recent call last):\n",
            "  File \"/usr/local/lib/python3.6/dist-packages/torch/utils/data/dataloader.py\", line 962, in __del__\n",
            "    self._shutdown_workers()\n",
            "  File \"/usr/local/lib/python3.6/dist-packages/torch/utils/data/dataloader.py\", line 942, in _shutdown_workers\n",
            "    w.join()\n",
            "  File \"/usr/lib/python3.6/multiprocessing/process.py\", line 122, in join\n",
            "    assert self._parent_pid == os.getpid(), 'can only join a child process'\n",
            "AssertionError: can only join a child process\n",
            "Exception ignored in: <bound method _MultiProcessingDataLoaderIter.__del__ of <torch.utils.data.dataloader._MultiProcessingDataLoaderIter object at 0x7f7455208588>>\n",
            "Traceback (most recent call last):\n",
            "  File \"/usr/local/lib/python3.6/dist-packages/torch/utils/data/dataloader.py\", line 962, in __del__\n",
            "    self._shutdown_workers()\n",
            "  File \"/usr/local/lib/python3.6/dist-packages/torch/utils/data/dataloader.py\", line 942, in _shutdown_workers\n",
            "    w.join()\n",
            "  File \"/usr/lib/python3.6/multiprocessing/process.py\", line 122, in join\n",
            "    assert self._parent_pid == os.getpid(), 'can only join a child process'\n",
            "AssertionError: can only join a child process\n"
          ],
          "name": "stderr"
        },
        {
          "output_type": "stream",
          "text": [
            "val Loss: 0.7166 Acc: 0.6987\n",
            "\n",
            "Epoch 1/49\n",
            "----------\n"
          ],
          "name": "stdout"
        },
        {
          "output_type": "stream",
          "text": [
            "Exception ignored in: <bound method _MultiProcessingDataLoaderIter.__del__ of <torch.utils.data.dataloader._MultiProcessingDataLoaderIter object at 0x7f74551f9518>>\n",
            "Traceback (most recent call last):\n",
            "  File \"/usr/local/lib/python3.6/dist-packages/torch/utils/data/dataloader.py\", line 962, in __del__\n",
            "    self._shutdown_workers()\n",
            "  File \"/usr/local/lib/python3.6/dist-packages/torch/utils/data/dataloader.py\", line 942, in _shutdown_workers\n",
            "    w.join()\n",
            "  File \"/usr/lib/python3.6/multiprocessing/process.py\", line 122, in join\n",
            "    assert self._parent_pid == os.getpid(), 'can only join a child process'\n",
            "AssertionError: can only join a child process\n",
            "Exception ignored in: <bound method _MultiProcessingDataLoaderIter.__del__ of <torch.utils.data.dataloader._MultiProcessingDataLoaderIter object at 0x7f7455208588>>\n",
            "Traceback (most recent call last):\n",
            "  File \"/usr/local/lib/python3.6/dist-packages/torch/utils/data/dataloader.py\", line 962, in __del__\n",
            "    self._shutdown_workers()\n",
            "  File \"/usr/local/lib/python3.6/dist-packages/torch/utils/data/dataloader.py\", line 942, in _shutdown_workers\n",
            "    w.join()\n",
            "  File \"/usr/lib/python3.6/multiprocessing/process.py\", line 122, in join\n",
            "    assert self._parent_pid == os.getpid(), 'can only join a child process'\n",
            "AssertionError: can only join a child process\n"
          ],
          "name": "stderr"
        },
        {
          "output_type": "stream",
          "text": [
            "train Loss: 0.7191 Acc: 0.7007\n",
            "val Loss: 0.7100 Acc: 0.7096\n",
            "\n",
            "Epoch 2/49\n",
            "----------\n"
          ],
          "name": "stdout"
        },
        {
          "output_type": "stream",
          "text": [
            "Exception ignored in: <bound method _MultiProcessingDataLoaderIter.__del__ of <torch.utils.data.dataloader._MultiProcessingDataLoaderIter object at 0x7f74551f9518>>\n",
            "Traceback (most recent call last):\n",
            "  File \"/usr/local/lib/python3.6/dist-packages/torch/utils/data/dataloader.py\", line 962, in __del__\n",
            "    self._shutdown_workers()\n",
            "  File \"/usr/local/lib/python3.6/dist-packages/torch/utils/data/dataloader.py\", line 942, in _shutdown_workers\n",
            "    w.join()\n",
            "  File \"/usr/lib/python3.6/multiprocessing/process.py\", line 122, in join\n",
            "    assert self._parent_pid == os.getpid(), 'can only join a child process'\n",
            "AssertionError: can only join a child process\n",
            "Exception ignored in: <bound method _MultiProcessingDataLoaderIter.__del__ of <torch.utils.data.dataloader._MultiProcessingDataLoaderIter object at 0x7f7455208588>>\n",
            "Traceback (most recent call last):\n",
            "  File \"/usr/local/lib/python3.6/dist-packages/torch/utils/data/dataloader.py\", line 962, in __del__\n",
            "    self._shutdown_workers()\n",
            "  File \"/usr/local/lib/python3.6/dist-packages/torch/utils/data/dataloader.py\", line 942, in _shutdown_workers\n",
            "    w.join()\n",
            "  File \"/usr/lib/python3.6/multiprocessing/process.py\", line 122, in join\n",
            "    assert self._parent_pid == os.getpid(), 'can only join a child process'\n",
            "AssertionError: can only join a child process\n"
          ],
          "name": "stderr"
        },
        {
          "output_type": "stream",
          "text": [
            "train Loss: 0.6345 Acc: 0.7352\n",
            "val Loss: 0.5953 Acc: 0.7590\n",
            "\n",
            "Epoch 3/49\n",
            "----------\n"
          ],
          "name": "stdout"
        },
        {
          "output_type": "stream",
          "text": [
            "Exception ignored in: <bound method _MultiProcessingDataLoaderIter.__del__ of <torch.utils.data.dataloader._MultiProcessingDataLoaderIter object at 0x7f74551f9518>>\n",
            "Traceback (most recent call last):\n",
            "  File \"/usr/local/lib/python3.6/dist-packages/torch/utils/data/dataloader.py\", line 962, in __del__\n",
            "    self._shutdown_workers()\n",
            "  File \"/usr/local/lib/python3.6/dist-packages/torch/utils/data/dataloader.py\", line 942, in _shutdown_workers\n",
            "    w.join()\n",
            "  File \"/usr/lib/python3.6/multiprocessing/process.py\", line 122, in join\n",
            "    assert self._parent_pid == os.getpid(), 'can only join a child process'\n",
            "AssertionError: can only join a child process\n",
            "Exception ignored in: <bound method _MultiProcessingDataLoaderIter.__del__ of <torch.utils.data.dataloader._MultiProcessingDataLoaderIter object at 0x7f7455208588>>\n",
            "Traceback (most recent call last):\n",
            "  File \"/usr/local/lib/python3.6/dist-packages/torch/utils/data/dataloader.py\", line 962, in __del__\n",
            "    self._shutdown_workers()\n",
            "  File \"/usr/local/lib/python3.6/dist-packages/torch/utils/data/dataloader.py\", line 942, in _shutdown_workers\n",
            "    w.join()\n",
            "  File \"/usr/lib/python3.6/multiprocessing/process.py\", line 122, in join\n",
            "    assert self._parent_pid == os.getpid(), 'can only join a child process'\n",
            "AssertionError: can only join a child process\n"
          ],
          "name": "stderr"
        },
        {
          "output_type": "stream",
          "text": [
            "train Loss: 0.5673 Acc: 0.7611\n",
            "val Loss: 0.5484 Acc: 0.7741\n",
            "\n",
            "Epoch 4/49\n",
            "----------\n"
          ],
          "name": "stdout"
        },
        {
          "output_type": "stream",
          "text": [
            "Exception ignored in: <bound method _MultiProcessingDataLoaderIter.__del__ of <torch.utils.data.dataloader._MultiProcessingDataLoaderIter object at 0x7f74551f9518>>\n",
            "Traceback (most recent call last):\n",
            "  File \"/usr/local/lib/python3.6/dist-packages/torch/utils/data/dataloader.py\", line 962, in __del__\n",
            "    self._shutdown_workers()\n",
            "  File \"/usr/local/lib/python3.6/dist-packages/torch/utils/data/dataloader.py\", line 942, in _shutdown_workers\n",
            "    w.join()\n",
            "  File \"/usr/lib/python3.6/multiprocessing/process.py\", line 122, in join\n",
            "    assert self._parent_pid == os.getpid(), 'can only join a child process'\n",
            "AssertionError: can only join a child process\n",
            "Exception ignored in: <bound method _MultiProcessingDataLoaderIter.__del__ of <torch.utils.data.dataloader._MultiProcessingDataLoaderIter object at 0x7f7455208588>>\n",
            "Traceback (most recent call last):\n",
            "  File \"/usr/local/lib/python3.6/dist-packages/torch/utils/data/dataloader.py\", line 962, in __del__\n",
            "    self._shutdown_workers()\n",
            "  File \"/usr/local/lib/python3.6/dist-packages/torch/utils/data/dataloader.py\", line 942, in _shutdown_workers\n",
            "    w.join()\n",
            "  File \"/usr/lib/python3.6/multiprocessing/process.py\", line 122, in join\n",
            "    assert self._parent_pid == os.getpid(), 'can only join a child process'\n",
            "AssertionError: can only join a child process\n"
          ],
          "name": "stderr"
        },
        {
          "output_type": "stream",
          "text": [
            "train Loss: 0.5055 Acc: 0.7922\n"
          ],
          "name": "stdout"
        },
        {
          "output_type": "stream",
          "text": [
            "Exception ignored in: <bound method _MultiProcessingDataLoaderIter.__del__ of <torch.utils.data.dataloader._MultiProcessingDataLoaderIter object at 0x7f74551f9518>>\n",
            "Traceback (most recent call last):\n",
            "  File \"/usr/local/lib/python3.6/dist-packages/torch/utils/data/dataloader.py\", line 962, in __del__\n",
            "    self._shutdown_workers()\n",
            "  File \"/usr/local/lib/python3.6/dist-packages/torch/utils/data/dataloader.py\", line 942, in _shutdown_workers\n",
            "    w.join()\n",
            "  File \"/usr/lib/python3.6/multiprocessing/process.py\", line 122, in join\n",
            "    assert self._parent_pid == os.getpid(), 'can only join a child process'\n",
            "AssertionError: can only join a child process\n",
            "Exception ignored in: <bound method _MultiProcessingDataLoaderIter.__del__ of <torch.utils.data.dataloader._MultiProcessingDataLoaderIter object at 0x7f7455208588>>\n",
            "Traceback (most recent call last):\n",
            "  File \"/usr/local/lib/python3.6/dist-packages/torch/utils/data/dataloader.py\", line 962, in __del__\n",
            "    self._shutdown_workers()\n",
            "  File \"/usr/local/lib/python3.6/dist-packages/torch/utils/data/dataloader.py\", line 942, in _shutdown_workers\n",
            "    w.join()\n",
            "  File \"/usr/lib/python3.6/multiprocessing/process.py\", line 122, in join\n",
            "    assert self._parent_pid == os.getpid(), 'can only join a child process'\n",
            "AssertionError: can only join a child process\n"
          ],
          "name": "stderr"
        },
        {
          "output_type": "stream",
          "text": [
            "val Loss: 0.4627 Acc: 0.8268\n",
            "\n",
            "Epoch 5/49\n",
            "----------\n"
          ],
          "name": "stdout"
        },
        {
          "output_type": "stream",
          "text": [
            "Exception ignored in: <bound method _MultiProcessingDataLoaderIter.__del__ of <torch.utils.data.dataloader._MultiProcessingDataLoaderIter object at 0x7f74551f9518>>\n",
            "Traceback (most recent call last):\n",
            "  File \"/usr/local/lib/python3.6/dist-packages/torch/utils/data/dataloader.py\", line 962, in __del__\n",
            "    self._shutdown_workers()\n",
            "  File \"/usr/local/lib/python3.6/dist-packages/torch/utils/data/dataloader.py\", line 942, in _shutdown_workers\n",
            "    w.join()\n",
            "  File \"/usr/lib/python3.6/multiprocessing/process.py\", line 122, in join\n",
            "    assert self._parent_pid == os.getpid(), 'can only join a child process'\n",
            "AssertionError: can only join a child process\n",
            "Exception ignored in: <bound method _MultiProcessingDataLoaderIter.__del__ of <torch.utils.data.dataloader._MultiProcessingDataLoaderIter object at 0x7f7455208588>>\n",
            "Traceback (most recent call last):\n",
            "  File \"/usr/local/lib/python3.6/dist-packages/torch/utils/data/dataloader.py\", line 962, in __del__\n",
            "    self._shutdown_workers()\n",
            "  File \"/usr/local/lib/python3.6/dist-packages/torch/utils/data/dataloader.py\", line 942, in _shutdown_workers\n",
            "    w.join()\n",
            "  File \"/usr/lib/python3.6/multiprocessing/process.py\", line 122, in join\n",
            "    assert self._parent_pid == os.getpid(), 'can only join a child process'\n",
            "AssertionError: can only join a child process\n"
          ],
          "name": "stderr"
        },
        {
          "output_type": "stream",
          "text": [
            "train Loss: 0.4415 Acc: 0.8211\n"
          ],
          "name": "stdout"
        },
        {
          "output_type": "stream",
          "text": [
            "Exception ignored in: <bound method _MultiProcessingDataLoaderIter.__del__ of <torch.utils.data.dataloader._MultiProcessingDataLoaderIter object at 0x7f74551f9518>>\n",
            "Traceback (most recent call last):\n",
            "  File \"/usr/local/lib/python3.6/dist-packages/torch/utils/data/dataloader.py\", line 962, in __del__\n",
            "    self._shutdown_workers()\n",
            "  File \"/usr/local/lib/python3.6/dist-packages/torch/utils/data/dataloader.py\", line 942, in _shutdown_workers\n",
            "    w.join()\n",
            "  File \"/usr/lib/python3.6/multiprocessing/process.py\", line 122, in join\n",
            "    assert self._parent_pid == os.getpid(), 'can only join a child process'\n",
            "AssertionError: can only join a child process\n",
            "Exception ignored in: <bound method _MultiProcessingDataLoaderIter.__del__ of <torch.utils.data.dataloader._MultiProcessingDataLoaderIter object at 0x7f7455208588>>\n",
            "Traceback (most recent call last):\n",
            "  File \"/usr/local/lib/python3.6/dist-packages/torch/utils/data/dataloader.py\", line 962, in __del__\n",
            "    self._shutdown_workers()\n",
            "  File \"/usr/local/lib/python3.6/dist-packages/torch/utils/data/dataloader.py\", line 942, in _shutdown_workers\n",
            "    w.join()\n",
            "  File \"/usr/lib/python3.6/multiprocessing/process.py\", line 122, in join\n",
            "    assert self._parent_pid == os.getpid(), 'can only join a child process'\n",
            "AssertionError: can only join a child process\n"
          ],
          "name": "stderr"
        },
        {
          "output_type": "stream",
          "text": [
            "val Loss: 0.4486 Acc: 0.8192\n",
            "\n",
            "Epoch 6/49\n",
            "----------\n",
            "train Loss: 0.3857 Acc: 0.8487\n",
            "val Loss: 0.3979 Acc: 0.8460\n",
            "\n",
            "Epoch 7/49\n",
            "----------\n",
            "train Loss: 0.3659 Acc: 0.8534\n",
            "val Loss: 0.3943 Acc: 0.8469\n",
            "\n",
            "Epoch 8/49\n",
            "----------\n",
            "train Loss: 0.3449 Acc: 0.8659\n",
            "val Loss: 0.3904 Acc: 0.8502\n",
            "\n",
            "Epoch 9/49\n",
            "----------\n",
            "train Loss: 0.3294 Acc: 0.8727\n",
            "val Loss: 0.3814 Acc: 0.8469\n",
            "\n",
            "Epoch 10/49\n",
            "----------\n",
            "train Loss: 0.3121 Acc: 0.8760\n",
            "val Loss: 0.3793 Acc: 0.8510\n",
            "\n",
            "Epoch 11/49\n",
            "----------\n",
            "train Loss: 0.2969 Acc: 0.8872\n",
            "val Loss: 0.3688 Acc: 0.8653\n",
            "\n",
            "Epoch 12/49\n",
            "----------\n",
            "train Loss: 0.2813 Acc: 0.8889\n",
            "val Loss: 0.3630 Acc: 0.8619\n",
            "\n",
            "Epoch 13/49\n",
            "----------\n",
            "train Loss: 0.2817 Acc: 0.8942\n",
            "val Loss: 0.3627 Acc: 0.8603\n",
            "\n",
            "Epoch 14/49\n",
            "----------\n",
            "train Loss: 0.2750 Acc: 0.8956\n",
            "val Loss: 0.3638 Acc: 0.8636\n",
            "\n",
            "Epoch 15/49\n",
            "----------\n",
            "train Loss: 0.2721 Acc: 0.8970\n",
            "val Loss: 0.3649 Acc: 0.8586\n",
            "\n",
            "Epoch 16/49\n",
            "----------\n",
            "train Loss: 0.2695 Acc: 0.8959\n",
            "val Loss: 0.3620 Acc: 0.8619\n",
            "\n",
            "Epoch 17/49\n",
            "----------\n",
            "train Loss: 0.2613 Acc: 0.9012\n",
            "val Loss: 0.3582 Acc: 0.8619\n",
            "\n",
            "Epoch 18/49\n",
            "----------\n",
            "train Loss: 0.2589 Acc: 0.8997\n",
            "val Loss: 0.3552 Acc: 0.8644\n",
            "\n",
            "Epoch 19/49\n",
            "----------\n",
            "train Loss: 0.2585 Acc: 0.9005\n",
            "val Loss: 0.3579 Acc: 0.8611\n",
            "\n",
            "Epoch 20/49\n",
            "----------\n",
            "train Loss: 0.2501 Acc: 0.9031\n",
            "val Loss: 0.3569 Acc: 0.8586\n",
            "\n",
            "Epoch 21/49\n",
            "----------\n",
            "train Loss: 0.2527 Acc: 0.9025\n",
            "val Loss: 0.3556 Acc: 0.8628\n",
            "\n",
            "Epoch 22/49\n",
            "----------\n",
            "train Loss: 0.2489 Acc: 0.9065\n",
            "val Loss: 0.3560 Acc: 0.8678\n",
            "\n",
            "Epoch 23/49\n",
            "----------\n",
            "train Loss: 0.2456 Acc: 0.9076\n",
            "val Loss: 0.3549 Acc: 0.8586\n",
            "\n",
            "Epoch 24/49\n",
            "----------\n",
            "train Loss: 0.2455 Acc: 0.9063\n",
            "val Loss: 0.3560 Acc: 0.8586\n",
            "\n",
            "Epoch 25/49\n",
            "----------\n",
            "train Loss: 0.2529 Acc: 0.9037\n",
            "val Loss: 0.3516 Acc: 0.8628\n",
            "\n",
            "Epoch 26/49\n",
            "----------\n",
            "train Loss: 0.2436 Acc: 0.9081\n",
            "val Loss: 0.3550 Acc: 0.8586\n",
            "\n",
            "Epoch 27/49\n",
            "----------\n",
            "train Loss: 0.2481 Acc: 0.9045\n",
            "val Loss: 0.3562 Acc: 0.8594\n",
            "\n",
            "Epoch 28/49\n",
            "----------\n",
            "train Loss: 0.2499 Acc: 0.9050\n",
            "val Loss: 0.3542 Acc: 0.8628\n",
            "\n",
            "Epoch 29/49\n",
            "----------\n",
            "train Loss: 0.2430 Acc: 0.9075\n",
            "val Loss: 0.3530 Acc: 0.8619\n",
            "\n",
            "Epoch 30/49\n",
            "----------\n",
            "train Loss: 0.2411 Acc: 0.9106\n",
            "val Loss: 0.3571 Acc: 0.8611\n",
            "\n",
            "Epoch 31/49\n",
            "----------\n",
            "train Loss: 0.2395 Acc: 0.9095\n",
            "val Loss: 0.3520 Acc: 0.8628\n",
            "\n",
            "Epoch 32/49\n",
            "----------\n",
            "train Loss: 0.2394 Acc: 0.9094\n",
            "val Loss: 0.3541 Acc: 0.8661\n",
            "\n",
            "Epoch 33/49\n",
            "----------\n",
            "train Loss: 0.2373 Acc: 0.9097\n",
            "val Loss: 0.3569 Acc: 0.8586\n",
            "\n",
            "Epoch 34/49\n",
            "----------\n",
            "train Loss: 0.2359 Acc: 0.9109\n",
            "val Loss: 0.3508 Acc: 0.8619\n",
            "\n",
            "Epoch 35/49\n",
            "----------\n",
            "train Loss: 0.2407 Acc: 0.9097\n",
            "val Loss: 0.3531 Acc: 0.8611\n",
            "\n",
            "Epoch 36/49\n",
            "----------\n",
            "train Loss: 0.2396 Acc: 0.9102\n",
            "val Loss: 0.3515 Acc: 0.8636\n",
            "\n",
            "Epoch 37/49\n",
            "----------\n",
            "train Loss: 0.2370 Acc: 0.9118\n",
            "val Loss: 0.3529 Acc: 0.8636\n",
            "\n",
            "Epoch 38/49\n",
            "----------\n",
            "train Loss: 0.2384 Acc: 0.9105\n",
            "val Loss: 0.3515 Acc: 0.8586\n",
            "\n",
            "Epoch 39/49\n",
            "----------\n",
            "train Loss: 0.2379 Acc: 0.9115\n",
            "val Loss: 0.3519 Acc: 0.8611\n",
            "\n",
            "Epoch 40/49\n",
            "----------\n",
            "train Loss: 0.2407 Acc: 0.9073\n",
            "val Loss: 0.3516 Acc: 0.8628\n",
            "\n",
            "Epoch 41/49\n",
            "----------\n",
            "train Loss: 0.2410 Acc: 0.9072\n",
            "val Loss: 0.3542 Acc: 0.8619\n",
            "\n",
            "Epoch 42/49\n",
            "----------\n",
            "train Loss: 0.2369 Acc: 0.9089\n",
            "val Loss: 0.3545 Acc: 0.8653\n",
            "\n",
            "Epoch 43/49\n",
            "----------\n",
            "train Loss: 0.2356 Acc: 0.9127\n",
            "val Loss: 0.3543 Acc: 0.8611\n",
            "\n",
            "Epoch 44/49\n",
            "----------\n",
            "train Loss: 0.2404 Acc: 0.9090\n",
            "val Loss: 0.3534 Acc: 0.8644\n",
            "\n",
            "Epoch 45/49\n",
            "----------\n",
            "train Loss: 0.2362 Acc: 0.9095\n",
            "val Loss: 0.3545 Acc: 0.8594\n",
            "\n",
            "Epoch 46/49\n",
            "----------\n",
            "train Loss: 0.2370 Acc: 0.9100\n",
            "val Loss: 0.3544 Acc: 0.8594\n",
            "\n",
            "Epoch 47/49\n",
            "----------\n",
            "train Loss: 0.2386 Acc: 0.9081\n",
            "val Loss: 0.3531 Acc: 0.8636\n",
            "\n",
            "Epoch 48/49\n",
            "----------\n",
            "train Loss: 0.2373 Acc: 0.9093\n",
            "val Loss: 0.3530 Acc: 0.8628\n",
            "\n",
            "Epoch 49/49\n",
            "----------\n",
            "train Loss: 0.2422 Acc: 0.9096\n",
            "val Loss: 0.3514 Acc: 0.8644\n",
            "\n",
            "Training complete in 48m 32s\n",
            "Best val Acc: 0.867782\n"
          ],
          "name": "stdout"
        }
      ]
    },
    {
      "cell_type": "markdown",
      "metadata": {
        "id": "H4xZcA6uQzHU",
        "colab_type": "text"
      },
      "source": [
        "# Prediction on test "
      ]
    },
    {
      "cell_type": "code",
      "metadata": {
        "id": "nyHWPDrYRKCw",
        "colab_type": "code",
        "colab": {}
      },
      "source": [
        "label_decoding={0:'YOUNG',1:'MIDDLE',2:'OLD'}"
      ],
      "execution_count": 0,
      "outputs": []
    },
    {
      "cell_type": "code",
      "metadata": {
        "id": "_YxVhMHBLuqj",
        "colab_type": "code",
        "colab": {
          "base_uri": "https://localhost:8080/",
          "height": 34
        },
        "outputId": "83b96102-9ebd-42e2-b35d-f99582f748f2"
      },
      "source": [
        "prediction = torch.tensor([],dtype=torch.int64)\n",
        "prediction = prediction.to(device)\n",
        "for inputs, labels in dataloader['test']:\n",
        "            inputs = inputs.to(device)\n",
        "            labels = labels.to(device)\n",
        "            new_model.to(device)\n",
        "            \n",
        "            outputs = new_model(inputs)\n",
        "            _, preds = torch.max(outputs, 1)\n",
        "            #print(type(preds),preds.shape,preds.dtype,preds.device)\n",
        "            prediction = torch.cat((prediction,preds),0)\n",
        "            #print(prediction.shape,prediction.device)\n",
        "print(prediction.shape)"
      ],
      "execution_count": 29,
      "outputs": [
        {
          "output_type": "stream",
          "text": [
            "torch.Size([6636])\n"
          ],
          "name": "stdout"
        }
      ]
    },
    {
      "cell_type": "code",
      "metadata": {
        "id": "5BnulH5dXCfd",
        "colab_type": "code",
        "colab": {
          "base_uri": "https://localhost:8080/",
          "height": 34
        },
        "outputId": "4758eedf-f854-4fb3-9dd8-0f0807bacb45"
      },
      "source": [
        "sub_csv = test_csv.copy()\n",
        "prediction = prediction.to('cpu')\n",
        "print(prediction.device)\n",
        "for i in range(len(prediction)):\n",
        "  sub_csv.Class[i] = label_decoding[int(prediction[i])]"
      ],
      "execution_count": 30,
      "outputs": [
        {
          "output_type": "stream",
          "text": [
            "cpu\n"
          ],
          "name": "stdout"
        }
      ]
    },
    {
      "cell_type": "code",
      "metadata": {
        "id": "_ETLJEb-b6EW",
        "colab_type": "code",
        "colab": {
          "base_uri": "https://localhost:8080/",
          "height": 195
        },
        "outputId": "98cb71e1-dbe6-4bb9-a831-ff9bf42814f2"
      },
      "source": [
        "test_csv.head()"
      ],
      "execution_count": 31,
      "outputs": [
        {
          "output_type": "execute_result",
          "data": {
            "text/html": [
              "<div>\n",
              "<style scoped>\n",
              "    .dataframe tbody tr th:only-of-type {\n",
              "        vertical-align: middle;\n",
              "    }\n",
              "\n",
              "    .dataframe tbody tr th {\n",
              "        vertical-align: top;\n",
              "    }\n",
              "\n",
              "    .dataframe thead th {\n",
              "        text-align: right;\n",
              "    }\n",
              "</style>\n",
              "<table border=\"1\" class=\"dataframe\">\n",
              "  <thead>\n",
              "    <tr style=\"text-align: right;\">\n",
              "      <th></th>\n",
              "      <th>ID</th>\n",
              "      <th>Class</th>\n",
              "    </tr>\n",
              "  </thead>\n",
              "  <tbody>\n",
              "    <tr>\n",
              "      <th>0</th>\n",
              "      <td>25321.jpg</td>\n",
              "      <td>MIDDLE</td>\n",
              "    </tr>\n",
              "    <tr>\n",
              "      <th>1</th>\n",
              "      <td>989.jpg</td>\n",
              "      <td>MIDDLE</td>\n",
              "    </tr>\n",
              "    <tr>\n",
              "      <th>2</th>\n",
              "      <td>19277.jpg</td>\n",
              "      <td>MIDDLE</td>\n",
              "    </tr>\n",
              "    <tr>\n",
              "      <th>3</th>\n",
              "      <td>13093.jpg</td>\n",
              "      <td>MIDDLE</td>\n",
              "    </tr>\n",
              "    <tr>\n",
              "      <th>4</th>\n",
              "      <td>5367.jpg</td>\n",
              "      <td>MIDDLE</td>\n",
              "    </tr>\n",
              "  </tbody>\n",
              "</table>\n",
              "</div>"
            ],
            "text/plain": [
              "          ID   Class\n",
              "0  25321.jpg  MIDDLE\n",
              "1    989.jpg  MIDDLE\n",
              "2  19277.jpg  MIDDLE\n",
              "3  13093.jpg  MIDDLE\n",
              "4   5367.jpg  MIDDLE"
            ]
          },
          "metadata": {
            "tags": []
          },
          "execution_count": 31
        }
      ]
    },
    {
      "cell_type": "code",
      "metadata": {
        "id": "RJjY6JfGcEAU",
        "colab_type": "code",
        "colab": {
          "base_uri": "https://localhost:8080/",
          "height": 195
        },
        "outputId": "cbf1ddba-8c86-4900-9509-28e805517831"
      },
      "source": [
        "sub_csv.head()"
      ],
      "execution_count": 32,
      "outputs": [
        {
          "output_type": "execute_result",
          "data": {
            "text/html": [
              "<div>\n",
              "<style scoped>\n",
              "    .dataframe tbody tr th:only-of-type {\n",
              "        vertical-align: middle;\n",
              "    }\n",
              "\n",
              "    .dataframe tbody tr th {\n",
              "        vertical-align: top;\n",
              "    }\n",
              "\n",
              "    .dataframe thead th {\n",
              "        text-align: right;\n",
              "    }\n",
              "</style>\n",
              "<table border=\"1\" class=\"dataframe\">\n",
              "  <thead>\n",
              "    <tr style=\"text-align: right;\">\n",
              "      <th></th>\n",
              "      <th>ID</th>\n",
              "      <th>Class</th>\n",
              "    </tr>\n",
              "  </thead>\n",
              "  <tbody>\n",
              "    <tr>\n",
              "      <th>0</th>\n",
              "      <td>25321.jpg</td>\n",
              "      <td>MIDDLE</td>\n",
              "    </tr>\n",
              "    <tr>\n",
              "      <th>1</th>\n",
              "      <td>989.jpg</td>\n",
              "      <td>YOUNG</td>\n",
              "    </tr>\n",
              "    <tr>\n",
              "      <th>2</th>\n",
              "      <td>19277.jpg</td>\n",
              "      <td>YOUNG</td>\n",
              "    </tr>\n",
              "    <tr>\n",
              "      <th>3</th>\n",
              "      <td>13093.jpg</td>\n",
              "      <td>MIDDLE</td>\n",
              "    </tr>\n",
              "    <tr>\n",
              "      <th>4</th>\n",
              "      <td>5367.jpg</td>\n",
              "      <td>OLD</td>\n",
              "    </tr>\n",
              "  </tbody>\n",
              "</table>\n",
              "</div>"
            ],
            "text/plain": [
              "          ID   Class\n",
              "0  25321.jpg  MIDDLE\n",
              "1    989.jpg   YOUNG\n",
              "2  19277.jpg   YOUNG\n",
              "3  13093.jpg  MIDDLE\n",
              "4   5367.jpg     OLD"
            ]
          },
          "metadata": {
            "tags": []
          },
          "execution_count": 32
        }
      ]
    },
    {
      "cell_type": "code",
      "metadata": {
        "id": "706505Aqdfa2",
        "colab_type": "code",
        "colab": {}
      },
      "source": [
        "sub_csv.to_csv('/content/sample_submission.csv',index=False)"
      ],
      "execution_count": 0,
      "outputs": []
    },
    {
      "cell_type": "code",
      "metadata": {
        "id": "kFZYqWjxxcH2",
        "colab_type": "code",
        "colab": {}
      },
      "source": [
        "#### if its csv 6 further tuning not done"
      ],
      "execution_count": 0,
      "outputs": []
    },
    {
      "cell_type": "markdown",
      "metadata": {
        "id": "z9QYxgqnzTDo",
        "colab_type": "text"
      },
      "source": [
        "# Further small tuning "
      ]
    },
    {
      "cell_type": "code",
      "metadata": {
        "id": "TiDq0E7lyY_w",
        "colab_type": "code",
        "colab": {}
      },
      "source": [
        "model = new_model\n",
        "for param in model.parameters():\n",
        "    param.requires_grad = True\n",
        "\n",
        "device = torch.device(\"cuda\")\n",
        "model = model.to(device)\n",
        "\n",
        "criterion = nn.CrossEntropyLoss()\n",
        "optimizer = optim.SGD(model.parameters(), lr=0.000075, momentum=0.9, nesterov=True)\n",
        "# Decay LR by a factor of 0.1 every 7 epochs\n",
        "exp_lr_scheduler = lr_scheduler.StepLR(optimizer, step_size=6, gamma=0.1)\n",
        "\n",
        "new_model = train_model(model, criterion, optimizer, exp_lr_scheduler, num_epochs=10)"
      ],
      "execution_count": 0,
      "outputs": []
    }
  ]
}