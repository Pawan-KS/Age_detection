{
  "nbformat": 4,
  "nbformat_minor": 0,
  "metadata": {
    "colab": {
      "name": "effnetb2pruned.ipynb",
      "provenance": [],
      "toc_visible": true
    },
    "kernelspec": {
      "name": "python3",
      "display_name": "Python 3"
    },
    "accelerator": "GPU"
  },
  "cells": [
    {
      "cell_type": "code",
      "metadata": {
        "id": "OcQjSUsi1bFI",
        "colab_type": "code",
        "colab": {}
      },
      "source": [
        "!unzip test_Bh8pGW3.zip\n",
        "!unzip train_DETg9GD.zip"
      ],
      "execution_count": 0,
      "outputs": []
    },
    {
      "cell_type": "code",
      "metadata": {
        "id": "q7WjL1QqDdQV",
        "colab_type": "code",
        "outputId": "0aba15a1-a95d-462d-97bd-b24aa44960ff",
        "colab": {
          "base_uri": "https://localhost:8080/",
          "height": 118
        }
      },
      "source": [
        "import numpy as np\n",
        "import pandas as pd\n",
        "from random import randint\n",
        "import os\n",
        "import torch\n",
        "import torch.nn as nn\n",
        "import torch.nn.functional as F\n",
        "import torchvision\n",
        "from torch.optim.optimizer import Optimizer\n",
        "from sklearn.model_selection import train_test_split\n",
        "from sklearn.utils import shuffle\n",
        "from torch.utils.data import DataLoader, Dataset\n",
        "from sklearn.metrics import accuracy_score\n",
        "from matplotlib.pyplot import imread\n",
        "from pylab import *\n",
        "from albumentations import (RGBShift,Blur,RandomContrast,HueSaturationValue,RandomGamma,Rotate,RandomBrightness,HorizontalFlip, Normalize, Resize, Compose, GaussNoise,Transpose,RandomBrightnessContrast,RandomCrop)\n",
        "from albumentations.pytorch import ToTensor\n",
        "import torch.optim as optim\n",
        "from torch.optim import lr_scheduler\n",
        "from torchvision import datasets, models, transforms\n",
        "import time\n",
        "import copy\n",
        "!pip install timm\n",
        "import timm\n",
        "import rangelars_lookahead_ralamb\n",
        "from rangelars_lookahead_ralamb import *"
      ],
      "execution_count": 6,
      "outputs": [
        {
          "output_type": "stream",
          "text": [
            "Requirement already satisfied: timm in /usr/local/lib/python3.6/dist-packages (0.1.26)\n",
            "Requirement already satisfied: torch>=1.0 in /usr/local/lib/python3.6/dist-packages (from timm) (1.5.0+cu101)\n",
            "Requirement already satisfied: torchvision in /usr/local/lib/python3.6/dist-packages (from timm) (0.6.0+cu101)\n",
            "Requirement already satisfied: future in /usr/local/lib/python3.6/dist-packages (from torch>=1.0->timm) (0.16.0)\n",
            "Requirement already satisfied: numpy in /usr/local/lib/python3.6/dist-packages (from torch>=1.0->timm) (1.18.4)\n",
            "Requirement already satisfied: pillow>=4.1.1 in /usr/local/lib/python3.6/dist-packages (from torchvision->timm) (7.0.0)\n"
          ],
          "name": "stdout"
        }
      ]
    },
    {
      "cell_type": "code",
      "metadata": {
        "id": "74taFO98wHYT",
        "colab_type": "code",
        "colab": {}
      },
      "source": [
        "train_csv = pd.read_csv('/content/train.csv')\n",
        "train_csv,val_csv = train_test_split(train_csv,test_size=0.06,random_state=8)\n",
        "test_csv = pd.read_csv('/content/test.csv')\n",
        "test_csv['Class']=\"\"\n",
        "test_csv.Class='MIDDLE'"
      ],
      "execution_count": 0,
      "outputs": []
    },
    {
      "cell_type": "code",
      "metadata": {
        "id": "hF72YOEyw9fl",
        "colab_type": "code",
        "outputId": "3d03e13d-0c73-4ac2-fe1c-d55558122b71",
        "colab": {
          "base_uri": "https://localhost:8080/",
          "height": 101
        }
      },
      "source": [
        "print('train image count--',len(train_csv),'\\t test image count--',len(test_csv),'\\t val image count--',len(val_csv))\n",
        "train_csv.Class.value_counts(normalize=True)"
      ],
      "execution_count": 8,
      "outputs": [
        {
          "output_type": "stream",
          "text": [
            "train image count-- 18711 \t test image count-- 6636 \t val image count-- 1195\n"
          ],
          "name": "stdout"
        },
        {
          "output_type": "execute_result",
          "data": {
            "text/plain": [
              "MIDDLE    0.543103\n",
              "YOUNG     0.336112\n",
              "OLD       0.120785\n",
              "Name: Class, dtype: float64"
            ]
          },
          "metadata": {
            "tags": []
          },
          "execution_count": 8
        }
      ]
    },
    {
      "cell_type": "code",
      "metadata": {
        "id": "2qgEu1O3RUsE",
        "colab_type": "code",
        "colab": {}
      },
      "source": [
        "label_assign={'YOUNG':0,'MIDDLE':1,'OLD':2}"
      ],
      "execution_count": 0,
      "outputs": []
    },
    {
      "cell_type": "markdown",
      "metadata": {
        "id": "IK8jAK5CFUJp",
        "colab_type": "text"
      },
      "source": [
        "# knowing image shapes"
      ]
    },
    {
      "cell_type": "code",
      "metadata": {
        "id": "WfybElFLxQCt",
        "colab_type": "code",
        "colab": {}
      },
      "source": [
        "l=[]\n",
        "for i in range(len(train_csv)):\n",
        "  img_path = '/content/Train/' + str(train_csv.ID[i])\n",
        "  img = imread(img_path,format='jpg')\n",
        "  l.append(img.shape)\n",
        "l=np.array(l)"
      ],
      "execution_count": 0,
      "outputs": []
    },
    {
      "cell_type": "code",
      "metadata": {
        "id": "HSIurJn7Ef0C",
        "colab_type": "code",
        "colab": {}
      },
      "source": [
        "print(min(l[:,0]),min(l[:,1]))\n",
        "print(max(l[:,0]),max(l[:,1]))\n",
        "print(mean(l[:,0]),mean(l[:,1]))"
      ],
      "execution_count": 0,
      "outputs": []
    },
    {
      "cell_type": "markdown",
      "metadata": {
        "id": "y9tmNFakFps2",
        "colab_type": "text"
      },
      "source": [
        "# Building datasets and dataloaders before training"
      ]
    },
    {
      "cell_type": "code",
      "metadata": {
        "id": "LtqC04lP-Fvi",
        "colab_type": "code",
        "colab": {}
      },
      "source": [
        "class dataset(Dataset):\n",
        "  def __init__(self, csv_file, dir_path, phase):\n",
        "    self.csv_file = csv_file\n",
        "    self.dir_path = dir_path\n",
        "    self.phase = phase\n",
        "    self.transform = get_transforms(self.phase)\n",
        "\n",
        "  def __len__(self):\n",
        "    return len(self.csv_file)\n",
        "\n",
        "  def __getitem__(self,idx):\n",
        "    img_path = os.path.join(self.dir_path, self.csv_file.iloc[idx, 0])\n",
        "    image = imread(img_path)\n",
        "    label = label_assign[self.csv_file.iloc[idx, 1]]\n",
        "    aug_img = self.transform(image=image)\n",
        "    image = aug_img[\"image\"]\n",
        "    return image,label\n",
        "\n",
        "def get_transforms(phase):\n",
        "  t_list=[]\n",
        "  if phase=='train':\n",
        "    t_list.extend([RandomBrightness(limit=0.8, p=0.5),\n",
        "                   Rotate(limit=25, p=0.5),\n",
        "                   RGBShift(r_shift_limit=50, g_shift_limit=30, b_shift_limit=40, p=0.5),\n",
        "                   RandomGamma(gamma_limit=(80,165), p=0.5),\n",
        "                   HorizontalFlip(p=0.5),\n",
        "                   HueSaturationValue(hue_shift_limit=10, sat_shift_limit=30, val_shift_limit=30, p=0.5),\n",
        "                   RandomContrast(limit=0.5, p=0.5),\n",
        "                   RandomBrightnessContrast(brightness_limit=0.2, contrast_limit=0.2, p=0.5)\n",
        "                   ])\n",
        "  t_list.extend([Resize(125, 100, interpolation=1, p=1),    ## 16x16, 64x64 , 128x100\n",
        "                 Normalize(mean=(0.485, 0.456, 0.406), std=(0.229, 0.224, 0.225), max_pixel_value=255.0, p=1.0),\n",
        "                 ToTensor()])\n",
        "  return  Compose(t_list)"
      ],
      "execution_count": 0,
      "outputs": []
    },
    {
      "cell_type": "code",
      "metadata": {
        "id": "FcnzelbqB_2V",
        "colab_type": "code",
        "outputId": "a149883b-6ab7-4300-e76f-899462896e54",
        "colab": {
          "base_uri": "https://localhost:8080/",
          "height": 34
        }
      },
      "source": [
        "### creating train and test datasets\n",
        "train_dataset = dataset(train_csv,'/content/Train/','train')\n",
        "test_dataset = dataset(test_csv,'/content/Test/','test')\n",
        "val_dataset = dataset(val_csv,'/content/Train/','val')\n",
        "dataset_sizes={'train':len(train_dataset),'val':len(val_dataset),'test':len(test_dataset)}\n",
        "print(dataset_sizes)"
      ],
      "execution_count": 11,
      "outputs": [
        {
          "output_type": "stream",
          "text": [
            "{'train': 18711, 'val': 1195, 'test': 6636}\n"
          ],
          "name": "stdout"
        }
      ]
    },
    {
      "cell_type": "code",
      "metadata": {
        "id": "DUVSGOI7aNSe",
        "colab_type": "code",
        "outputId": "4adbc5d7-4761-497e-b30d-c3d9e7318c7b",
        "colab": {
          "base_uri": "https://localhost:8080/",
          "height": 403
        }
      },
      "source": [
        "### visualising datasets\n",
        "a=randint(0,1700)\n",
        "print(\"VISUALISING TRAIN DATASET\")\n",
        "for i in range(a,a+10):\n",
        "  image, label = train_dataset[i]\n",
        "  print(i,'\\t', image.shape,'\\t', label)\n",
        "print(\"\\nVISUALISING TEST DATASET\")\n",
        "b=randint(0,6625)\n",
        "for i in range(b,b+10):\n",
        "  image, label = test_dataset[i]\n",
        "  print(i,'\\t', image.shape,'\\t', label)"
      ],
      "execution_count": 12,
      "outputs": [
        {
          "output_type": "stream",
          "text": [
            "VISUALISING TRAIN DATASET\n",
            "1012 \t torch.Size([3, 125, 100]) \t 1\n",
            "1013 \t torch.Size([3, 125, 100]) \t 1\n",
            "1014 \t torch.Size([3, 125, 100]) \t 1\n",
            "1015 \t torch.Size([3, 125, 100]) \t 2\n",
            "1016 \t torch.Size([3, 125, 100]) \t 2\n",
            "1017 \t torch.Size([3, 125, 100]) \t 1\n",
            "1018 \t torch.Size([3, 125, 100]) \t 0\n",
            "1019 \t torch.Size([3, 125, 100]) \t 1\n",
            "1020 \t torch.Size([3, 125, 100]) \t 2\n",
            "1021 \t torch.Size([3, 125, 100]) \t 0\n",
            "\n",
            "VISUALISING TEST DATASET\n",
            "4725 \t torch.Size([3, 125, 100]) \t 1\n",
            "4726 \t torch.Size([3, 125, 100]) \t 1\n",
            "4727 \t torch.Size([3, 125, 100]) \t 1\n",
            "4728 \t torch.Size([3, 125, 100]) \t 1\n",
            "4729 \t torch.Size([3, 125, 100]) \t 1\n",
            "4730 \t torch.Size([3, 125, 100]) \t 1\n",
            "4731 \t torch.Size([3, 125, 100]) \t 1\n",
            "4732 \t torch.Size([3, 125, 100]) \t 1\n",
            "4733 \t torch.Size([3, 125, 100]) \t 1\n",
            "4734 \t torch.Size([3, 125, 100]) \t 1\n"
          ],
          "name": "stdout"
        }
      ]
    },
    {
      "cell_type": "code",
      "metadata": {
        "id": "Xxb-q1OsUBML",
        "colab_type": "code",
        "colab": {}
      },
      "source": [
        "dataloader={}\n",
        "dataloader['train'] = DataLoader(train_dataset, batch_size=128, shuffle=True, num_workers=1)\n",
        "dataloader['test'] = DataLoader(test_dataset, batch_size=32, shuffle=False, num_workers=1)\n",
        "dataloader['val'] = DataLoader(val_dataset, batch_size=128, shuffle=True, num_workers=1)"
      ],
      "execution_count": 0,
      "outputs": []
    },
    {
      "cell_type": "code",
      "metadata": {
        "id": "2djqGSTGbG5d",
        "colab_type": "code",
        "outputId": "f80f2d52-3c46-46a9-82ab-637dc7595d20",
        "colab": {
          "base_uri": "https://localhost:8080/",
          "height": 386
        }
      },
      "source": [
        "### visualing batches\n",
        "def show_batch(sample_batch):\n",
        "  img_batch,label_batch = sample_batch\n",
        "  print('batch size--',len(img_batch))\n",
        "  print('img size--',img_batch.size(2))\n",
        "  grid_border_size = 2\n",
        "  grid = torchvision.utils.make_grid(img_batch)\n",
        "  plt.imshow(grid.numpy().transpose((1, 2, 0)))\n",
        "\n",
        "for i, sample_batch in enumerate(dataloader['train']):\n",
        "  img, label = sample_batch\n",
        "  print(i, img.size(), label.shape)\n",
        "  if i==3:\n",
        "    show_batch(sample_batch)\n",
        "    break"
      ],
      "execution_count": 14,
      "outputs": [
        {
          "output_type": "stream",
          "text": [
            "0 torch.Size([128, 3, 125, 100]) torch.Size([128])\n",
            "1 torch.Size([128, 3, 125, 100]) torch.Size([128])\n",
            "2 torch.Size([128, 3, 125, 100]) torch.Size([128])\n"
          ],
          "name": "stdout"
        },
        {
          "output_type": "stream",
          "text": [
            "Clipping input data to the valid range for imshow with RGB data ([0..1] for floats or [0..255] for integers).\n"
          ],
          "name": "stderr"
        },
        {
          "output_type": "stream",
          "text": [
            "3 torch.Size([128, 3, 125, 100]) torch.Size([128])\n",
            "batch size-- 128\n",
            "img size-- 125\n"
          ],
          "name": "stdout"
        },
        {
          "output_type": "display_data",
          "data": {
            "image/png": "[encoded data removed]",
            "text/plain": [
              "<Figure size 432x288 with 1 Axes>"
            ]
          },
          "metadata": {
            "tags": [],
            "needs_background": "light"
          }
        }
      ]
    },
    {
      "cell_type": "markdown",
      "metadata": {
        "id": "qfADvrlVQKNm",
        "colab_type": "text"
      },
      "source": [
        "# Trainer"
      ]
    },
    {
      "cell_type": "code",
      "metadata": {
        "id": "oZlxMge2rJRc",
        "colab_type": "code",
        "colab": {}
      },
      "source": [
        "def train_model(model, criterion, optimizer, scheduler, num_epochs=25):\n",
        "    since = time.time()\n",
        "    latest_model_wts = copy.deepcopy(model.state_dict())\n",
        "    best_model_wts = copy.deepcopy(model.state_dict())\n",
        "    best_acc = 0.0\n",
        "\n",
        "    for epoch in range(num_epochs):\n",
        "        print('Epoch {}/{}'.format(epoch, num_epochs - 1))\n",
        "        print('-' * 10)\n",
        "\n",
        "        # Each epoch has a training and validation phase\n",
        "        for phase in ['train', 'val']:\n",
        "            if phase == 'train':\n",
        "                model.train()  # Set model to training mode\n",
        "            else:\n",
        "                model.eval()   # Set model to evaluate mode\n",
        "\n",
        "            running_loss = 0.0\n",
        "            running_corrects = 0\n",
        "\n",
        "            # Iterate over data.\n",
        "            for img_batch, labels in dataloader[phase]:\n",
        "                img_batch = img_batch.to(device)\n",
        "                labels = labels.to(device)\n",
        "\n",
        "                # zero the parameter gradients\n",
        "                optimizer.zero_grad()\n",
        "\n",
        "                # forward\n",
        "                # track history if only in train\n",
        "                with torch.set_grad_enabled(phase == 'train'):\n",
        "                    outputs = model(img_batch)\n",
        "                    _, preds = torch.max(outputs, 1)\n",
        "                    loss = criterion(outputs, labels)\n",
        "\n",
        "                    # backward + optimize only if in training phase\n",
        "                    if phase == 'train':\n",
        "                        loss.backward()\n",
        "                        optimizer.step()\n",
        "\n",
        "                # statistics\n",
        "                running_loss += loss.item() * img_batch.size(0)\n",
        "                running_corrects += torch.sum(preds == labels.data)\n",
        "            # if phase == 'train':\n",
        "            #     scheduler.step()\n",
        "\n",
        "            epoch_loss = running_loss / dataset_sizes[phase]\n",
        "            epoch_acc = running_corrects.double() / dataset_sizes[phase]\n",
        "\n",
        "            print('{} Loss: {:.4f} Acc: {:.4f}'.format(\n",
        "                phase, epoch_loss, epoch_acc))\n",
        "\n",
        "            # deep copy the model\n",
        "            latest_model_wts = copy.deepcopy(model.state_dict())\n",
        "            if phase == 'val' and epoch_acc > best_acc:\n",
        "                best_acc = epoch_acc\n",
        "                best_model_wts = copy.deepcopy(model.state_dict())\n",
        "\n",
        "        print()\n",
        "\n",
        "    time_elapsed = time.time() - since\n",
        "    print('Training complete in {:.0f}m {:.0f}s'.format(\n",
        "        time_elapsed // 60, time_elapsed % 60))\n",
        "    print('Best val Acc: {:4f}'.format(best_acc))\n",
        "    # load best model weights\n",
        "    model.load_state_dict(best_model_wts)\n",
        "    return model"
      ],
      "execution_count": 0,
      "outputs": []
    },
    {
      "cell_type": "markdown",
      "metadata": {
        "id": "33zCbo8VQXad",
        "colab_type": "text"
      },
      "source": [
        "# Training model"
      ]
    },
    {
      "cell_type": "code",
      "metadata": {
        "id": "Jc1EPN-Y2nu6",
        "colab_type": "code",
        "outputId": "ad8b7801-e0a5-447b-e764-e51b6b803fd2",
        "colab": {
          "base_uri": "https://localhost:8080/",
          "height": 1000
        }
      },
      "source": [
        "# lr_list = np.random.rand(20)\n",
        "# lr_list = 10**(-5*lr_list)\n",
        "# for lr in lr_list:\n",
        "#   print('***********\\tLR =',lr,'\\t************')\n",
        "model = timm.models.efficientnet_b2_pruned(pretrained=True,num_classes=3)\n",
        "#model = best_model\n",
        "\n",
        "device = torch.device(\"cuda\")\n",
        "model = model.to(device)\n",
        "\n",
        "criterion = nn.CrossEntropyLoss()\n",
        "#optimizer = optim.SGD(model.parameters(), lr=0.004, momentum=0.9, nesterov=True)\n",
        "optimizer = Ranger(model.parameters(), lr= 1)\n",
        "# Decay LR by a factor of 0.1 every 7 epochs\n",
        "exp_lr_scheduler = lr_scheduler.ReduceLROnPlateau(optimizer,factor=0.3,patience=6,threshold=0.0005)\n",
        "\n",
        "\n",
        "best_model = train_model(model, criterion, optimizer, exp_lr_scheduler, num_epochs=40)"
      ],
      "execution_count": 19,
      "outputs": [
        {
          "output_type": "stream",
          "text": [
            "Epoch 0/39\n",
            "----------\n",
            "train Loss: 1.3096 Acc: 0.5003\n",
            "val Loss: 0.9543 Acc: 0.5372\n",
            "\n",
            "Epoch 1/39\n",
            "----------\n",
            "train Loss: 5.6680 Acc: 0.4942\n",
            "val Loss: 11509.2171 Acc: 0.5381\n",
            "\n",
            "Epoch 2/39\n",
            "----------\n",
            "train Loss: 2.2464 Acc: 0.4713\n",
            "val Loss: 0.9296 Acc: 0.5423\n",
            "\n",
            "Epoch 3/39\n",
            "----------\n",
            "train Loss: 0.9445 Acc: 0.5555\n",
            "val Loss: 0.8165 Acc: 0.6335\n",
            "\n",
            "Epoch 4/39\n",
            "----------\n",
            "train Loss: 0.8942 Acc: 0.5929\n",
            "val Loss: 1.2119 Acc: 0.5372\n",
            "\n",
            "Epoch 5/39\n",
            "----------\n",
            "train Loss: 0.8628 Acc: 0.6077\n",
            "val Loss: 0.7917 Acc: 0.6628\n",
            "\n",
            "Epoch 6/39\n",
            "----------\n",
            "train Loss: 0.8146 Acc: 0.6332\n",
            "val Loss: 0.8314 Acc: 0.6569\n",
            "\n",
            "Epoch 7/39\n",
            "----------\n",
            "train Loss: 0.7848 Acc: 0.6513\n",
            "val Loss: 0.7021 Acc: 0.6778\n",
            "\n",
            "Epoch 8/39\n",
            "----------\n",
            "train Loss: 0.7692 Acc: 0.6606\n",
            "val Loss: 0.8842 Acc: 0.5766\n",
            "\n",
            "Epoch 9/39\n",
            "----------\n",
            "train Loss: 0.7591 Acc: 0.6708\n",
            "val Loss: 0.6826 Acc: 0.7096\n",
            "\n",
            "Epoch 10/39\n",
            "----------\n",
            "train Loss: 0.7538 Acc: 0.6716\n",
            "val Loss: 0.7473 Acc: 0.6870\n",
            "\n",
            "Epoch 11/39\n",
            "----------\n",
            "train Loss: 0.7322 Acc: 0.6777\n",
            "val Loss: 0.7065 Acc: 0.6854\n",
            "\n",
            "Epoch 12/39\n",
            "----------\n",
            "train Loss: 0.7232 Acc: 0.6855\n",
            "val Loss: 0.7983 Acc: 0.6862\n",
            "\n",
            "Epoch 13/39\n",
            "----------\n",
            "train Loss: 0.7030 Acc: 0.6948\n",
            "val Loss: 0.6679 Acc: 0.7088\n",
            "\n",
            "Epoch 14/39\n",
            "----------\n",
            "train Loss: 0.7093 Acc: 0.6935\n",
            "val Loss: 0.7790 Acc: 0.6669\n",
            "\n",
            "Epoch 15/39\n",
            "----------\n",
            "train Loss: 0.7299 Acc: 0.6872\n",
            "val Loss: 0.7294 Acc: 0.6954\n",
            "\n",
            "Epoch 16/39\n",
            "----------\n",
            "train Loss: 0.6991 Acc: 0.7005\n",
            "val Loss: 0.7015 Acc: 0.7130\n",
            "\n",
            "Epoch 17/39\n",
            "----------\n",
            "train Loss: 0.6998 Acc: 0.7036\n",
            "val Loss: 0.6050 Acc: 0.7347\n",
            "\n",
            "Epoch 18/39\n",
            "----------\n",
            "train Loss: 0.6767 Acc: 0.7133\n",
            "val Loss: 0.6832 Acc: 0.7364\n",
            "\n",
            "Epoch 19/39\n",
            "----------\n",
            "train Loss: 0.6637 Acc: 0.7186\n",
            "val Loss: 0.6083 Acc: 0.7331\n",
            "\n",
            "Epoch 20/39\n",
            "----------\n",
            "train Loss: 0.6608 Acc: 0.7166\n",
            "val Loss: 0.6839 Acc: 0.6979\n",
            "\n",
            "Epoch 21/39\n",
            "----------\n",
            "train Loss: 0.6726 Acc: 0.7154\n",
            "val Loss: 0.5694 Acc: 0.7456\n",
            "\n",
            "Epoch 22/39\n",
            "----------\n",
            "train Loss: 0.6617 Acc: 0.7140\n",
            "val Loss: 0.6499 Acc: 0.7247\n",
            "\n",
            "Epoch 23/39\n",
            "----------\n",
            "train Loss: 0.6771 Acc: 0.7156\n",
            "val Loss: 0.6757 Acc: 0.7197\n",
            "\n",
            "Epoch 24/39\n",
            "----------\n",
            "train Loss: 0.6468 Acc: 0.7255\n",
            "val Loss: 0.6615 Acc: 0.7255\n",
            "\n",
            "Epoch 25/39\n",
            "----------\n",
            "train Loss: 0.6349 Acc: 0.7381\n",
            "val Loss: 0.6221 Acc: 0.7305\n",
            "\n",
            "Epoch 26/39\n",
            "----------\n",
            "train Loss: 0.6365 Acc: 0.7339\n",
            "val Loss: 0.6109 Acc: 0.7498\n",
            "\n",
            "Epoch 27/39\n",
            "----------\n",
            "train Loss: 0.6329 Acc: 0.7304\n",
            "val Loss: 0.6362 Acc: 0.7389\n",
            "\n",
            "Epoch 28/39\n",
            "----------\n",
            "train Loss: 0.6273 Acc: 0.7329\n",
            "val Loss: 0.6360 Acc: 0.7431\n",
            "\n",
            "Epoch 29/39\n",
            "----------\n",
            "train Loss: 0.6181 Acc: 0.7366\n",
            "val Loss: 0.5506 Acc: 0.7640\n",
            "\n",
            "Epoch 30/39\n",
            "----------\n",
            "train Loss: 0.6173 Acc: 0.7415\n",
            "val Loss: 0.6224 Acc: 0.7389\n",
            "\n",
            "Epoch 31/39\n",
            "----------\n",
            "train Loss: 0.6068 Acc: 0.7474\n",
            "val Loss: 0.6168 Acc: 0.7305\n",
            "\n",
            "Epoch 32/39\n",
            "----------\n",
            "train Loss: 0.6068 Acc: 0.7448\n",
            "val Loss: 0.6197 Acc: 0.7272\n",
            "\n",
            "Epoch 33/39\n",
            "----------\n",
            "train Loss: 0.6035 Acc: 0.7450\n",
            "val Loss: 0.5605 Acc: 0.7665\n",
            "\n",
            "Epoch 34/39\n",
            "----------\n",
            "train Loss: 0.6002 Acc: 0.7489\n",
            "val Loss: 0.6549 Acc: 0.7364\n",
            "\n",
            "Epoch 35/39\n",
            "----------\n",
            "train Loss: 0.6027 Acc: 0.7472\n",
            "val Loss: 0.5593 Acc: 0.7724\n",
            "\n",
            "Epoch 36/39\n",
            "----------\n",
            "train Loss: 0.5917 Acc: 0.7504\n",
            "val Loss: 0.6771 Acc: 0.7297\n",
            "\n",
            "Epoch 37/39\n",
            "----------\n",
            "train Loss: 0.5918 Acc: 0.7513\n",
            "val Loss: 0.5705 Acc: 0.7615\n",
            "\n",
            "Epoch 38/39\n",
            "----------\n",
            "train Loss: 0.5960 Acc: 0.7532\n",
            "val Loss: 0.7104 Acc: 0.7046\n",
            "\n",
            "Epoch 39/39\n",
            "----------\n",
            "train Loss: 0.5883 Acc: 0.7558\n",
            "val Loss: 0.5158 Acc: 0.7992\n",
            "\n",
            "Training complete in 62m 18s\n",
            "Best val Acc: 0.799163\n"
          ],
          "name": "stdout"
        }
      ]
    },
    {
      "cell_type": "markdown",
      "metadata": {
        "id": "c8u-GimZQh9g",
        "colab_type": "text"
      },
      "source": [
        "# fine tuning\n"
      ]
    },
    {
      "cell_type": "code",
      "metadata": {
        "id": "cRB599HdVivN",
        "colab_type": "code",
        "colab": {}
      },
      "source": [
        "model = best_model\n",
        "# for param in model.parameters():\n",
        "#     param.requires_grad = True\n",
        "\n",
        "device = torch.device(\"cuda\")\n",
        "model = model.to(device)\n",
        "\n",
        "criterion = nn.CrossEntropyLoss()\n",
        "#optimizer = optim.SGD(model.parameters(), lr=0.01, momentum=0.9, nesterov=True)\n",
        "optimiser = Ranger(model.parameters(), lr= 0.001)\n",
        "# Decay LR by a factor of 0.1 every 7 epochs\n",
        "exp_lr_scheduler = lr_scheduler.ReduceLROnPlateau(optimizer,factor=0.3,patience=6,threshold=0.0005)"
      ],
      "execution_count": 0,
      "outputs": []
    },
    {
      "cell_type": "code",
      "metadata": {
        "id": "eyYNAnvJpZs5",
        "colab_type": "code",
        "outputId": "5f880eeb-4344-486f-c0c3-79fbd220b003",
        "colab": {
          "base_uri": "https://localhost:8080/",
          "height": 890
        }
      },
      "source": [
        "new_model = train_model(model, criterion, optimizer, exp_lr_scheduler, num_epochs=10)"
      ],
      "execution_count": 21,
      "outputs": [
        {
          "output_type": "stream",
          "text": [
            "Epoch 0/9\n",
            "----------\n",
            "train Loss: 0.5973 Acc: 0.7528\n",
            "val Loss: 0.7624 Acc: 0.6561\n",
            "\n",
            "Epoch 1/9\n",
            "----------\n",
            "train Loss: 0.5805 Acc: 0.7551\n",
            "val Loss: 0.5642 Acc: 0.7908\n",
            "\n",
            "Epoch 2/9\n",
            "----------\n",
            "train Loss: 0.5837 Acc: 0.7590\n",
            "val Loss: 0.5985 Acc: 0.7565\n",
            "\n",
            "Epoch 3/9\n",
            "----------\n",
            "train Loss: 0.5743 Acc: 0.7618\n",
            "val Loss: 0.5313 Acc: 0.7808\n",
            "\n",
            "Epoch 4/9\n",
            "----------\n",
            "train Loss: 0.5777 Acc: 0.7611\n",
            "val Loss: 0.5902 Acc: 0.7649\n",
            "\n",
            "Epoch 5/9\n",
            "----------\n",
            "train Loss: 68.3285 Acc: 0.6394\n",
            "val Loss: 11103.3522 Acc: 0.5356\n",
            "\n",
            "Epoch 6/9\n",
            "----------\n",
            "train Loss: 10.8383 Acc: 0.4546\n",
            "val Loss: 62604107.9760 Acc: 0.5347\n",
            "\n",
            "Epoch 7/9\n",
            "----------\n",
            "train Loss: 1.8304 Acc: 0.4984\n",
            "val Loss: 865615832.4342 Acc: 0.5372\n",
            "\n",
            "Epoch 8/9\n",
            "----------\n",
            "train Loss: 0.9987 Acc: 0.5254\n",
            "val Loss: 2.0171 Acc: 0.5372\n",
            "\n",
            "Epoch 9/9\n",
            "----------\n",
            "train Loss: 0.9800 Acc: 0.5233\n",
            "val Loss: 26306608093781.0391 Acc: 0.5364\n",
            "\n",
            "Training complete in 15m 13s\n",
            "Best val Acc: 0.790795\n"
          ],
          "name": "stdout"
        }
      ]
    },
    {
      "cell_type": "markdown",
      "metadata": {
        "id": "H4xZcA6uQzHU",
        "colab_type": "text"
      },
      "source": [
        "# Prediction on test "
      ]
    },
    {
      "cell_type": "code",
      "metadata": {
        "id": "nyHWPDrYRKCw",
        "colab_type": "code",
        "colab": {}
      },
      "source": [
        "label_decoding={0:'YOUNG',1:'MIDDLE',2:'OLD'}"
      ],
      "execution_count": 0,
      "outputs": []
    },
    {
      "cell_type": "code",
      "metadata": {
        "id": "_YxVhMHBLuqj",
        "colab_type": "code",
        "colab": {}
      },
      "source": [
        "prediction = torch.tensor([],dtype=torch.int64)\n",
        "# prediction = prediction.to(device)\n",
        "for inputs, labels in dataloader['test']:\n",
        "            # inputs = inputs.to(device)\n",
        "            # labels = labels.to(device)\n",
        "            new_model.to('cpu')\n",
        "            \n",
        "            outputs = new_model(inputs)\n",
        "            _, preds = torch.max(outputs, 1)\n",
        "            #print(type(preds),preds.shape,preds.dtype,preds.device)\n",
        "            prediction = torch.cat((prediction,preds),0)\n",
        "            #print(prediction.shape,prediction.device)\n",
        "print(prediction.shape)"
      ],
      "execution_count": 0,
      "outputs": []
    },
    {
      "cell_type": "code",
      "metadata": {
        "id": "5BnulH5dXCfd",
        "colab_type": "code",
        "colab": {}
      },
      "source": [
        "sub_csv = test_csv.copy()\n",
        "#prediction = prediction.to('cpu')\n",
        "print(prediction.device)\n",
        "for i in range(len(prediction)):\n",
        "  sub_csv.Class[i] = label_decoding[int(prediction[i])]"
      ],
      "execution_count": 0,
      "outputs": []
    },
    {
      "cell_type": "code",
      "metadata": {
        "id": "_ETLJEb-b6EW",
        "colab_type": "code",
        "colab": {}
      },
      "source": [
        "test_csv.head()"
      ],
      "execution_count": 0,
      "outputs": []
    },
    {
      "cell_type": "code",
      "metadata": {
        "id": "RJjY6JfGcEAU",
        "colab_type": "code",
        "colab": {}
      },
      "source": [
        "sub_csv.head()"
      ],
      "execution_count": 0,
      "outputs": []
    },
    {
      "cell_type": "code",
      "metadata": {
        "id": "706505Aqdfa2",
        "colab_type": "code",
        "colab": {}
      },
      "source": [
        "sub_csv.to_csv('/content/sample_submission_sDO3m7O.csv',index=False)"
      ],
      "execution_count": 0,
      "outputs": []
    },
    {
      "cell_type": "markdown",
      "metadata": {
        "id": "NQAEimxCQH1g",
        "colab_type": "text"
      },
      "source": [
        "# TTA"
      ]
    },
    {
      "cell_type": "code",
      "metadata": {
        "id": "IhTB7ykeh8A_",
        "colab_type": "code",
        "colab": {
          "base_uri": "https://localhost:8080/",
          "height": 118
        },
        "outputId": "0345765a-3e68-4791-be77-39f268d3cd28"
      },
      "source": [
        "!git clone https://github.com/qubvel/ttach.git"
      ],
      "execution_count": 25,
      "outputs": [
        {
          "output_type": "stream",
          "text": [
            "Cloning into 'ttach'...\n",
            "remote: Enumerating objects: 90, done.\u001b[K\n",
            "remote: Counting objects:   1% (1/90)\u001b[K\rremote: Counting objects:   2% (2/90)\u001b[K\rremote: Counting objects:   3% (3/90)\u001b[K\rremote: Counting objects:   4% (4/90)\u001b[K\rremote: Counting objects:   5% (5/90)\u001b[K\rremote: Counting objects:   6% (6/90)\u001b[K\rremote: Counting objects:   7% (7/90)\u001b[K\rremote: Counting objects:   8% (8/90)\u001b[K\rremote: Counting objects:  10% (9/90)\u001b[K\rremote: Counting objects:  11% (10/90)\u001b[K\rremote: Counting objects:  12% (11/90)\u001b[K\rremote: Counting objects:  13% (12/90)\u001b[K\rremote: Counting objects:  14% (13/90)\u001b[K\rremote: Counting objects:  15% (14/90)\u001b[K\rremote: Counting objects:  16% (15/90)\u001b[K\rremote: Counting objects:  17% (16/90)\u001b[K\rremote: Counting objects:  18% (17/90)\u001b[K\rremote: Counting objects:  20% (18/90)\u001b[K\rremote: Counting objects:  21% (19/90)\u001b[K\rremote: Counting objects:  22% (20/90)\u001b[K\rremote: Counting objects:  23% (21/90)\u001b[K\rremote: Counting objects:  24% (22/90)\u001b[K\rremote: Counting objects:  25% (23/90)\u001b[K\rremote: Counting objects:  26% (24/90)\u001b[K\rremote: Counting objects:  27% (25/90)\u001b[K\rremote: Counting objects:  28% (26/90)\u001b[K\rremote: Counting objects:  30% (27/90)\u001b[K\rremote: Counting objects:  31% (28/90)\u001b[K\rremote: Counting objects:  32% (29/90)\u001b[K\rremote: Counting objects:  33% (30/90)\u001b[K\rremote: Counting objects:  34% (31/90)\u001b[K\rremote: Counting objects:  35% (32/90)\u001b[K\rremote: Counting objects:  36% (33/90)\u001b[K\rremote: Counting objects:  37% (34/90)\u001b[K\rremote: Counting objects:  38% (35/90)\u001b[K\rremote: Counting objects:  40% (36/90)\u001b[K\rremote: Counting objects:  41% (37/90)\u001b[K\rremote: Counting objects:  42% (38/90)\u001b[K\rremote: Counting objects:  43% (39/90)\u001b[K\rremote: Counting objects:  44% (40/90)\u001b[K\rremote: Counting objects:  45% (41/90)\u001b[K\rremote: Counting objects:  46% (42/90)\u001b[K\rremote: Counting objects:  47% (43/90)\u001b[K\rremote: Counting objects:  48% (44/90)\u001b[K\rremote: Counting objects:  50% (45/90)\u001b[K\rremote: Counting objects:  51% (46/90)\u001b[K\rremote: Counting objects:  52% (47/90)\u001b[K\rremote: Counting objects:  53% (48/90)\u001b[K\rremote: Counting objects:  54% (49/90)\u001b[K\rremote: Counting objects:  55% (50/90)\u001b[K\rremote: Counting objects:  56% (51/90)\u001b[K\rremote: Counting objects:  57% (52/90)\u001b[K\rremote: Counting objects:  58% (53/90)\u001b[K\rremote: Counting objects:  60% (54/90)\u001b[K\rremote: Counting objects:  61% (55/90)\u001b[K\rremote: Counting objects:  62% (56/90)\u001b[K\rremote: Counting objects:  63% (57/90)\u001b[K\rremote: Counting objects:  64% (58/90)\u001b[K\rremote: Counting objects:  65% (59/90)\u001b[K\rremote: Counting objects:  66% (60/90)\u001b[K\rremote: Counting objects:  67% (61/90)\u001b[K\rremote: Counting objects:  68% (62/90)\u001b[K\rremote: Counting objects:  70% (63/90)\u001b[K\rremote: Counting objects:  71% (64/90)\u001b[K\rremote: Counting objects:  72% (65/90)\u001b[K\rremote: Counting objects:  73% (66/90)\u001b[K\rremote: Counting objects:  74% (67/90)\u001b[K\rremote: Counting objects:  75% (68/90)\u001b[K\rremote: Counting objects:  76% (69/90)\u001b[K\rremote: Counting objects:  77% (70/90)\u001b[K\rremote: Counting objects:  78% (71/90)\u001b[K\rremote: Counting objects:  80% (72/90)\u001b[K\rremote: Counting objects:  81% (73/90)\u001b[K\rremote: Counting objects:  82% (74/90)\u001b[K\rremote: Counting objects:  83% (75/90)\u001b[K\rremote: Counting objects:  84% (76/90)\u001b[K\rremote: Counting objects:  85% (77/90)\u001b[K\rremote: Counting objects:  86% (78/90)\u001b[K\rremote: Counting objects:  87% (79/90)\u001b[K\rremote: Counting objects:  88% (80/90)\u001b[K\rremote: Counting objects:  90% (81/90)\u001b[K\rremote: Counting objects:  91% (82/90)\u001b[K\rremote: Counting objects:  92% (83/90)\u001b[K\rremote: Counting objects:  93% (84/90)\u001b[K\rremote: Counting objects:  94% (85/90)\u001b[K\rremote: Counting objects:  95% (86/90)\u001b[K\rremote: Counting objects:  96% (87/90)\u001b[K\rremote: Counting objects:  97% (88/90)\u001b[K\rremote: Counting objects:  98% (89/90)\u001b[K\rremote: Counting objects: 100% (90/90)\u001b[K\rremote: Counting objects: 100% (90/90), done.\u001b[K\n",
            "remote: Compressing objects:   1% (1/66)\u001b[K\rremote: Compressing objects:   3% (2/66)\u001b[K\rremote: Compressing objects:   4% (3/66)\u001b[K\rremote: Compressing objects:   6% (4/66)\u001b[K\rremote: Compressing objects:   7% (5/66)\u001b[K\rremote: Compressing objects:   9% (6/66)\u001b[K\rremote: Compressing objects:  10% (7/66)\u001b[K\rremote: Compressing objects:  12% (8/66)\u001b[K\rremote: Compressing objects:  13% (9/66)\u001b[K\rremote: Compressing objects:  15% (10/66)\u001b[K\rremote: Compressing objects:  16% (11/66)\u001b[K\rremote: Compressing objects:  18% (12/66)\u001b[K\rremote: Compressing objects:  19% (13/66)\u001b[K\rremote: Compressing objects:  21% (14/66)\u001b[K\rremote: Compressing objects:  22% (15/66)\u001b[K\rremote: Compressing objects:  24% (16/66)\u001b[K\rremote: Compressing objects:  25% (17/66)\u001b[K\rremote: Compressing objects:  27% (18/66)\u001b[K\rremote: Compressing objects:  28% (19/66)\u001b[K\rremote: Compressing objects:  30% (20/66)\u001b[K\rremote: Compressing objects:  31% (21/66)\u001b[K\rremote: Compressing objects:  33% (22/66)\u001b[K\rremote: Compressing objects:  34% (23/66)\u001b[K\rremote: Compressing objects:  36% (24/66)\u001b[K\rremote: Compressing objects:  37% (25/66)\u001b[K\rremote: Compressing objects:  39% (26/66)\u001b[K\rremote: Compressing objects:  40% (27/66)\u001b[K\rremote: Compressing objects:  42% (28/66)\u001b[K\rremote: Compressing objects:  43% (29/66)\u001b[K\rremote: Compressing objects:  45% (30/66)\u001b[K\rremote: Compressing objects:  46% (31/66)\u001b[K\rremote: Compressing objects:  48% (32/66)\u001b[K\rremote: Compressing objects:  50% (33/66)\u001b[K\rremote: Compressing objects:  51% (34/66)\u001b[K\rremote: Compressing objects:  53% (35/66)\u001b[K\rremote: Compressing objects:  54% (36/66)\u001b[K\rremote: Compressing objects:  56% (37/66)\u001b[K\rremote: Compressing objects:  57% (38/66)\u001b[K\rremote: Compressing objects:  59% (39/66)\u001b[K\rremote: Compressing objects:  60% (40/66)\u001b[K\rremote: Compressing objects:  62% (41/66)\u001b[K\rremote: Compressing objects:  63% (42/66)\u001b[K\rremote: Compressing objects:  65% (43/66)\u001b[K\rremote: Compressing objects:  66% (44/66)\u001b[K\rremote: Compressing objects:  68% (45/66)\u001b[K\rremote: Compressing objects:  69% (46/66)\u001b[K\rremote: Compressing objects:  71% (47/66)\u001b[K\rremote: Compressing objects:  72% (48/66)\u001b[K\rremote: Compressing objects:  74% (49/66)\u001b[K\rremote: Compressing objects:  75% (50/66)\u001b[K\rremote: Compressing objects:  77% (51/66)\u001b[K\rremote: Compressing objects:  78% (52/66)\u001b[K\rremote: Compressing objects:  80% (53/66)\u001b[K\rremote: Compressing objects:  81% (54/66)\u001b[K\rremote: Compressing objects:  83% (55/66)\u001b[K\rremote: Compressing objects:  84% (56/66)\u001b[K\rremote: Compressing objects:  86% (57/66)\u001b[K\rremote: Compressing objects:  87% (58/66)\u001b[K\rremote: Compressing objects:  89% (59/66)\u001b[K\rremote: Compressing objects:  90% (60/66)\u001b[K\rremote: Compressing objects:  92% (61/66)\u001b[K\rremote: Compressing objects:  93% (62/66)\u001b[K\rremote: Compressing objects:  95% (63/66)\u001b[K\rremote: Compressing objects:  96% (64/66)\u001b[K\rremote: Compressing objects:  98% (65/66)\u001b[K\rremote: Compressing objects: 100% (66/66)\u001b[K\rremote: Compressing objects: 100% (66/66), done.\u001b[K\n",
            "remote: Total 90 (delta 45), reused 54 (delta 21), pack-reused 0\u001b[K\n",
            "Unpacking objects:   1% (1/90)   \rUnpacking objects:   2% (2/90)   \rUnpacking objects:   3% (3/90)   \rUnpacking objects:   4% (4/90)   \rUnpacking objects:   5% (5/90)   \rUnpacking objects:   6% (6/90)   \rUnpacking objects:   7% (7/90)   \rUnpacking objects:   8% (8/90)   \rUnpacking objects:  10% (9/90)   \rUnpacking objects:  11% (10/90)   \rUnpacking objects:  12% (11/90)   \rUnpacking objects:  13% (12/90)   \rUnpacking objects:  14% (13/90)   \rUnpacking objects:  15% (14/90)   \rUnpacking objects:  16% (15/90)   \rUnpacking objects:  17% (16/90)   \rUnpacking objects:  18% (17/90)   \rUnpacking objects:  20% (18/90)   \rUnpacking objects:  21% (19/90)   \rUnpacking objects:  22% (20/90)   \rUnpacking objects:  23% (21/90)   \rUnpacking objects:  24% (22/90)   \rUnpacking objects:  25% (23/90)   \rUnpacking objects:  26% (24/90)   \rUnpacking objects:  27% (25/90)   \rUnpacking objects:  28% (26/90)   \rUnpacking objects:  30% (27/90)   \rUnpacking objects:  31% (28/90)   \rUnpacking objects:  32% (29/90)   \rUnpacking objects:  33% (30/90)   \rUnpacking objects:  34% (31/90)   \rUnpacking objects:  35% (32/90)   \rUnpacking objects:  36% (33/90)   \rUnpacking objects:  37% (34/90)   \rUnpacking objects:  38% (35/90)   \rUnpacking objects:  40% (36/90)   \rUnpacking objects:  41% (37/90)   \rUnpacking objects:  42% (38/90)   \rUnpacking objects:  43% (39/90)   \rUnpacking objects:  44% (40/90)   \rUnpacking objects:  45% (41/90)   \rUnpacking objects:  46% (42/90)   \rUnpacking objects:  47% (43/90)   \rUnpacking objects:  48% (44/90)   \rUnpacking objects:  50% (45/90)   \rUnpacking objects:  51% (46/90)   \rUnpacking objects:  52% (47/90)   \rUnpacking objects:  53% (48/90)   \rUnpacking objects:  54% (49/90)   \rUnpacking objects:  55% (50/90)   \rUnpacking objects:  56% (51/90)   \rUnpacking objects:  57% (52/90)   \rUnpacking objects:  58% (53/90)   \rUnpacking objects:  60% (54/90)   \rUnpacking objects:  61% (55/90)   \rUnpacking objects:  62% (56/90)   \rUnpacking objects:  63% (57/90)   \rUnpacking objects:  64% (58/90)   \rUnpacking objects:  65% (59/90)   \rUnpacking objects:  66% (60/90)   \rUnpacking objects:  67% (61/90)   \rUnpacking objects:  68% (62/90)   \rUnpacking objects:  70% (63/90)   \rUnpacking objects:  71% (64/90)   \rUnpacking objects:  72% (65/90)   \rUnpacking objects:  73% (66/90)   \rUnpacking objects:  74% (67/90)   \rUnpacking objects:  75% (68/90)   \rUnpacking objects:  76% (69/90)   \rUnpacking objects:  77% (70/90)   \rUnpacking objects:  78% (71/90)   \rUnpacking objects:  80% (72/90)   \rUnpacking objects:  81% (73/90)   \rUnpacking objects:  82% (74/90)   \rUnpacking objects:  83% (75/90)   \rUnpacking objects:  84% (76/90)   \rUnpacking objects:  85% (77/90)   \rUnpacking objects:  86% (78/90)   \rUnpacking objects:  87% (79/90)   \rUnpacking objects:  88% (80/90)   \rUnpacking objects:  90% (81/90)   \rUnpacking objects:  91% (82/90)   \rUnpacking objects:  92% (83/90)   \rUnpacking objects:  93% (84/90)   \rUnpacking objects:  94% (85/90)   \rUnpacking objects:  95% (86/90)   \rUnpacking objects:  96% (87/90)   \rUnpacking objects:  97% (88/90)   \rUnpacking objects:  98% (89/90)   \rUnpacking objects: 100% (90/90)   \rUnpacking objects: 100% (90/90), done.\n"
          ],
          "name": "stdout"
        }
      ]
    },
    {
      "cell_type": "code",
      "metadata": {
        "id": "WkpJ7GmooTOM",
        "colab_type": "code",
        "colab": {}
      },
      "source": [
        "up_model = timm.models.efficientnet_b0()\n",
        "up_model = torch.load('/content/effb0_imp2_whole')"
      ],
      "execution_count": 0,
      "outputs": []
    },
    {
      "cell_type": "code",
      "metadata": {
        "id": "jDg-kI4ViO6-",
        "colab_type": "code",
        "colab": {}
      },
      "source": [
        "from ttach import *\n",
        "test_tf = Compose([HorizontalFlip()])\n",
        "tta_model = ClassificationTTAWrapper(up_model,test_tf,merge_mode='mean')"
      ],
      "execution_count": 0,
      "outputs": []
    },
    {
      "cell_type": "code",
      "metadata": {
        "id": "gST0hl1NXL6K",
        "colab_type": "code",
        "colab": {
          "base_uri": "https://localhost:8080/",
          "height": 34
        },
        "outputId": "8e369869-e900-4fc3-91ad-5dcde83f7a86"
      },
      "source": [
        "prediction = torch.tensor([],dtype=torch.int64)\n",
        "prediction = prediction.to(device)\n",
        "for inputs, labels in dataloader['test']:\n",
        "            inputs = inputs.to(device)\n",
        "            labels = labels.to(device)\n",
        "            tta_model.to(device)\n",
        "            \n",
        "            outputs = tta_model(inputs)\n",
        "            _, preds = torch.max(outputs, 1)\n",
        "            #print(type(preds),preds.shape,preds.dtype,preds.device)\n",
        "            prediction = torch.cat((prediction,preds),0)\n",
        "            #print(prediction.shape,prediction.device)\n",
        "print(prediction.shape)"
      ],
      "execution_count": 42,
      "outputs": [
        {
          "output_type": "stream",
          "text": [
            "torch.Size([6636])\n"
          ],
          "name": "stdout"
        }
      ]
    },
    {
      "cell_type": "code",
      "metadata": {
        "id": "AhgB7Dm5Xnkk",
        "colab_type": "code",
        "colab": {
          "base_uri": "https://localhost:8080/",
          "height": 34
        },
        "outputId": "fe9bb9df-d7c5-4bc9-c0b7-abc3afd7778a"
      },
      "source": [
        "sub_csv = test_csv.copy()\n",
        "#prediction = prediction.to('cpu')\n",
        "print(prediction.device)\n",
        "for i in range(len(prediction)):\n",
        "  sub_csv.Class[i] = label_decoding[int(prediction[i])]"
      ],
      "execution_count": 43,
      "outputs": [
        {
          "output_type": "stream",
          "text": [
            "cuda:0\n"
          ],
          "name": "stdout"
        }
      ]
    },
    {
      "cell_type": "code",
      "metadata": {
        "id": "dHBSfiyvkv0k",
        "colab_type": "code",
        "colab": {
          "base_uri": "https://localhost:8080/",
          "height": 195
        },
        "outputId": "79adf993-7076-4d3d-90f1-7c1077982dba"
      },
      "source": [
        "sub_csv.head()"
      ],
      "execution_count": 44,
      "outputs": [
        {
          "output_type": "execute_result",
          "data": {
            "text/html": [
              "<div>\n",
              "<style scoped>\n",
              "    .dataframe tbody tr th:only-of-type {\n",
              "        vertical-align: middle;\n",
              "    }\n",
              "\n",
              "    .dataframe tbody tr th {\n",
              "        vertical-align: top;\n",
              "    }\n",
              "\n",
              "    .dataframe thead th {\n",
              "        text-align: right;\n",
              "    }\n",
              "</style>\n",
              "<table border=\"1\" class=\"dataframe\">\n",
              "  <thead>\n",
              "    <tr style=\"text-align: right;\">\n",
              "      <th></th>\n",
              "      <th>ID</th>\n",
              "      <th>Class</th>\n",
              "    </tr>\n",
              "  </thead>\n",
              "  <tbody>\n",
              "    <tr>\n",
              "      <th>0</th>\n",
              "      <td>25321.jpg</td>\n",
              "      <td>MIDDLE</td>\n",
              "    </tr>\n",
              "    <tr>\n",
              "      <th>1</th>\n",
              "      <td>989.jpg</td>\n",
              "      <td>YOUNG</td>\n",
              "    </tr>\n",
              "    <tr>\n",
              "      <th>2</th>\n",
              "      <td>19277.jpg</td>\n",
              "      <td>MIDDLE</td>\n",
              "    </tr>\n",
              "    <tr>\n",
              "      <th>3</th>\n",
              "      <td>13093.jpg</td>\n",
              "      <td>MIDDLE</td>\n",
              "    </tr>\n",
              "    <tr>\n",
              "      <th>4</th>\n",
              "      <td>5367.jpg</td>\n",
              "      <td>MIDDLE</td>\n",
              "    </tr>\n",
              "  </tbody>\n",
              "</table>\n",
              "</div>"
            ],
            "text/plain": [
              "          ID   Class\n",
              "0  25321.jpg  MIDDLE\n",
              "1    989.jpg   YOUNG\n",
              "2  19277.jpg  MIDDLE\n",
              "3  13093.jpg  MIDDLE\n",
              "4   5367.jpg  MIDDLE"
            ]
          },
          "metadata": {
            "tags": []
          },
          "execution_count": 44
        }
      ]
    },
    {
      "cell_type": "code",
      "metadata": {
        "id": "oX9DvLZMk3iF",
        "colab_type": "code",
        "colab": {}
      },
      "source": [
        "sub_csv.to_csv('/content/sample_submission_sDO3m7O.csv',index=False)"
      ],
      "execution_count": 0,
      "outputs": []
    },
    {
      "cell_type": "code",
      "metadata": {
        "id": "rTHeiSVtlCYN",
        "colab_type": "code",
        "colab": {}
      },
      "source": [
        ""
      ],
      "execution_count": 0,
      "outputs": []
    }
  ]
}