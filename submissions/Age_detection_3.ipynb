{
  "nbformat": 4,
  "nbformat_minor": 0,
  "metadata": {
    "colab": {
      "name": "Age_detection_1.ipynb",
      "provenance": [],
      "collapsed_sections": [],
      "toc_visible": true
    },
    "kernelspec": {
      "name": "python3",
      "display_name": "Python 3"
    },
    "accelerator": "GPU"
  },
  "cells": [
    {
      "cell_type": "code",
      "metadata": {
        "id": "OcQjSUsi1bFI",
        "colab_type": "code",
        "colab": {}
      },
      "source": [
        "!unzip test_Bh8pGW3.zip\n",
        "!unzip train_DETg9GD.zip"
      ],
      "execution_count": 0,
      "outputs": []
    },
    {
      "cell_type": "code",
      "metadata": {
        "id": "q7WjL1QqDdQV",
        "colab_type": "code",
        "colab": {}
      },
      "source": [
        "import numpy as np\n",
        "import pandas as pd\n",
        "from random import randint\n",
        "import os\n",
        "import torch\n",
        "import torch.nn as nn\n",
        "import torch.nn.functional as F\n",
        "import torchvision\n",
        "from sklearn.model_selection import train_test_split\n",
        "from sklearn.utils import shuffle\n",
        "from torch.utils.data import DataLoader, Dataset\n",
        "from sklearn.metrics import accuracy_score\n",
        "from matplotlib.pyplot import imread\n",
        "from pylab import *\n",
        "from albumentations import (RGBShift,Blur,RandomContrast,HueSaturationValue,RandomGamma,Rotate,RandomBrightness,HorizontalFlip, Normalize, Resize, Compose, GaussNoise,Transpose,RandomBrightnessContrast,RandomCrop)\n",
        "from albumentations.pytorch import ToTensor\n",
        "import torch.optim as optim\n",
        "from torch.optim import lr_scheduler\n",
        "from torchvision import datasets, models, transforms\n",
        "import time\n",
        "import copy"
      ],
      "execution_count": 0,
      "outputs": []
    },
    {
      "cell_type": "code",
      "metadata": {
        "id": "74taFO98wHYT",
        "colab_type": "code",
        "colab": {}
      },
      "source": [
        "train_csv = pd.read_csv('/content/train.csv')\n",
        "train_csv,val_csv = train_test_split(train_csv,test_size=0.06,random_state=8)\n",
        "test_csv = pd.read_csv('/content/test.csv')\n",
        "test_csv['Class']=\"\"\n",
        "test_csv.Class='MIDDLE'"
      ],
      "execution_count": 0,
      "outputs": []
    },
    {
      "cell_type": "code",
      "metadata": {
        "id": "hF72YOEyw9fl",
        "colab_type": "code",
        "outputId": "ab463e7d-d382-4ab3-c401-e10259cd4f38",
        "colab": {
          "base_uri": "https://localhost:8080/",
          "height": 101
        }
      },
      "source": [
        "print('train image count--',len(train_csv),'\\t test image count--',len(test_csv),'\\t val image count--',len(val_csv))\n",
        "train_csv.Class.value_counts(normalize=True)"
      ],
      "execution_count": 86,
      "outputs": [
        {
          "output_type": "stream",
          "text": [
            "train image count-- 18711 \t test image count-- 6636 \t val image count-- 1195\n"
          ],
          "name": "stdout"
        },
        {
          "output_type": "execute_result",
          "data": {
            "text/plain": [
              "MIDDLE    0.543103\n",
              "YOUNG     0.336112\n",
              "OLD       0.120785\n",
              "Name: Class, dtype: float64"
            ]
          },
          "metadata": {
            "tags": []
          },
          "execution_count": 86
        }
      ]
    },
    {
      "cell_type": "code",
      "metadata": {
        "id": "2qgEu1O3RUsE",
        "colab_type": "code",
        "colab": {}
      },
      "source": [
        "label_assign={'YOUNG':0,'MIDDLE':1,'OLD':2}"
      ],
      "execution_count": 0,
      "outputs": []
    },
    {
      "cell_type": "markdown",
      "metadata": {
        "id": "IK8jAK5CFUJp",
        "colab_type": "text"
      },
      "source": [
        "# knowing image shapes"
      ]
    },
    {
      "cell_type": "code",
      "metadata": {
        "id": "WfybElFLxQCt",
        "colab_type": "code",
        "colab": {}
      },
      "source": [
        "l=[]\n",
        "for i in range(len(train_csv)):\n",
        "  img_path = '/content/Train/' + str(train_csv.ID[i])\n",
        "  img = imread(img_path,format='jpg')\n",
        "  l.append(img.shape)\n",
        "l=np.array(l)"
      ],
      "execution_count": 0,
      "outputs": []
    },
    {
      "cell_type": "code",
      "metadata": {
        "id": "HSIurJn7Ef0C",
        "colab_type": "code",
        "outputId": "24093195-f878-4285-9d62-7312e9fb0b8f",
        "colab": {
          "base_uri": "https://localhost:8080/",
          "height": 67
        }
      },
      "source": [
        "print(min(l[:,0]),min(l[:,1]))\n",
        "print(max(l[:,0]),max(l[:,1]))\n",
        "print(mean(l[:,0]),mean(l[:,1]))"
      ],
      "execution_count": 0,
      "outputs": [
        {
          "output_type": "stream",
          "text": [
            "11 8\n",
            "713 724\n",
            "125.46724605646538 99.01070029136943\n"
          ],
          "name": "stdout"
        }
      ]
    },
    {
      "cell_type": "markdown",
      "metadata": {
        "id": "y9tmNFakFps2",
        "colab_type": "text"
      },
      "source": [
        "# Building datasets and dataloaders before training"
      ]
    },
    {
      "cell_type": "code",
      "metadata": {
        "id": "LtqC04lP-Fvi",
        "colab_type": "code",
        "colab": {}
      },
      "source": [
        "class dataset(Dataset):\n",
        "  def __init__(self, csv_file, dir_path, phase):\n",
        "    self.csv_file = csv_file\n",
        "    self.dir_path = dir_path\n",
        "    self.phase = phase\n",
        "    self.transform = get_transforms(self.phase)\n",
        "\n",
        "  def __len__(self):\n",
        "    return len(self.csv_file)\n",
        "\n",
        "  def __getitem__(self,idx):\n",
        "    img_path = os.path.join(self.dir_path, self.csv_file.iloc[idx, 0])\n",
        "    image = imread(img_path)\n",
        "    label = label_assign[self.csv_file.iloc[idx, 1]]\n",
        "    aug_img = self.transform(image=image)\n",
        "    image = aug_img[\"image\"]\n",
        "    return image,label\n",
        "\n",
        "def get_transforms(phase):\n",
        "  t_list=[]\n",
        "  if phase=='train':\n",
        "    t_list.extend([RandomBrightness(limit=0.8, p=0.5),\n",
        "                   Rotate(limit=25, p=0.5),\n",
        "                   RGBShift(r_shift_limit=50, g_shift_limit=30, b_shift_limit=40, p=0.5),\n",
        "                   RandomGamma(gamma_limit=(80,165), p=0.5),\n",
        "                   HorizontalFlip(p=0.5),\n",
        "                   HueSaturationValue(hue_shift_limit=10, sat_shift_limit=30, val_shift_limit=30, p=0.5),\n",
        "                   RandomContrast(limit=0.5, p=0.5),\n",
        "                   RandomBrightnessContrast(brightness_limit=0.2, contrast_limit=0.2, p=0.5)\n",
        "                   ])\n",
        "  t_list.extend([Resize(64, 64, interpolation=1, p=1),    ## 16x16, 64x64 , 128x100\n",
        "                 Normalize(mean=(0.485, 0.456, 0.406), std=(0.229, 0.224, 0.225), max_pixel_value=255.0, p=1.0),\n",
        "                 ToTensor()])\n",
        "  return  Compose(t_list)"
      ],
      "execution_count": 0,
      "outputs": []
    },
    {
      "cell_type": "code",
      "metadata": {
        "id": "FcnzelbqB_2V",
        "colab_type": "code",
        "outputId": "b48d2878-fffe-4adc-dce7-fc06f8596250",
        "colab": {
          "base_uri": "https://localhost:8080/",
          "height": 34
        }
      },
      "source": [
        "### creating train and test datasets\n",
        "train_dataset = dataset(train_csv,'/content/Train/','train')\n",
        "test_dataset = dataset(test_csv,'/content/Test/','test')\n",
        "val_dataset = dataset(val_csv,'/content/Train/','val')\n",
        "dataset_sizes={'train':len(train_dataset),'val':len(val_dataset),'test':len(test_dataset)}\n",
        "print(dataset_sizes)"
      ],
      "execution_count": 89,
      "outputs": [
        {
          "output_type": "stream",
          "text": [
            "{'train': 18711, 'val': 1195, 'test': 6636}\n"
          ],
          "name": "stdout"
        }
      ]
    },
    {
      "cell_type": "code",
      "metadata": {
        "id": "DUVSGOI7aNSe",
        "colab_type": "code",
        "outputId": "c0ee8fa8-54a4-4591-833d-133474165d3d",
        "colab": {
          "base_uri": "https://localhost:8080/",
          "height": 403
        }
      },
      "source": [
        "### visualising datasets\n",
        "a=randint(0,1700)\n",
        "print(\"VISUALISING TRAIN DATASET\")\n",
        "for i in range(a,a+10):\n",
        "  image, label = train_dataset[i]\n",
        "  print(i,'\\t', image.shape,'\\t', label)\n",
        "print(\"\\nVISUALISING TEST DATASET\")\n",
        "b=randint(0,6625)\n",
        "for i in range(b,b+10):\n",
        "  image, label = test_dataset[i]\n",
        "  print(i,'\\t', image.shape,'\\t', label)"
      ],
      "execution_count": 90,
      "outputs": [
        {
          "output_type": "stream",
          "text": [
            "VISUALISING TRAIN DATASET\n",
            "106 \t torch.Size([3, 64, 64]) \t 0\n",
            "107 \t torch.Size([3, 64, 64]) \t 0\n",
            "108 \t torch.Size([3, 64, 64]) \t 1\n",
            "109 \t torch.Size([3, 64, 64]) \t 1\n",
            "110 \t torch.Size([3, 64, 64]) \t 1\n",
            "111 \t torch.Size([3, 64, 64]) \t 2\n",
            "112 \t torch.Size([3, 64, 64]) \t 0\n",
            "113 \t torch.Size([3, 64, 64]) \t 2\n",
            "114 \t torch.Size([3, 64, 64]) \t 1\n",
            "115 \t torch.Size([3, 64, 64]) \t 1\n",
            "\n",
            "VISUALISING TEST DATASET\n",
            "3313 \t torch.Size([3, 64, 64]) \t 1\n",
            "3314 \t torch.Size([3, 64, 64]) \t 1\n",
            "3315 \t torch.Size([3, 64, 64]) \t 1\n",
            "3316 \t torch.Size([3, 64, 64]) \t 1\n",
            "3317 \t torch.Size([3, 64, 64]) \t 1\n",
            "3318 \t torch.Size([3, 64, 64]) \t 1\n",
            "3319 \t torch.Size([3, 64, 64]) \t 1\n",
            "3320 \t torch.Size([3, 64, 64]) \t 1\n",
            "3321 \t torch.Size([3, 64, 64]) \t 1\n",
            "3322 \t torch.Size([3, 64, 64]) \t 1\n"
          ],
          "name": "stdout"
        }
      ]
    },
    {
      "cell_type": "code",
      "metadata": {
        "id": "Xxb-q1OsUBML",
        "colab_type": "code",
        "colab": {}
      },
      "source": [
        "dataloader={}\n",
        "dataloader['train'] = DataLoader(train_dataset, batch_size=256, shuffle=True, num_workers=1)\n",
        "dataloader['test'] = DataLoader(test_dataset, batch_size=512, shuffle=False, num_workers=1)\n",
        "dataloader['val'] = DataLoader(val_dataset, batch_size=256, shuffle=True, num_workers=1)"
      ],
      "execution_count": 0,
      "outputs": []
    },
    {
      "cell_type": "code",
      "metadata": {
        "id": "2djqGSTGbG5d",
        "colab_type": "code",
        "outputId": "42099b42-bd4d-47c7-9b4a-d248a098db51",
        "colab": {
          "base_uri": "https://localhost:8080/",
          "height": 386
        }
      },
      "source": [
        "### visualing batches\n",
        "def show_batch(sample_batch):\n",
        "  img_batch,label_batch = sample_batch\n",
        "  print('batch size--',len(img_batch))\n",
        "  print('img size--',img_batch.size(2))\n",
        "  grid_border_size = 2\n",
        "  grid = torchvision.utils.make_grid(img_batch)\n",
        "  plt.imshow(grid.numpy().transpose((1, 2, 0)))\n",
        "\n",
        "for i, sample_batch in enumerate(dataloader['train']):\n",
        "  img, label = sample_batch\n",
        "  print(i, img.size(), label.shape)\n",
        "  if i==3:\n",
        "    show_batch(sample_batch)\n",
        "    break"
      ],
      "execution_count": 92,
      "outputs": [
        {
          "output_type": "stream",
          "text": [
            "0 torch.Size([256, 3, 64, 64]) torch.Size([256])\n",
            "1 torch.Size([256, 3, 64, 64]) torch.Size([256])\n",
            "2 torch.Size([256, 3, 64, 64]) torch.Size([256])\n"
          ],
          "name": "stdout"
        },
        {
          "output_type": "stream",
          "text": [
            "Clipping input data to the valid range for imshow with RGB data ([0..1] for floats or [0..255] for integers).\n"
          ],
          "name": "stderr"
        },
        {
          "output_type": "stream",
          "text": [
            "3 torch.Size([256, 3, 64, 64]) torch.Size([256])\n",
            "batch size-- 256\n",
            "img size-- 64\n"
          ],
          "name": "stdout"
        },
        {
          "output_type": "display_data",
          "data": {
            "image/png": "[encoded data removed]",
            "text/plain": [
              "<Figure size 432x288 with 1 Axes>"
            ]
          },
          "metadata": {
            "tags": [],
            "needs_background": "light"
          }
        }
      ]
    },
    {
      "cell_type": "markdown",
      "metadata": {
        "id": "qfADvrlVQKNm",
        "colab_type": "text"
      },
      "source": [
        "# Trainer"
      ]
    },
    {
      "cell_type": "code",
      "metadata": {
        "id": "oZlxMge2rJRc",
        "colab_type": "code",
        "colab": {}
      },
      "source": [
        "def train_model(model, criterion, optimizer, scheduler, num_epochs=25):\n",
        "    since = time.time()\n",
        "    latest_model_wts = copy.deepcopy(model.state_dict())\n",
        "    best_model_wts = copy.deepcopy(model.state_dict())\n",
        "    best_acc = 0.0\n",
        "\n",
        "    for epoch in range(num_epochs):\n",
        "        print('Epoch {}/{}'.format(epoch, num_epochs - 1))\n",
        "        print('-' * 10)\n",
        "\n",
        "        # Each epoch has a training and validation phase\n",
        "        for phase in ['train', 'val']:\n",
        "            if phase == 'train':\n",
        "                model.train()  # Set model to training mode\n",
        "            else:\n",
        "                model.eval()   # Set model to evaluate mode\n",
        "\n",
        "            running_loss = 0.0\n",
        "            running_corrects = 0\n",
        "\n",
        "            # Iterate over data.\n",
        "            for img_batch, labels in dataloader[phase]:\n",
        "                img_batch = img_batch.to(device)\n",
        "                labels = labels.to(device)\n",
        "\n",
        "                # zero the parameter gradients\n",
        "                optimizer.zero_grad()\n",
        "\n",
        "                # forward\n",
        "                # track history if only in train\n",
        "                with torch.set_grad_enabled(phase == 'train'):\n",
        "                    outputs = model(img_batch)\n",
        "                    _, preds = torch.max(outputs, 1)\n",
        "                    loss = criterion(outputs, labels)\n",
        "\n",
        "                    # backward + optimize only if in training phase\n",
        "                    if phase == 'train':\n",
        "                        loss.backward()\n",
        "                        optimizer.step()\n",
        "\n",
        "                # statistics\n",
        "                running_loss += loss.item() * img_batch.size(0)\n",
        "                running_corrects += torch.sum(preds == labels.data)\n",
        "            if phase == 'train':\n",
        "                scheduler.step()\n",
        "\n",
        "            epoch_loss = running_loss / dataset_sizes[phase]\n",
        "            epoch_acc = running_corrects.double() / dataset_sizes[phase]\n",
        "\n",
        "            print('{} Loss: {:.4f} Acc: {:.4f}'.format(\n",
        "                phase, epoch_loss, epoch_acc))\n",
        "\n",
        "            # deep copy the model\n",
        "            latest_model_wts = copy.deepcopy(model.state_dict())\n",
        "            if phase == 'val' and epoch_acc > best_acc:\n",
        "                best_acc = epoch_acc\n",
        "                best_model_wts = copy.deepcopy(model.state_dict())\n",
        "\n",
        "        print()\n",
        "\n",
        "    time_elapsed = time.time() - since\n",
        "    print('Training complete in {:.0f}m {:.0f}s'.format(\n",
        "        time_elapsed // 60, time_elapsed % 60))\n",
        "    print('Best val Acc: {:4f}'.format(best_acc))\n",
        "    # load best model weights\n",
        "    model.load_state_dict(best_model_wts)\n",
        "    return model"
      ],
      "execution_count": 0,
      "outputs": []
    },
    {
      "cell_type": "markdown",
      "metadata": {
        "id": "33zCbo8VQXad",
        "colab_type": "text"
      },
      "source": [
        "# Training model with freeze"
      ]
    },
    {
      "cell_type": "code",
      "metadata": {
        "id": "Jc1EPN-Y2nu6",
        "colab_type": "code",
        "colab": {
          "base_uri": "https://localhost:8080/",
          "height": 1000
        },
        "outputId": "b5428d8a-a4e7-4b89-d099-afabc3de18b5"
      },
      "source": [
        "# lr_list = np.random.rand(20)\n",
        "# lr_list = 10**(-5*lr_list)\n",
        "# for lr in lr_list:\n",
        "#   print('***********\\tLR =',lr,'\\t************')\n",
        "model = models.resnet18(pretrained=True)\n",
        "for param in model.parameters():\n",
        "    param.requires_grad = False\n",
        "num_ftrs = model.fc.in_features\n",
        "model.fc = nn.Linear(num_ftrs, 3)\n",
        "\n",
        "device = torch.device(\"cuda\")\n",
        "model = model.to(device)\n",
        "\n",
        "criterion = nn.CrossEntropyLoss()\n",
        "optimizer = optim.SGD(model.parameters(), lr=0.005, momentum=0.9, nesterov=True)\n",
        "# Decay LR by a factor of 0.1 every 7 epochs\n",
        "exp_lr_scheduler = lr_scheduler.StepLR(optimizer, step_size=7, gamma=0.1)\n",
        "\n",
        "\n",
        "best_model = train_model(model, criterion, optimizer, exp_lr_scheduler, num_epochs=13)"
      ],
      "execution_count": 95,
      "outputs": [
        {
          "output_type": "stream",
          "text": [
            "Epoch 0/12\n",
            "----------\n",
            "train Loss: 0.9451 Acc: 0.5682\n",
            "val Loss: 1.0222 Acc: 0.5715\n",
            "\n",
            "Epoch 1/12\n",
            "----------\n",
            "train Loss: 0.8839 Acc: 0.5984\n",
            "val Loss: 0.9065 Acc: 0.5941\n",
            "\n",
            "Epoch 2/12\n",
            "----------\n",
            "train Loss: 0.8765 Acc: 0.6001\n",
            "val Loss: 0.8361 Acc: 0.6310\n",
            "\n",
            "Epoch 3/12\n",
            "----------\n",
            "train Loss: 0.8684 Acc: 0.6080\n",
            "val Loss: 0.8660 Acc: 0.6084\n",
            "\n",
            "Epoch 4/12\n",
            "----------\n",
            "train Loss: 0.8685 Acc: 0.6076\n",
            "val Loss: 0.9918 Acc: 0.5331\n",
            "\n",
            "Epoch 5/12\n",
            "----------\n",
            "train Loss: 0.8709 Acc: 0.6045\n",
            "val Loss: 1.0720 Acc: 0.5707\n",
            "\n",
            "Epoch 6/12\n",
            "----------\n",
            "train Loss: 0.8667 Acc: 0.6088\n",
            "val Loss: 0.9017 Acc: 0.5774\n",
            "\n",
            "Epoch 7/12\n",
            "----------\n",
            "train Loss: 0.8589 Acc: 0.6118\n",
            "val Loss: 0.8258 Acc: 0.6335\n",
            "\n",
            "Epoch 8/12\n",
            "----------\n",
            "train Loss: 0.8472 Acc: 0.6193\n",
            "val Loss: 0.8151 Acc: 0.6418\n",
            "\n",
            "Epoch 9/12\n",
            "----------\n",
            "train Loss: 0.8442 Acc: 0.6197\n",
            "val Loss: 0.8129 Acc: 0.6469\n",
            "\n",
            "Epoch 10/12\n",
            "----------\n",
            "train Loss: 0.8453 Acc: 0.6169\n",
            "val Loss: 0.8119 Acc: 0.6485\n",
            "\n",
            "Epoch 11/12\n",
            "----------\n",
            "train Loss: 0.8388 Acc: 0.6217\n",
            "val Loss: 0.8127 Acc: 0.6460\n",
            "\n",
            "Epoch 12/12\n",
            "----------\n",
            "train Loss: 0.8375 Acc: 0.6227\n",
            "val Loss: 0.8114 Acc: 0.6519\n",
            "\n",
            "Training complete in 11m 18s\n",
            "Best val Acc: 0.651883\n"
          ],
          "name": "stdout"
        }
      ]
    },
    {
      "cell_type": "markdown",
      "metadata": {
        "id": "c8u-GimZQh9g",
        "colab_type": "text"
      },
      "source": [
        "# Unfreeze and training (fine tuning)"
      ]
    },
    {
      "cell_type": "code",
      "metadata": {
        "id": "cRB599HdVivN",
        "colab_type": "code",
        "colab": {}
      },
      "source": [
        "model = best_model\n",
        "for param in model.parameters():\n",
        "    param.requires_grad = True\n",
        "\n",
        "device = torch.device(\"cuda\")\n",
        "model = model.to(device)\n",
        "\n",
        "criterion = nn.CrossEntropyLoss()\n",
        "optimizer = optim.SGD(model.parameters(), lr=0.01, momentum=0.9, nesterov=True)\n",
        "# Decay LR by a factor of 0.1 every 7 epochs\n",
        "exp_lr_scheduler = lr_scheduler.StepLR(optimizer, step_size=20, gamma=0.1)"
      ],
      "execution_count": 0,
      "outputs": []
    },
    {
      "cell_type": "code",
      "metadata": {
        "id": "eyYNAnvJpZs5",
        "colab_type": "code",
        "colab": {
          "base_uri": "https://localhost:8080/",
          "height": 1000
        },
        "outputId": "b5d82927-370a-4f77-f68c-740c4c09b946"
      },
      "source": [
        "new_model = train_model(model, criterion, optimizer, exp_lr_scheduler, num_epochs=50)"
      ],
      "execution_count": 97,
      "outputs": [
        {
          "output_type": "stream",
          "text": [
            "Epoch 0/49\n",
            "----------\n",
            "train Loss: 0.8079 Acc: 0.6518\n",
            "val Loss: 0.7789 Acc: 0.6778\n",
            "\n",
            "Epoch 1/49\n",
            "----------\n",
            "train Loss: 0.6443 Acc: 0.7278\n",
            "val Loss: 0.6114 Acc: 0.7623\n",
            "\n",
            "Epoch 2/49\n",
            "----------\n",
            "train Loss: 0.5618 Acc: 0.7638\n",
            "val Loss: 0.5853 Acc: 0.7598\n",
            "\n",
            "Epoch 3/49\n",
            "----------\n",
            "train Loss: 0.4944 Acc: 0.7973\n",
            "val Loss: 1.0795 Acc: 0.6377\n",
            "\n",
            "Epoch 4/49\n",
            "----------\n",
            "train Loss: 0.4622 Acc: 0.8107\n",
            "val Loss: 0.5397 Acc: 0.7833\n",
            "\n",
            "Epoch 5/49\n",
            "----------\n",
            "train Loss: 0.4091 Acc: 0.8325\n",
            "val Loss: 0.4458 Acc: 0.8159\n",
            "\n",
            "Epoch 6/49\n",
            "----------\n",
            "train Loss: 0.3679 Acc: 0.8516\n",
            "val Loss: 0.5419 Acc: 0.7908\n",
            "\n",
            "Epoch 7/49\n",
            "----------\n",
            "train Loss: 0.3461 Acc: 0.8629\n",
            "val Loss: 0.4491 Acc: 0.8310\n",
            "\n",
            "Epoch 8/49\n",
            "----------\n",
            "train Loss: 0.3183 Acc: 0.8748\n",
            "val Loss: 0.4305 Acc: 0.8385\n",
            "\n",
            "Epoch 9/49\n",
            "----------\n",
            "train Loss: 0.3001 Acc: 0.8830\n",
            "val Loss: 0.4360 Acc: 0.8243\n",
            "\n",
            "Epoch 10/49\n",
            "----------\n",
            "train Loss: 0.2784 Acc: 0.8900\n",
            "val Loss: 0.6953 Acc: 0.8042\n",
            "\n",
            "Epoch 11/49\n",
            "----------\n",
            "train Loss: 0.2895 Acc: 0.8863\n",
            "val Loss: 0.4685 Acc: 0.8201\n",
            "\n",
            "Epoch 12/49\n",
            "----------\n",
            "train Loss: 0.2610 Acc: 0.8975\n",
            "val Loss: 0.3515 Acc: 0.8669\n",
            "\n",
            "Epoch 13/49\n",
            "----------\n",
            "train Loss: 0.2329 Acc: 0.9101\n",
            "val Loss: 0.3505 Acc: 0.8695\n",
            "\n",
            "Epoch 14/49\n",
            "----------\n",
            "train Loss: 0.1969 Acc: 0.9242\n",
            "val Loss: 0.4184 Acc: 0.8527\n",
            "\n",
            "Epoch 15/49\n",
            "----------\n",
            "train Loss: 0.2103 Acc: 0.9197\n",
            "val Loss: 0.3745 Acc: 0.8661\n",
            "\n",
            "Epoch 16/49\n",
            "----------\n",
            "train Loss: 0.1801 Acc: 0.9301\n",
            "val Loss: 0.3844 Acc: 0.8544\n",
            "\n",
            "Epoch 17/49\n",
            "----------\n",
            "train Loss: 0.1979 Acc: 0.9243\n",
            "val Loss: 0.3435 Acc: 0.8736\n",
            "\n",
            "Epoch 18/49\n",
            "----------\n",
            "train Loss: 0.1840 Acc: 0.9301\n",
            "val Loss: 0.3660 Acc: 0.8828\n",
            "\n",
            "Epoch 19/49\n",
            "----------\n",
            "train Loss: 0.1715 Acc: 0.9354\n",
            "val Loss: 0.4341 Acc: 0.8569\n",
            "\n",
            "Epoch 20/49\n",
            "----------\n",
            "train Loss: 0.1395 Acc: 0.9473\n",
            "val Loss: 0.3456 Acc: 0.8828\n",
            "\n",
            "Epoch 21/49\n",
            "----------\n",
            "train Loss: 0.1151 Acc: 0.9571\n",
            "val Loss: 0.3352 Acc: 0.8887\n",
            "\n",
            "Epoch 22/49\n",
            "----------\n",
            "train Loss: 0.1135 Acc: 0.9584\n",
            "val Loss: 0.3305 Acc: 0.8912\n",
            "\n",
            "Epoch 23/49\n",
            "----------\n",
            "train Loss: 0.1004 Acc: 0.9627\n",
            "val Loss: 0.3278 Acc: 0.8929\n",
            "\n",
            "Epoch 24/49\n",
            "----------\n",
            "train Loss: 0.1052 Acc: 0.9625\n",
            "val Loss: 0.3316 Acc: 0.8921\n",
            "\n",
            "Epoch 25/49\n",
            "----------\n",
            "train Loss: 0.0977 Acc: 0.9656\n",
            "val Loss: 0.3251 Acc: 0.8971\n",
            "\n",
            "Epoch 26/49\n",
            "----------\n",
            "train Loss: 0.0993 Acc: 0.9644\n",
            "val Loss: 0.3316 Acc: 0.8946\n",
            "\n",
            "Epoch 27/49\n",
            "----------\n",
            "train Loss: 0.0870 Acc: 0.9689\n",
            "val Loss: 0.3299 Acc: 0.8946\n",
            "\n",
            "Epoch 28/49\n",
            "----------\n",
            "train Loss: 0.0922 Acc: 0.9669\n",
            "val Loss: 0.3278 Acc: 0.8946\n",
            "\n",
            "Epoch 29/49\n",
            "----------\n",
            "train Loss: 0.0857 Acc: 0.9686\n",
            "val Loss: 0.3312 Acc: 0.8946\n",
            "\n",
            "Epoch 30/49\n",
            "----------\n",
            "train Loss: 0.0801 Acc: 0.9708\n",
            "val Loss: 0.3425 Acc: 0.8946\n",
            "\n",
            "Epoch 31/49\n",
            "----------\n",
            "train Loss: 0.0839 Acc: 0.9711\n",
            "val Loss: 0.3338 Acc: 0.8954\n",
            "\n",
            "Epoch 32/49\n",
            "----------\n",
            "train Loss: 0.0824 Acc: 0.9699\n",
            "val Loss: 0.3376 Acc: 0.8971\n",
            "\n",
            "Epoch 33/49\n",
            "----------\n",
            "train Loss: 0.0811 Acc: 0.9716\n",
            "val Loss: 0.3385 Acc: 0.8904\n",
            "\n",
            "Epoch 34/49\n",
            "----------\n",
            "train Loss: 0.0828 Acc: 0.9699\n",
            "val Loss: 0.3392 Acc: 0.8929\n",
            "\n",
            "Epoch 35/49\n",
            "----------\n",
            "train Loss: 0.0733 Acc: 0.9727\n",
            "val Loss: 0.3452 Acc: 0.8979\n",
            "\n",
            "Epoch 36/49\n",
            "----------\n",
            "train Loss: 0.0705 Acc: 0.9740\n",
            "val Loss: 0.3588 Acc: 0.8954\n",
            "\n",
            "Epoch 37/49\n",
            "----------\n",
            "train Loss: 0.0707 Acc: 0.9742\n",
            "val Loss: 0.3638 Acc: 0.8946\n",
            "\n",
            "Epoch 38/49\n",
            "----------\n",
            "train Loss: 0.0790 Acc: 0.9720\n",
            "val Loss: 0.3484 Acc: 0.8946\n",
            "\n",
            "Epoch 39/49\n",
            "----------\n",
            "train Loss: 0.0722 Acc: 0.9738\n",
            "val Loss: 0.3385 Acc: 0.8971\n",
            "\n",
            "Epoch 40/49\n",
            "----------\n",
            "train Loss: 0.0679 Acc: 0.9768\n",
            "val Loss: 0.3390 Acc: 0.8971\n",
            "\n",
            "Epoch 41/49\n",
            "----------\n",
            "train Loss: 0.0672 Acc: 0.9763\n",
            "val Loss: 0.3386 Acc: 0.8979\n",
            "\n",
            "Epoch 42/49\n",
            "----------\n",
            "train Loss: 0.0673 Acc: 0.9758\n",
            "val Loss: 0.3398 Acc: 0.8929\n",
            "\n",
            "Epoch 43/49\n",
            "----------\n",
            "train Loss: 0.0684 Acc: 0.9770\n",
            "val Loss: 0.3424 Acc: 0.8962\n",
            "\n",
            "Epoch 44/49\n",
            "----------\n",
            "train Loss: 0.0674 Acc: 0.9743\n",
            "val Loss: 0.3404 Acc: 0.8912\n",
            "\n",
            "Epoch 45/49\n",
            "----------\n",
            "train Loss: 0.0646 Acc: 0.9771\n",
            "val Loss: 0.3409 Acc: 0.8962\n",
            "\n",
            "Epoch 46/49\n",
            "----------\n",
            "train Loss: 0.0677 Acc: 0.9764\n",
            "val Loss: 0.3429 Acc: 0.8971\n",
            "\n",
            "Epoch 47/49\n",
            "----------\n",
            "train Loss: 0.0648 Acc: 0.9780\n",
            "val Loss: 0.3430 Acc: 0.8962\n",
            "\n",
            "Epoch 48/49\n",
            "----------\n",
            "train Loss: 0.0669 Acc: 0.9776\n",
            "val Loss: 0.3355 Acc: 0.8904\n",
            "\n",
            "Epoch 49/49\n",
            "----------\n",
            "train Loss: 0.0634 Acc: 0.9776\n",
            "val Loss: 0.3405 Acc: 0.8921\n",
            "\n",
            "Training complete in 43m 6s\n",
            "Best val Acc: 0.897908\n"
          ],
          "name": "stdout"
        }
      ]
    },
    {
      "cell_type": "markdown",
      "metadata": {
        "id": "H4xZcA6uQzHU",
        "colab_type": "text"
      },
      "source": [
        "# Prediction on test "
      ]
    },
    {
      "cell_type": "code",
      "metadata": {
        "id": "nyHWPDrYRKCw",
        "colab_type": "code",
        "colab": {}
      },
      "source": [
        "label_decoding={0:'YOUNG',1:'MIDDLE',2:'OLD'}"
      ],
      "execution_count": 0,
      "outputs": []
    },
    {
      "cell_type": "code",
      "metadata": {
        "id": "_YxVhMHBLuqj",
        "colab_type": "code",
        "colab": {
          "base_uri": "https://localhost:8080/",
          "height": 34
        },
        "outputId": "898b7265-1d4a-465e-99e2-34251ccfc409"
      },
      "source": [
        "prediction = torch.tensor([],dtype=torch.int64)\n",
        "prediction = prediction.to(device)\n",
        "for inputs, labels in dataloader['test']:\n",
        "            inputs = inputs.to(device)\n",
        "            labels = labels.to(device)\n",
        "            \n",
        "            outputs = new_model(inputs)\n",
        "            _, preds = torch.max(outputs, 1)\n",
        "            #print(type(preds),preds.shape,preds.dtype,preds.device)\n",
        "            prediction = torch.cat((prediction,preds),0)\n",
        "            #print(prediction.shape,prediction.device)\n",
        "print(prediction.shape)"
      ],
      "execution_count": 106,
      "outputs": [
        {
          "output_type": "stream",
          "text": [
            "torch.Size([6636])\n"
          ],
          "name": "stdout"
        }
      ]
    },
    {
      "cell_type": "code",
      "metadata": {
        "id": "5BnulH5dXCfd",
        "colab_type": "code",
        "colab": {
          "base_uri": "https://localhost:8080/",
          "height": 34
        },
        "outputId": "3cc5ecb7-55a4-42e3-b4e2-05626d40f128"
      },
      "source": [
        "sub_csv = test_csv.copy()\n",
        "prediction = prediction.to('cpu')\n",
        "print(prediction.device)\n",
        "for i in range(len(prediction)):\n",
        "  sub_csv.Class[i] = label_decoding[int(prediction[i])]"
      ],
      "execution_count": 107,
      "outputs": [
        {
          "output_type": "stream",
          "text": [
            "cpu\n"
          ],
          "name": "stdout"
        }
      ]
    },
    {
      "cell_type": "code",
      "metadata": {
        "id": "_ETLJEb-b6EW",
        "colab_type": "code",
        "colab": {
          "base_uri": "https://localhost:8080/",
          "height": 195
        },
        "outputId": "fa3e5f17-6b7c-47d1-8bdd-9bfdbf6b636f"
      },
      "source": [
        "test_csv.head()"
      ],
      "execution_count": 108,
      "outputs": [
        {
          "output_type": "execute_result",
          "data": {
            "text/html": [
              "<div>\n",
              "<style scoped>\n",
              "    .dataframe tbody tr th:only-of-type {\n",
              "        vertical-align: middle;\n",
              "    }\n",
              "\n",
              "    .dataframe tbody tr th {\n",
              "        vertical-align: top;\n",
              "    }\n",
              "\n",
              "    .dataframe thead th {\n",
              "        text-align: right;\n",
              "    }\n",
              "</style>\n",
              "<table border=\"1\" class=\"dataframe\">\n",
              "  <thead>\n",
              "    <tr style=\"text-align: right;\">\n",
              "      <th></th>\n",
              "      <th>ID</th>\n",
              "      <th>Class</th>\n",
              "    </tr>\n",
              "  </thead>\n",
              "  <tbody>\n",
              "    <tr>\n",
              "      <th>0</th>\n",
              "      <td>25321.jpg</td>\n",
              "      <td>MIDDLE</td>\n",
              "    </tr>\n",
              "    <tr>\n",
              "      <th>1</th>\n",
              "      <td>989.jpg</td>\n",
              "      <td>MIDDLE</td>\n",
              "    </tr>\n",
              "    <tr>\n",
              "      <th>2</th>\n",
              "      <td>19277.jpg</td>\n",
              "      <td>MIDDLE</td>\n",
              "    </tr>\n",
              "    <tr>\n",
              "      <th>3</th>\n",
              "      <td>13093.jpg</td>\n",
              "      <td>MIDDLE</td>\n",
              "    </tr>\n",
              "    <tr>\n",
              "      <th>4</th>\n",
              "      <td>5367.jpg</td>\n",
              "      <td>MIDDLE</td>\n",
              "    </tr>\n",
              "  </tbody>\n",
              "</table>\n",
              "</div>"
            ],
            "text/plain": [
              "          ID   Class\n",
              "0  25321.jpg  MIDDLE\n",
              "1    989.jpg  MIDDLE\n",
              "2  19277.jpg  MIDDLE\n",
              "3  13093.jpg  MIDDLE\n",
              "4   5367.jpg  MIDDLE"
            ]
          },
          "metadata": {
            "tags": []
          },
          "execution_count": 108
        }
      ]
    },
    {
      "cell_type": "code",
      "metadata": {
        "id": "RJjY6JfGcEAU",
        "colab_type": "code",
        "colab": {
          "base_uri": "https://localhost:8080/",
          "height": 195
        },
        "outputId": "0b9500db-1dae-4a41-f095-a60fb11c8f94"
      },
      "source": [
        "sub_csv.head()"
      ],
      "execution_count": 109,
      "outputs": [
        {
          "output_type": "execute_result",
          "data": {
            "text/html": [
              "<div>\n",
              "<style scoped>\n",
              "    .dataframe tbody tr th:only-of-type {\n",
              "        vertical-align: middle;\n",
              "    }\n",
              "\n",
              "    .dataframe tbody tr th {\n",
              "        vertical-align: top;\n",
              "    }\n",
              "\n",
              "    .dataframe thead th {\n",
              "        text-align: right;\n",
              "    }\n",
              "</style>\n",
              "<table border=\"1\" class=\"dataframe\">\n",
              "  <thead>\n",
              "    <tr style=\"text-align: right;\">\n",
              "      <th></th>\n",
              "      <th>ID</th>\n",
              "      <th>Class</th>\n",
              "    </tr>\n",
              "  </thead>\n",
              "  <tbody>\n",
              "    <tr>\n",
              "      <th>0</th>\n",
              "      <td>25321.jpg</td>\n",
              "      <td>MIDDLE</td>\n",
              "    </tr>\n",
              "    <tr>\n",
              "      <th>1</th>\n",
              "      <td>989.jpg</td>\n",
              "      <td>YOUNG</td>\n",
              "    </tr>\n",
              "    <tr>\n",
              "      <th>2</th>\n",
              "      <td>19277.jpg</td>\n",
              "      <td>MIDDLE</td>\n",
              "    </tr>\n",
              "    <tr>\n",
              "      <th>3</th>\n",
              "      <td>13093.jpg</td>\n",
              "      <td>MIDDLE</td>\n",
              "    </tr>\n",
              "    <tr>\n",
              "      <th>4</th>\n",
              "      <td>5367.jpg</td>\n",
              "      <td>MIDDLE</td>\n",
              "    </tr>\n",
              "  </tbody>\n",
              "</table>\n",
              "</div>"
            ],
            "text/plain": [
              "          ID   Class\n",
              "0  25321.jpg  MIDDLE\n",
              "1    989.jpg   YOUNG\n",
              "2  19277.jpg  MIDDLE\n",
              "3  13093.jpg  MIDDLE\n",
              "4   5367.jpg  MIDDLE"
            ]
          },
          "metadata": {
            "tags": []
          },
          "execution_count": 109
        }
      ]
    },
    {
      "cell_type": "code",
      "metadata": {
        "id": "706505Aqdfa2",
        "colab_type": "code",
        "colab": {}
      },
      "source": [
        "sub_csv.to_csv('/content/sample_submission_sDO3m7O.csv',index=False)"
      ],
      "execution_count": 0,
      "outputs": []
    },
    {
      "cell_type": "code",
      "metadata": {
        "id": "kFZYqWjxxcH2",
        "colab_type": "code",
        "colab": {}
      },
      "source": [
        ""
      ],
      "execution_count": 0,
      "outputs": []
    }
  ]
}