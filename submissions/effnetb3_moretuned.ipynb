{
  "nbformat": 4,
  "nbformat_minor": 0,
  "metadata": {
    "colab": {
      "name": "effnetb3.ipynb",
      "provenance": [],
      "toc_visible": true
    },
    "kernelspec": {
      "name": "python3",
      "display_name": "Python 3"
    },
    "accelerator": "GPU"
  },
  "cells": [
    {
      "cell_type": "code",
      "metadata": {
        "id": "OcQjSUsi1bFI",
        "colab_type": "code",
        "colab": {}
      },
      "source": [
        "!unzip test_Bh8pGW3.zip\n",
        "!unzip train_DETg9GD.zip"
      ],
      "execution_count": 0,
      "outputs": []
    },
    {
      "cell_type": "code",
      "metadata": {
        "id": "q7WjL1QqDdQV",
        "colab_type": "code",
        "outputId": "24a3ad97-4a4b-4e83-a94c-cbb331d56e22",
        "colab": {
          "base_uri": "https://localhost:8080/",
          "height": 118
        }
      },
      "source": [
        "import numpy as np\n",
        "import pandas as pd\n",
        "from random import randint\n",
        "import os\n",
        "import torch\n",
        "import torch.nn as nn\n",
        "import torch.nn.functional as F\n",
        "import torchvision\n",
        "from torch.optim.optimizer import Optimizer\n",
        "from sklearn.model_selection import train_test_split\n",
        "from sklearn.utils import shuffle\n",
        "from torch.utils.data import DataLoader, Dataset\n",
        "from sklearn.metrics import accuracy_score\n",
        "from matplotlib.pyplot import imread\n",
        "from pylab import *\n",
        "from albumentations import (RGBShift,Blur,RandomContrast,HueSaturationValue,RandomGamma,Rotate,RandomBrightness,HorizontalFlip, Normalize, Resize, Compose, GaussNoise,Transpose,RandomBrightnessContrast,RandomCrop)\n",
        "from albumentations.pytorch import ToTensor\n",
        "import torch.optim as optim\n",
        "from torch.optim import lr_scheduler\n",
        "from torchvision import datasets, models, transforms\n",
        "import time\n",
        "import copy\n",
        "!pip install timm\n",
        "import timm\n",
        "import rangelars_lookahead_ralamb\n",
        "from rangelars_lookahead_ralamb import *\n",
        "import label_smooth_soft_target_CE\n",
        "from label_smooth_soft_target_CE import *"
      ],
      "execution_count": 1,
      "outputs": [
        {
          "output_type": "stream",
          "text": [
            "Requirement already satisfied: timm in /usr/local/lib/python3.6/dist-packages (0.1.26)\n",
            "Requirement already satisfied: torch>=1.0 in /usr/local/lib/python3.6/dist-packages (from timm) (1.5.0+cu101)\n",
            "Requirement already satisfied: torchvision in /usr/local/lib/python3.6/dist-packages (from timm) (0.6.0+cu101)\n",
            "Requirement already satisfied: future in /usr/local/lib/python3.6/dist-packages (from torch>=1.0->timm) (0.16.0)\n",
            "Requirement already satisfied: numpy in /usr/local/lib/python3.6/dist-packages (from torch>=1.0->timm) (1.18.4)\n",
            "Requirement already satisfied: pillow>=4.1.1 in /usr/local/lib/python3.6/dist-packages (from torchvision->timm) (7.0.0)\n"
          ],
          "name": "stdout"
        }
      ]
    },
    {
      "cell_type": "code",
      "metadata": {
        "id": "74taFO98wHYT",
        "colab_type": "code",
        "colab": {}
      },
      "source": [
        "train_csv = pd.read_csv('/content/train.csv')\n",
        "train_csv,val_csv = train_test_split(train_csv,test_size=0.06,random_state=8)\n",
        "test_csv = pd.read_csv('/content/test.csv')\n",
        "test_csv['Class']=\"\"\n",
        "test_csv.Class='MIDDLE'"
      ],
      "execution_count": 0,
      "outputs": []
    },
    {
      "cell_type": "code",
      "metadata": {
        "id": "hF72YOEyw9fl",
        "colab_type": "code",
        "outputId": "10bd0d96-cb62-47f5-f41a-15b1376336ba",
        "colab": {
          "base_uri": "https://localhost:8080/",
          "height": 101
        }
      },
      "source": [
        "print('train image count--',len(train_csv),'\\t test image count--',len(test_csv),'\\t val image count--',len(val_csv))\n",
        "train_csv.Class.value_counts(normalize=True)"
      ],
      "execution_count": 3,
      "outputs": [
        {
          "output_type": "stream",
          "text": [
            "train image count-- 18711 \t test image count-- 6636 \t val image count-- 1195\n"
          ],
          "name": "stdout"
        },
        {
          "output_type": "execute_result",
          "data": {
            "text/plain": [
              "MIDDLE    0.543103\n",
              "YOUNG     0.336112\n",
              "OLD       0.120785\n",
              "Name: Class, dtype: float64"
            ]
          },
          "metadata": {
            "tags": []
          },
          "execution_count": 3
        }
      ]
    },
    {
      "cell_type": "code",
      "metadata": {
        "id": "2qgEu1O3RUsE",
        "colab_type": "code",
        "colab": {}
      },
      "source": [
        "label_assign={'YOUNG':0,'MIDDLE':1,'OLD':2}"
      ],
      "execution_count": 0,
      "outputs": []
    },
    {
      "cell_type": "markdown",
      "metadata": {
        "id": "IK8jAK5CFUJp",
        "colab_type": "text"
      },
      "source": [
        "# knowing image shapes"
      ]
    },
    {
      "cell_type": "code",
      "metadata": {
        "id": "WfybElFLxQCt",
        "colab_type": "code",
        "colab": {}
      },
      "source": [
        "l=[]\n",
        "for i in range(len(train_csv)):\n",
        "  img_path = '/content/Train/' + str(train_csv.ID[i])\n",
        "  img = imread(img_path,format='jpg')\n",
        "  l.append(img.shape)\n",
        "l=np.array(l)"
      ],
      "execution_count": 0,
      "outputs": []
    },
    {
      "cell_type": "code",
      "metadata": {
        "id": "HSIurJn7Ef0C",
        "colab_type": "code",
        "colab": {}
      },
      "source": [
        "print(min(l[:,0]),min(l[:,1]))\n",
        "print(max(l[:,0]),max(l[:,1]))\n",
        "print(mean(l[:,0]),mean(l[:,1]))"
      ],
      "execution_count": 0,
      "outputs": []
    },
    {
      "cell_type": "markdown",
      "metadata": {
        "id": "y9tmNFakFps2",
        "colab_type": "text"
      },
      "source": [
        "# Building datasets and dataloaders before training"
      ]
    },
    {
      "cell_type": "code",
      "metadata": {
        "id": "LtqC04lP-Fvi",
        "colab_type": "code",
        "colab": {}
      },
      "source": [
        "class dataset(Dataset):\n",
        "  def __init__(self, csv_file, dir_path, phase):\n",
        "    self.csv_file = csv_file\n",
        "    self.dir_path = dir_path\n",
        "    self.phase = phase\n",
        "    self.transform = get_transforms(self.phase)\n",
        "\n",
        "  def __len__(self):\n",
        "    return len(self.csv_file)\n",
        "\n",
        "  def __getitem__(self,idx):\n",
        "    img_path = os.path.join(self.dir_path, self.csv_file.iloc[idx, 0])\n",
        "    image = imread(img_path)\n",
        "    label = label_assign[self.csv_file.iloc[idx, 1]]\n",
        "    aug_img = self.transform(image=image)\n",
        "    image = aug_img[\"image\"]\n",
        "    return image,label\n",
        "\n",
        "def get_transforms(phase):\n",
        "  t_list=[]\n",
        "  if phase=='train':\n",
        "    t_list.extend([RandomBrightness(limit=0.8, p=0.5),\n",
        "                   Rotate(limit=25, p=0.5),\n",
        "                   RGBShift(r_shift_limit=50, g_shift_limit=30, b_shift_limit=40, p=0.5),\n",
        "                   RandomGamma(gamma_limit=(80,165), p=0.5),\n",
        "                   HorizontalFlip(p=0.5),\n",
        "                   HueSaturationValue(hue_shift_limit=10, sat_shift_limit=30, val_shift_limit=30, p=0.5),\n",
        "                   RandomContrast(limit=0.5, p=0.5),\n",
        "                   RandomBrightnessContrast(brightness_limit=0.2, contrast_limit=0.2, p=0.5)\n",
        "                   ])\n",
        "  t_list.extend([Resize(125, 100, interpolation=1, p=1),    ## 16x16, 64x64 , 128x100\n",
        "                 Normalize(mean=(0.485, 0.456, 0.406), std=(0.229, 0.224, 0.225), max_pixel_value=255.0, p=1.0),\n",
        "                 ToTensor()])\n",
        "  return  Compose(t_list)"
      ],
      "execution_count": 0,
      "outputs": []
    },
    {
      "cell_type": "code",
      "metadata": {
        "id": "FcnzelbqB_2V",
        "colab_type": "code",
        "outputId": "76d185d2-4ab5-486a-ba72-820c43ac7dd9",
        "colab": {
          "base_uri": "https://localhost:8080/",
          "height": 34
        }
      },
      "source": [
        "### creating train and test datasets\n",
        "train_dataset = dataset(train_csv,'/content/Train/','train')\n",
        "test_dataset = dataset(test_csv,'/content/Test/','test')\n",
        "val_dataset = dataset(val_csv,'/content/Train/','val')\n",
        "dataset_sizes={'train':len(train_dataset),'val':len(val_dataset),'test':len(test_dataset)}\n",
        "print(dataset_sizes)"
      ],
      "execution_count": 6,
      "outputs": [
        {
          "output_type": "stream",
          "text": [
            "{'train': 18711, 'val': 1195, 'test': 6636}\n"
          ],
          "name": "stdout"
        }
      ]
    },
    {
      "cell_type": "code",
      "metadata": {
        "id": "DUVSGOI7aNSe",
        "colab_type": "code",
        "outputId": "3a9de015-9681-4fd9-c553-45cf45f6b683",
        "colab": {
          "base_uri": "https://localhost:8080/",
          "height": 403
        }
      },
      "source": [
        "### visualising datasets\n",
        "a=randint(0,1700)\n",
        "print(\"VISUALISING TRAIN DATASET\")\n",
        "for i in range(a,a+10):\n",
        "  image, label = train_dataset[i]\n",
        "  print(i,'\\t', image.shape,'\\t', label)\n",
        "print(\"\\nVISUALISING TEST DATASET\")\n",
        "b=randint(0,6625)\n",
        "for i in range(b,b+10):\n",
        "  image, label = test_dataset[i]\n",
        "  print(i,'\\t', image.shape,'\\t', label)"
      ],
      "execution_count": 7,
      "outputs": [
        {
          "output_type": "stream",
          "text": [
            "VISUALISING TRAIN DATASET\n",
            "1016 \t torch.Size([3, 125, 100]) \t 2\n",
            "1017 \t torch.Size([3, 125, 100]) \t 1\n",
            "1018 \t torch.Size([3, 125, 100]) \t 0\n",
            "1019 \t torch.Size([3, 125, 100]) \t 1\n",
            "1020 \t torch.Size([3, 125, 100]) \t 2\n",
            "1021 \t torch.Size([3, 125, 100]) \t 0\n",
            "1022 \t torch.Size([3, 125, 100]) \t 1\n",
            "1023 \t torch.Size([3, 125, 100]) \t 0\n",
            "1024 \t torch.Size([3, 125, 100]) \t 1\n",
            "1025 \t torch.Size([3, 125, 100]) \t 1\n",
            "\n",
            "VISUALISING TEST DATASET\n",
            "6469 \t torch.Size([3, 125, 100]) \t 1\n",
            "6470 \t torch.Size([3, 125, 100]) \t 1\n",
            "6471 \t torch.Size([3, 125, 100]) \t 1\n",
            "6472 \t torch.Size([3, 125, 100]) \t 1\n",
            "6473 \t torch.Size([3, 125, 100]) \t 1\n",
            "6474 \t torch.Size([3, 125, 100]) \t 1\n",
            "6475 \t torch.Size([3, 125, 100]) \t 1\n",
            "6476 \t torch.Size([3, 125, 100]) \t 1\n",
            "6477 \t torch.Size([3, 125, 100]) \t 1\n",
            "6478 \t torch.Size([3, 125, 100]) \t 1\n"
          ],
          "name": "stdout"
        }
      ]
    },
    {
      "cell_type": "code",
      "metadata": {
        "id": "Xxb-q1OsUBML",
        "colab_type": "code",
        "colab": {}
      },
      "source": [
        "dataloader={}\n",
        "dataloader['train'] = DataLoader(train_dataset, batch_size=128, shuffle=True, num_workers=1)\n",
        "dataloader['test'] = DataLoader(test_dataset, batch_size=32, shuffle=False, num_workers=1)\n",
        "dataloader['val'] = DataLoader(val_dataset, batch_size=128, shuffle=True, num_workers=1)"
      ],
      "execution_count": 0,
      "outputs": []
    },
    {
      "cell_type": "code",
      "metadata": {
        "id": "2djqGSTGbG5d",
        "colab_type": "code",
        "outputId": "e749c7de-6dbf-42a6-d73d-4afd80e3db60",
        "colab": {
          "base_uri": "https://localhost:8080/",
          "height": 386
        }
      },
      "source": [
        "### visualing batches\n",
        "def show_batch(sample_batch):\n",
        "  img_batch,label_batch = sample_batch\n",
        "  print('batch size--',len(img_batch))\n",
        "  print('img size--',img_batch.size(2))\n",
        "  grid_border_size = 2\n",
        "  grid = torchvision.utils.make_grid(img_batch)\n",
        "  plt.imshow(grid.numpy().transpose((1, 2, 0)))\n",
        "\n",
        "for i, sample_batch in enumerate(dataloader['train']):\n",
        "  img, label = sample_batch\n",
        "  print(i, img.size(), label.shape)\n",
        "  if i==3:\n",
        "    show_batch(sample_batch)\n",
        "    break"
      ],
      "execution_count": 9,
      "outputs": [
        {
          "output_type": "stream",
          "text": [
            "0 torch.Size([128, 3, 125, 100]) torch.Size([128])\n",
            "1 torch.Size([128, 3, 125, 100]) torch.Size([128])\n",
            "2 torch.Size([128, 3, 125, 100]) torch.Size([128])\n"
          ],
          "name": "stdout"
        },
        {
          "output_type": "stream",
          "text": [
            "Clipping input data to the valid range for imshow with RGB data ([0..1] for floats or [0..255] for integers).\n"
          ],
          "name": "stderr"
        },
        {
          "output_type": "stream",
          "text": [
            "3 torch.Size([128, 3, 125, 100]) torch.Size([128])\n",
            "batch size-- 128\n",
            "img size-- 125\n"
          ],
          "name": "stdout"
        },
        {
          "output_type": "display_data",
          "data": {
            "image/png": "[encoded data removed]",
            "text/plain": [
              "<Figure size 432x288 with 1 Axes>"
            ]
          },
          "metadata": {
            "tags": [],
            "needs_background": "light"
          }
        }
      ]
    },
    {
      "cell_type": "markdown",
      "metadata": {
        "id": "qfADvrlVQKNm",
        "colab_type": "text"
      },
      "source": [
        "# Trainer"
      ]
    },
    {
      "cell_type": "code",
      "metadata": {
        "id": "oZlxMge2rJRc",
        "colab_type": "code",
        "colab": {}
      },
      "source": [
        "def train_model(model, criterion, optimizer, scheduler, num_epochs=25):\n",
        "    since = time.time()\n",
        "    latest_model_wts = copy.deepcopy(model.state_dict())\n",
        "    best_model_wts = copy.deepcopy(model.state_dict())\n",
        "    best_acc = 0.0\n",
        "\n",
        "    for epoch in range(num_epochs):\n",
        "        print('Epoch {}/{}'.format(epoch, num_epochs - 1))\n",
        "        print('-' * 10)\n",
        "        #print(optimizer.lr())\n",
        "\n",
        "        # Each epoch has a training and validation phase\n",
        "        for phase in ['train', 'val']:\n",
        "            if phase == 'train':\n",
        "                model.train()  # Set model to training mode\n",
        "            else:\n",
        "                model.eval()   # Set model to evaluate mode\n",
        "\n",
        "            running_loss = 0.0\n",
        "            running_corrects = 0\n",
        "\n",
        "            # Iterate over data.\n",
        "            for img_batch, labels in dataloader[phase]:\n",
        "                img_batch = img_batch.to(device)\n",
        "                labels = labels.to(device)\n",
        "\n",
        "                # zero the parameter gradients\n",
        "                optimizer.zero_grad()\n",
        "\n",
        "                # forward\n",
        "                # track history if only in train\n",
        "                with torch.set_grad_enabled(phase == 'train'):\n",
        "                    outputs = model(img_batch)\n",
        "                    _, preds = torch.max(outputs, 1)\n",
        "                    loss = criterion(outputs, labels)\n",
        "\n",
        "                    # backward + optimize only if in training phase\n",
        "                    if phase == 'train':\n",
        "                        loss.backward()\n",
        "                        optimizer.step()\n",
        "\n",
        "                # statistics\n",
        "                running_loss += loss.item() * img_batch.size(0)\n",
        "                running_corrects += torch.sum(preds == labels.data)\n",
        "            if phase == 'train':\n",
        "                #scheduler.step()\n",
        "                pass\n",
        "\n",
        "            epoch_loss = running_loss / dataset_sizes[phase]\n",
        "            epoch_acc = running_corrects.double() / dataset_sizes[phase]\n",
        "\n",
        "            print('{} Loss: {:.4f} Acc: {:.4f}'.format(\n",
        "                phase, epoch_loss, epoch_acc))\n",
        "\n",
        "            # deep copy the model\n",
        "            latest_model_wts = copy.deepcopy(model.state_dict())\n",
        "            if phase == 'val' and epoch_acc > best_acc:\n",
        "                best_acc = epoch_acc\n",
        "                best_model_wts = copy.deepcopy(model.state_dict())\n",
        "\n",
        "        print()\n",
        "\n",
        "    time_elapsed = time.time() - since\n",
        "    print('Training complete in {:.0f}m {:.0f}s'.format(\n",
        "        time_elapsed // 60, time_elapsed % 60))\n",
        "    print('Best val Acc: {:4f}'.format(best_acc))\n",
        "    # load best model weights\n",
        "    model.load_state_dict(best_model_wts)\n",
        "    return model"
      ],
      "execution_count": 0,
      "outputs": []
    },
    {
      "cell_type": "markdown",
      "metadata": {
        "id": "33zCbo8VQXad",
        "colab_type": "text"
      },
      "source": [
        "# Training model with freeze"
      ]
    },
    {
      "cell_type": "code",
      "metadata": {
        "id": "Jc1EPN-Y2nu6",
        "colab_type": "code",
        "outputId": "6cc7f112-02e9-4dd9-db22-8cbee664a418",
        "colab": {
          "base_uri": "https://localhost:8080/",
          "height": 1000
        }
      },
      "source": [
        "# lr_list = np.random.rand(20)\n",
        "# lr_list = 10**(-5*lr_list)\n",
        "# for lr in lr_list:\n",
        "#   print('***********\\tLR =',lr,'\\t************')\n",
        "model = timm.models.efficientnet_b3(pretrained=True,num_classes=3)\n",
        "#model = best_model\n",
        "\n",
        "device = torch.device(\"cuda\")\n",
        "model = model.to(device)\n",
        "\n",
        "criterion = nn.CrossEntropyLoss()\n",
        "#optimizer = optim.SGD(model.parameters(), lr=0.004, momentum=0.9, nesterov=True)\n",
        "optimizer = Ranger(model.parameters(), lr= 0.01)#0.01\n",
        "# Decay LR by a factor of 0.1 every 7 epochs\n",
        "exp_lr_scheduler = lr_scheduler.ReduceLROnPlateau(optimizer,factor=0.1,mode='max',patience=5,threshold=0.0005)\n",
        "\n",
        "\n",
        "best_model = train_model(model, criterion, optimizer, exp_lr_scheduler, num_epochs=40)"
      ],
      "execution_count": 0,
      "outputs": [
        {
          "output_type": "stream",
          "text": [
            "Downloading: \"https://github.com/rwightman/pytorch-image-models/releases/download/v0.1-weights/efficientnet_b3_ra-a5e2fbc7.pth\" to /root/.cache/torch/checkpoints/efficientnet_b3_ra-a5e2fbc7.pth\n"
          ],
          "name": "stderr"
        },
        {
          "output_type": "stream",
          "text": [
            "Epoch 0/39\n",
            "----------\n"
          ],
          "name": "stdout"
        },
        {
          "output_type": "stream",
          "text": [
            "/pytorch/torch/csrc/utils/python_arg_parser.cpp:756: UserWarning: This overload of addcmul_ is deprecated:\n",
            "\taddcmul_(Number value, Tensor tensor1, Tensor tensor2)\n",
            "Consider using one of the following signatures instead:\n",
            "\taddcmul_(Tensor tensor1, Tensor tensor2, *, Number value)\n"
          ],
          "name": "stderr"
        },
        {
          "output_type": "stream",
          "text": [
            "train Loss: 1.3105 Acc: 0.6139\n",
            "val Loss: 0.5893 Acc: 0.7548\n",
            "\n",
            "Epoch 1/39\n",
            "----------\n",
            "train Loss: 0.5811 Acc: 0.7583\n",
            "val Loss: 0.4335 Acc: 0.8259\n",
            "\n",
            "Epoch 2/39\n",
            "----------\n",
            "train Loss: 0.4473 Acc: 0.8179\n",
            "val Loss: 0.3915 Acc: 0.8469\n",
            "\n",
            "Epoch 3/39\n",
            "----------\n",
            "train Loss: 0.3644 Acc: 0.8574\n",
            "val Loss: 0.3044 Acc: 0.8862\n",
            "\n",
            "Epoch 4/39\n",
            "----------\n",
            "train Loss: 0.3036 Acc: 0.8827\n",
            "val Loss: 0.3511 Acc: 0.8644\n",
            "\n",
            "Epoch 5/39\n",
            "----------\n",
            "train Loss: 0.2796 Acc: 0.8918\n",
            "val Loss: 0.3041 Acc: 0.8787\n",
            "\n",
            "Epoch 6/39\n",
            "----------\n",
            "train Loss: 0.2765 Acc: 0.8944\n",
            "val Loss: 0.3755 Acc: 0.8669\n",
            "\n",
            "Epoch 7/39\n",
            "----------\n",
            "train Loss: 0.2457 Acc: 0.9058\n",
            "val Loss: 0.3174 Acc: 0.8736\n",
            "\n",
            "Epoch 8/39\n",
            "----------\n",
            "train Loss: 0.2597 Acc: 0.9031\n",
            "val Loss: 0.3356 Acc: 0.8820\n",
            "\n",
            "Epoch 9/39\n",
            "----------\n",
            "train Loss: 0.2276 Acc: 0.9142\n",
            "val Loss: 0.2982 Acc: 0.8879\n",
            "\n",
            "Epoch 10/39\n",
            "----------\n",
            "train Loss: 0.2195 Acc: 0.9171\n",
            "val Loss: 0.5109 Acc: 0.8393\n",
            "\n",
            "Epoch 11/39\n",
            "----------\n",
            "train Loss: 0.2183 Acc: 0.9180\n",
            "val Loss: 0.2787 Acc: 0.8971\n",
            "\n",
            "Epoch 12/39\n",
            "----------\n",
            "train Loss: 0.2178 Acc: 0.9181\n",
            "val Loss: 0.3496 Acc: 0.8870\n",
            "\n",
            "Epoch 13/39\n",
            "----------\n",
            "train Loss: 0.3260 Acc: 0.8783\n",
            "val Loss: 0.8530 Acc: 0.6544\n",
            "\n",
            "Epoch 14/39\n",
            "----------\n",
            "train Loss: 0.6996 Acc: 0.7111\n",
            "val Loss: 0.5413 Acc: 0.7791\n",
            "\n",
            "Epoch 15/39\n",
            "----------\n",
            "train Loss: 0.4641 Acc: 0.8160\n",
            "val Loss: 0.3701 Acc: 0.8485\n",
            "\n",
            "Epoch 16/39\n",
            "----------\n",
            "train Loss: 0.3597 Acc: 0.8629\n",
            "val Loss: 0.4375 Acc: 0.8385\n",
            "\n",
            "Epoch 17/39\n",
            "----------\n",
            "train Loss: 0.3108 Acc: 0.8797\n",
            "val Loss: 0.3294 Acc: 0.8703\n",
            "\n",
            "Epoch 18/39\n",
            "----------\n",
            "train Loss: 0.2813 Acc: 0.8932\n",
            "val Loss: 0.3669 Acc: 0.8669\n",
            "\n",
            "Epoch 19/39\n",
            "----------\n",
            "train Loss: 0.2668 Acc: 0.8990\n",
            "val Loss: 0.3498 Acc: 0.8837\n",
            "\n",
            "Epoch 20/39\n",
            "----------\n",
            "train Loss: 0.2568 Acc: 0.9022\n",
            "val Loss: 0.3468 Acc: 0.8862\n",
            "\n",
            "Epoch 21/39\n",
            "----------\n",
            "train Loss: 0.2286 Acc: 0.9142\n",
            "val Loss: 0.2820 Acc: 0.8921\n",
            "\n",
            "Epoch 22/39\n",
            "----------\n",
            "train Loss: 0.2354 Acc: 0.9128\n",
            "val Loss: 0.3804 Acc: 0.8703\n",
            "\n",
            "Epoch 23/39\n",
            "----------\n",
            "train Loss: 0.2108 Acc: 0.9190\n",
            "val Loss: 0.3023 Acc: 0.8870\n",
            "\n",
            "Epoch 24/39\n",
            "----------\n",
            "train Loss: 0.2179 Acc: 0.9179\n",
            "val Loss: 0.3795 Acc: 0.8753\n",
            "\n",
            "Epoch 25/39\n",
            "----------\n",
            "train Loss: 0.1951 Acc: 0.9292\n",
            "val Loss: 0.2910 Acc: 0.8937\n",
            "\n",
            "Epoch 26/39\n",
            "----------\n",
            "train Loss: 0.2029 Acc: 0.9248\n",
            "val Loss: 0.4607 Acc: 0.8326\n",
            "\n",
            "Epoch 27/39\n",
            "----------\n",
            "train Loss: 0.1990 Acc: 0.9265\n",
            "val Loss: 0.3169 Acc: 0.8895\n",
            "\n",
            "Epoch 28/39\n",
            "----------\n",
            "train Loss: 0.1937 Acc: 0.9283\n",
            "val Loss: 0.3767 Acc: 0.8854\n",
            "\n",
            "Epoch 29/39\n",
            "----------\n",
            "train Loss: 0.1868 Acc: 0.9307\n",
            "val Loss: 0.3458 Acc: 0.8787\n",
            "\n",
            "Epoch 30/39\n",
            "----------\n",
            "train Loss: 0.1863 Acc: 0.9297\n",
            "val Loss: 0.6232 Acc: 0.8201\n",
            "\n",
            "Epoch 31/39\n",
            "----------\n",
            "train Loss: 0.2647 Acc: 0.9033\n",
            "val Loss: 0.2810 Acc: 0.9113\n",
            "\n",
            "Epoch 32/39\n",
            "----------\n",
            "train Loss: 0.1928 Acc: 0.9292\n",
            "val Loss: 0.3439 Acc: 0.8770\n",
            "\n",
            "Epoch 33/39\n",
            "----------\n",
            "train Loss: 0.1768 Acc: 0.9361\n",
            "val Loss: 0.2677 Acc: 0.9113\n",
            "\n",
            "Epoch 34/39\n",
            "----------\n",
            "train Loss: 0.1847 Acc: 0.9311\n",
            "val Loss: 0.4993 Acc: 0.8251\n",
            "\n",
            "Epoch 35/39\n",
            "----------\n",
            "train Loss: 0.1844 Acc: 0.9298\n",
            "val Loss: 0.3138 Acc: 0.9046\n",
            "\n",
            "Epoch 36/39\n",
            "----------\n",
            "train Loss: 0.1724 Acc: 0.9364\n",
            "val Loss: 0.3939 Acc: 0.8778\n",
            "\n",
            "Epoch 37/39\n",
            "----------\n",
            "train Loss: 0.1728 Acc: 0.9358\n",
            "val Loss: 0.3521 Acc: 0.9004\n",
            "\n",
            "Epoch 38/39\n",
            "----------\n",
            "train Loss: 0.1673 Acc: 0.9388\n",
            "val Loss: 0.3261 Acc: 0.8837\n",
            "\n",
            "Epoch 39/39\n",
            "----------\n",
            "train Loss: 0.1464 Acc: 0.9473\n",
            "val Loss: 0.2877 Acc: 0.8921\n",
            "\n",
            "Training complete in 106m 22s\n",
            "Best val Acc: 0.911297\n"
          ],
          "name": "stdout"
        }
      ]
    },
    {
      "cell_type": "markdown",
      "metadata": {
        "id": "c8u-GimZQh9g",
        "colab_type": "text"
      },
      "source": [
        "# Unfreeze and training (fine tuning)"
      ]
    },
    {
      "cell_type": "code",
      "metadata": {
        "id": "uAZ-IxsPfmRB",
        "colab_type": "code",
        "colab": {}
      },
      "source": [
        "best_model = timm.models.efficientnet_b3()\n",
        "best_model = torch.load('/content/effb3_whole')"
      ],
      "execution_count": 0,
      "outputs": []
    },
    {
      "cell_type": "code",
      "metadata": {
        "id": "cRB599HdVivN",
        "colab_type": "code",
        "colab": {}
      },
      "source": [
        "model = best_model\n",
        "# for param in model.parameters():\n",
        "#     param.requires_grad = True\n",
        "\n",
        "device = torch.device(\"cuda\")\n",
        "model = model.to(device)\n",
        "\n",
        "criterion = nn.CrossEntropyLoss()\n",
        "#optimizer = optim.SGD(model.parameters(), lr=0.01, momentum=0.9, nesterov=True)\n",
        "optimizer = Over9000(model.parameters(), lr= 0.001)\n",
        "# Decay LR by a factor of 0.1 every 7 epochs\n",
        "exp_lr_scheduler = lr_scheduler.ReduceLROnPlateau(optimizer,factor=0.3,patience=5,threshold=0.0005)"
      ],
      "execution_count": 0,
      "outputs": []
    },
    {
      "cell_type": "code",
      "metadata": {
        "id": "eyYNAnvJpZs5",
        "colab_type": "code",
        "outputId": "aeda549a-7245-44ab-e4c0-88c2082c81fa",
        "colab": {
          "base_uri": "https://localhost:8080/",
          "height": 1000
        }
      },
      "source": [
        "new_model = train_model(model, criterion, optimizer, exp_lr_scheduler, num_epochs=15)"
      ],
      "execution_count": 0,
      "outputs": [
        {
          "output_type": "stream",
          "text": [
            "Epoch 0/14\n",
            "----------\n"
          ],
          "name": "stdout"
        },
        {
          "output_type": "stream",
          "text": [
            "/pytorch/torch/csrc/utils/python_arg_parser.cpp:756: UserWarning: This overload of add_ is deprecated:\n",
            "\tadd_(Number alpha, Tensor other)\n",
            "Consider using one of the following signatures instead:\n",
            "\tadd_(Tensor other, *, Number alpha)\n"
          ],
          "name": "stderr"
        },
        {
          "output_type": "stream",
          "text": [
            "train Loss: 0.1221 Acc: 0.9553\n",
            "val Loss: 0.2538 Acc: 0.9172\n",
            "\n",
            "Epoch 1/14\n",
            "----------\n",
            "train Loss: 0.1018 Acc: 0.9636\n",
            "val Loss: 0.2495 Acc: 0.9205\n",
            "\n",
            "Epoch 2/14\n",
            "----------\n",
            "train Loss: 0.0922 Acc: 0.9665\n",
            "val Loss: 0.2446 Acc: 0.9230\n",
            "\n",
            "Epoch 3/14\n",
            "----------\n",
            "train Loss: 0.0763 Acc: 0.9727\n",
            "val Loss: 0.2443 Acc: 0.9222\n",
            "\n",
            "Epoch 4/14\n",
            "----------\n",
            "train Loss: 0.0727 Acc: 0.9745\n",
            "val Loss: 0.2552 Acc: 0.9238\n",
            "\n",
            "Epoch 5/14\n",
            "----------\n",
            "train Loss: 0.0585 Acc: 0.9788\n",
            "val Loss: 0.2700 Acc: 0.9230\n",
            "\n",
            "Epoch 6/14\n",
            "----------\n",
            "train Loss: 0.0529 Acc: 0.9819\n",
            "val Loss: 0.2574 Acc: 0.9272\n",
            "\n",
            "Epoch 7/14\n",
            "----------\n",
            "train Loss: 0.0516 Acc: 0.9824\n",
            "val Loss: 0.2715 Acc: 0.9289\n",
            "\n",
            "Epoch 8/14\n",
            "----------\n",
            "train Loss: 0.0473 Acc: 0.9823\n",
            "val Loss: 0.3044 Acc: 0.9289\n",
            "\n",
            "Epoch 9/14\n",
            "----------\n",
            "train Loss: 0.0438 Acc: 0.9839\n",
            "val Loss: 0.2872 Acc: 0.9289\n",
            "\n",
            "Epoch 10/14\n",
            "----------\n",
            "train Loss: 0.0409 Acc: 0.9860\n",
            "val Loss: 0.2934 Acc: 0.9280\n",
            "\n",
            "Epoch 11/14\n",
            "----------\n",
            "train Loss: 0.0333 Acc: 0.9878\n",
            "val Loss: 0.3062 Acc: 0.9264\n",
            "\n",
            "Epoch 12/14\n",
            "----------\n",
            "train Loss: 0.0382 Acc: 0.9870\n",
            "val Loss: 0.2931 Acc: 0.9289\n",
            "\n",
            "Epoch 13/14\n",
            "----------\n",
            "train Loss: 0.0378 Acc: 0.9877\n",
            "val Loss: 0.2859 Acc: 0.9289\n",
            "\n",
            "Epoch 14/14\n",
            "----------\n",
            "train Loss: 0.0326 Acc: 0.9881\n",
            "val Loss: 0.2931 Acc: 0.9255\n",
            "\n",
            "Training complete in 47m 2s\n",
            "Best val Acc: 0.928870\n"
          ],
          "name": "stdout"
        }
      ]
    },
    {
      "cell_type": "markdown",
      "metadata": {
        "id": "H4xZcA6uQzHU",
        "colab_type": "text"
      },
      "source": [
        "# Prediction on test "
      ]
    },
    {
      "cell_type": "code",
      "metadata": {
        "id": "nyHWPDrYRKCw",
        "colab_type": "code",
        "colab": {}
      },
      "source": [
        "label_decoding={0:'YOUNG',1:'MIDDLE',2:'OLD'}"
      ],
      "execution_count": 0,
      "outputs": []
    },
    {
      "cell_type": "code",
      "metadata": {
        "id": "_YxVhMHBLuqj",
        "colab_type": "code",
        "outputId": "ec423288-9c96-459f-e26a-e22a6cba0c57",
        "colab": {
          "base_uri": "https://localhost:8080/",
          "height": 34
        }
      },
      "source": [
        "prediction = torch.tensor([],dtype=torch.int64)\n",
        "prediction = prediction.to(device)\n",
        "for inputs, labels in dataloader['test']:\n",
        "            inputs = inputs.to(device)\n",
        "            labels = labels.to(device)\n",
        "            newest2_model.to(device)\n",
        "            \n",
        "            outputs = newest2_model(inputs)\n",
        "            _, preds = torch.max(outputs, 1)\n",
        "            #print(type(preds),preds.shape,preds.dtype,preds.device)\n",
        "            prediction = torch.cat((prediction,preds),0)\n",
        "            #print(prediction.shape,prediction.device)\n",
        "print(prediction.shape)"
      ],
      "execution_count": 36,
      "outputs": [
        {
          "output_type": "stream",
          "text": [
            "torch.Size([6636])\n"
          ],
          "name": "stdout"
        }
      ]
    },
    {
      "cell_type": "code",
      "metadata": {
        "id": "5BnulH5dXCfd",
        "colab_type": "code",
        "outputId": "08ec0012-dd17-4de6-d690-726490466c99",
        "colab": {
          "base_uri": "https://localhost:8080/",
          "height": 34
        }
      },
      "source": [
        "sub_csv = test_csv.copy()\n",
        "prediction = prediction.to('cpu')\n",
        "print(prediction.device)\n",
        "for i in range(len(prediction)):\n",
        "  sub_csv.Class[i] = label_decoding[int(prediction[i])]"
      ],
      "execution_count": 37,
      "outputs": [
        {
          "output_type": "stream",
          "text": [
            "cpu\n"
          ],
          "name": "stdout"
        }
      ]
    },
    {
      "cell_type": "code",
      "metadata": {
        "id": "_ETLJEb-b6EW",
        "colab_type": "code",
        "outputId": "0ddacc25-afed-4d00-b8dd-6b55f5ff47c9",
        "colab": {
          "base_uri": "https://localhost:8080/",
          "height": 195
        }
      },
      "source": [
        "test_csv.head()"
      ],
      "execution_count": 38,
      "outputs": [
        {
          "output_type": "execute_result",
          "data": {
            "text/html": [
              "<div>\n",
              "<style scoped>\n",
              "    .dataframe tbody tr th:only-of-type {\n",
              "        vertical-align: middle;\n",
              "    }\n",
              "\n",
              "    .dataframe tbody tr th {\n",
              "        vertical-align: top;\n",
              "    }\n",
              "\n",
              "    .dataframe thead th {\n",
              "        text-align: right;\n",
              "    }\n",
              "</style>\n",
              "<table border=\"1\" class=\"dataframe\">\n",
              "  <thead>\n",
              "    <tr style=\"text-align: right;\">\n",
              "      <th></th>\n",
              "      <th>ID</th>\n",
              "      <th>Class</th>\n",
              "    </tr>\n",
              "  </thead>\n",
              "  <tbody>\n",
              "    <tr>\n",
              "      <th>0</th>\n",
              "      <td>25321.jpg</td>\n",
              "      <td>MIDDLE</td>\n",
              "    </tr>\n",
              "    <tr>\n",
              "      <th>1</th>\n",
              "      <td>989.jpg</td>\n",
              "      <td>MIDDLE</td>\n",
              "    </tr>\n",
              "    <tr>\n",
              "      <th>2</th>\n",
              "      <td>19277.jpg</td>\n",
              "      <td>MIDDLE</td>\n",
              "    </tr>\n",
              "    <tr>\n",
              "      <th>3</th>\n",
              "      <td>13093.jpg</td>\n",
              "      <td>MIDDLE</td>\n",
              "    </tr>\n",
              "    <tr>\n",
              "      <th>4</th>\n",
              "      <td>5367.jpg</td>\n",
              "      <td>MIDDLE</td>\n",
              "    </tr>\n",
              "  </tbody>\n",
              "</table>\n",
              "</div>"
            ],
            "text/plain": [
              "          ID   Class\n",
              "0  25321.jpg  MIDDLE\n",
              "1    989.jpg  MIDDLE\n",
              "2  19277.jpg  MIDDLE\n",
              "3  13093.jpg  MIDDLE\n",
              "4   5367.jpg  MIDDLE"
            ]
          },
          "metadata": {
            "tags": []
          },
          "execution_count": 38
        }
      ]
    },
    {
      "cell_type": "code",
      "metadata": {
        "id": "RJjY6JfGcEAU",
        "colab_type": "code",
        "outputId": "e677fefc-281a-4810-a993-5ce453d1d25e",
        "colab": {
          "base_uri": "https://localhost:8080/",
          "height": 195
        }
      },
      "source": [
        "sub_csv.head()"
      ],
      "execution_count": 39,
      "outputs": [
        {
          "output_type": "execute_result",
          "data": {
            "text/html": [
              "<div>\n",
              "<style scoped>\n",
              "    .dataframe tbody tr th:only-of-type {\n",
              "        vertical-align: middle;\n",
              "    }\n",
              "\n",
              "    .dataframe tbody tr th {\n",
              "        vertical-align: top;\n",
              "    }\n",
              "\n",
              "    .dataframe thead th {\n",
              "        text-align: right;\n",
              "    }\n",
              "</style>\n",
              "<table border=\"1\" class=\"dataframe\">\n",
              "  <thead>\n",
              "    <tr style=\"text-align: right;\">\n",
              "      <th></th>\n",
              "      <th>ID</th>\n",
              "      <th>Class</th>\n",
              "    </tr>\n",
              "  </thead>\n",
              "  <tbody>\n",
              "    <tr>\n",
              "      <th>0</th>\n",
              "      <td>25321.jpg</td>\n",
              "      <td>YOUNG</td>\n",
              "    </tr>\n",
              "    <tr>\n",
              "      <th>1</th>\n",
              "      <td>989.jpg</td>\n",
              "      <td>YOUNG</td>\n",
              "    </tr>\n",
              "    <tr>\n",
              "      <th>2</th>\n",
              "      <td>19277.jpg</td>\n",
              "      <td>MIDDLE</td>\n",
              "    </tr>\n",
              "    <tr>\n",
              "      <th>3</th>\n",
              "      <td>13093.jpg</td>\n",
              "      <td>MIDDLE</td>\n",
              "    </tr>\n",
              "    <tr>\n",
              "      <th>4</th>\n",
              "      <td>5367.jpg</td>\n",
              "      <td>OLD</td>\n",
              "    </tr>\n",
              "  </tbody>\n",
              "</table>\n",
              "</div>"
            ],
            "text/plain": [
              "          ID   Class\n",
              "0  25321.jpg   YOUNG\n",
              "1    989.jpg   YOUNG\n",
              "2  19277.jpg  MIDDLE\n",
              "3  13093.jpg  MIDDLE\n",
              "4   5367.jpg     OLD"
            ]
          },
          "metadata": {
            "tags": []
          },
          "execution_count": 39
        }
      ]
    },
    {
      "cell_type": "code",
      "metadata": {
        "id": "706505Aqdfa2",
        "colab_type": "code",
        "colab": {}
      },
      "source": [
        "sub_csv.to_csv('/content/sample_submission.csv',index=False)"
      ],
      "execution_count": 0,
      "outputs": []
    },
    {
      "cell_type": "code",
      "metadata": {
        "id": "kFZYqWjxxcH2",
        "colab_type": "code",
        "colab": {}
      },
      "source": [
        ""
      ],
      "execution_count": 0,
      "outputs": []
    },
    {
      "cell_type": "code",
      "metadata": {
        "id": "Fq-GtVEgbfmF",
        "colab_type": "code",
        "colab": {}
      },
      "source": [
        "torch.save(newest2_model.state_dict(), '/content/effb3_imp3_model.pth')\n"
      ],
      "execution_count": 0,
      "outputs": []
    },
    {
      "cell_type": "code",
      "metadata": {
        "id": "bUSewEtXcPgP",
        "colab_type": "code",
        "colab": {}
      },
      "source": [
        "torch.save(optimizer.state_dict(), '/content/effb3_imp3_optim.pth')"
      ],
      "execution_count": 0,
      "outputs": []
    },
    {
      "cell_type": "code",
      "metadata": {
        "id": "Ufl8C47ncVT8",
        "colab_type": "code",
        "colab": {}
      },
      "source": [
        "torch.save(newest2_model, '/content/effb3_imp3_whole')"
      ],
      "execution_count": 0,
      "outputs": []
    },
    {
      "cell_type": "markdown",
      "metadata": {
        "id": "z9QYxgqnzTDo",
        "colab_type": "text"
      },
      "source": [
        "# Xtraa "
      ]
    },
    {
      "cell_type": "code",
      "metadata": {
        "id": "TgKVZaaz4qJN",
        "colab_type": "code",
        "colab": {}
      },
      "source": [
        "new_model = timm.models.efficientnet_b3()\n",
        "new_model = torch.load('/content/effb3_imp_whole')"
      ],
      "execution_count": 0,
      "outputs": []
    },
    {
      "cell_type": "code",
      "metadata": {
        "id": "HLOeW7Uv1U6E",
        "colab_type": "code",
        "colab": {}
      },
      "source": [
        "# !git clone https://github.com/qubvel/ttach.git"
      ],
      "execution_count": 0,
      "outputs": []
    },
    {
      "cell_type": "code",
      "metadata": {
        "id": "fCaU9PC5hAHm",
        "colab_type": "code",
        "colab": {}
      },
      "source": [
        "model = new_model\n",
        "# for param in model.parameters():\n",
        "#     param.requires_grad = True\n",
        "\n",
        "device = torch.device(\"cuda\")\n",
        "model = model.to(device)\n",
        "\n",
        "criterion = nn.CrossEntropyLoss()\n",
        "#optimizer = optim.SGD(model.parameters(), lr=0.01, momentum=0.9, nesterov=True)\n",
        "optimizer = Over9000(model.parameters(), lr= 0.001)\n",
        "# Decay LR by a factor of 0.1 every 7 epochs\n",
        "exp_lr_scheduler = lr_scheduler.ReduceLROnPlateau(optimizer,factor=0.66,patience=4,threshold=0.0005)"
      ],
      "execution_count": 0,
      "outputs": []
    },
    {
      "cell_type": "code",
      "metadata": {
        "id": "De4CgRcEhIAX",
        "colab_type": "code",
        "colab": {
          "base_uri": "https://localhost:8080/",
          "height": 1000
        },
        "outputId": "48142bb5-f7af-4249-8765-598781fd75f3"
      },
      "source": [
        "newest_model = train_model(model, criterion, optimizer, exp_lr_scheduler, num_epochs=15)"
      ],
      "execution_count": 13,
      "outputs": [
        {
          "output_type": "stream",
          "text": [
            "Epoch 0/14\n",
            "----------\n"
          ],
          "name": "stdout"
        },
        {
          "output_type": "stream",
          "text": [
            "/pytorch/torch/csrc/utils/python_arg_parser.cpp:756: UserWarning: This overload of add_ is deprecated:\n",
            "\tadd_(Number alpha, Tensor other)\n",
            "Consider using one of the following signatures instead:\n",
            "\tadd_(Tensor other, *, Number alpha)\n"
          ],
          "name": "stderr"
        },
        {
          "output_type": "stream",
          "text": [
            "train Loss: 0.0452 Acc: 0.9839\n",
            "val Loss: 0.2739 Acc: 0.9255\n",
            "\n",
            "Epoch 1/14\n",
            "----------\n",
            "train Loss: 0.0428 Acc: 0.9846\n",
            "val Loss: 0.2790 Acc: 0.9272\n",
            "\n",
            "Epoch 2/14\n",
            "----------\n",
            "train Loss: 0.0427 Acc: 0.9852\n",
            "val Loss: 0.2903 Acc: 0.9297\n",
            "\n",
            "Epoch 3/14\n",
            "----------\n",
            "train Loss: 0.0380 Acc: 0.9858\n",
            "val Loss: 0.2881 Acc: 0.9272\n",
            "\n",
            "Epoch 4/14\n",
            "----------\n",
            "train Loss: 0.0379 Acc: 0.9875\n",
            "val Loss: 0.2940 Acc: 0.9305\n",
            "\n",
            "Epoch 5/14\n",
            "----------\n",
            "train Loss: 0.0378 Acc: 0.9872\n",
            "val Loss: 0.2856 Acc: 0.9280\n",
            "\n",
            "Epoch 6/14\n",
            "----------\n",
            "train Loss: 0.0332 Acc: 0.9886\n",
            "val Loss: 0.2939 Acc: 0.9272\n",
            "\n",
            "Epoch 7/14\n",
            "----------\n",
            "train Loss: 0.0340 Acc: 0.9884\n",
            "val Loss: 0.2839 Acc: 0.9314\n",
            "\n",
            "Epoch 8/14\n",
            "----------\n",
            "train Loss: 0.0349 Acc: 0.9880\n",
            "val Loss: 0.2670 Acc: 0.9280\n",
            "\n",
            "Epoch 9/14\n",
            "----------\n",
            "train Loss: 0.0339 Acc: 0.9882\n",
            "val Loss: 0.2692 Acc: 0.9322\n",
            "\n",
            "Epoch 10/14\n",
            "----------\n",
            "train Loss: 0.0273 Acc: 0.9902\n",
            "val Loss: 0.2882 Acc: 0.9230\n",
            "\n",
            "Epoch 11/14\n",
            "----------\n",
            "train Loss: 0.0297 Acc: 0.9902\n",
            "val Loss: 0.3012 Acc: 0.9272\n",
            "\n",
            "Epoch 12/14\n",
            "----------\n",
            "train Loss: 0.0276 Acc: 0.9909\n",
            "val Loss: 0.3060 Acc: 0.9230\n",
            "\n",
            "Epoch 13/14\n",
            "----------\n",
            "train Loss: 0.0261 Acc: 0.9911\n",
            "val Loss: 0.3088 Acc: 0.9255\n",
            "\n",
            "Epoch 14/14\n",
            "----------\n",
            "train Loss: 0.0242 Acc: 0.9910\n",
            "val Loss: 0.3237 Acc: 0.9272\n",
            "\n",
            "Training complete in 47m 18s\n",
            "Best val Acc: 0.932218\n"
          ],
          "name": "stdout"
        }
      ]
    },
    {
      "cell_type": "code",
      "metadata": {
        "id": "PwnwhZA_hjfc",
        "colab_type": "code",
        "colab": {}
      },
      "source": [
        "model = newest_model\n",
        "# for param in model.parameters():\n",
        "#     param.requires_grad = True\n",
        "\n",
        "device = torch.device(\"cuda\")\n",
        "#model = model.to(device)\n",
        "\n",
        "criterion = nn.CrossEntropyLoss()\n",
        "#optimizer = optim.SGD(model.parameters(), lr=0.01, momentum=0.9, nesterov=True)\n",
        "optimizer = Over9000(model.parameters(), lr= 0.0006)\n",
        "# Decay LR by a factor of 0.1 every 7 epochs\n",
        "exp_lr_scheduler = lr_scheduler.ReduceLROnPlateau(optimizer,factor=0.66,patience=4,threshold=0.0005)"
      ],
      "execution_count": 0,
      "outputs": []
    },
    {
      "cell_type": "code",
      "metadata": {
        "id": "EXMUTLp2mtnR",
        "colab_type": "code",
        "colab": {
          "base_uri": "https://localhost:8080/",
          "height": 1000
        },
        "outputId": "d1b0437b-3ba6-4bee-ab87-379efee9cc1c"
      },
      "source": [
        "newest2_model = train_model(model, criterion, optimizer, exp_lr_scheduler, num_epochs=20)"
      ],
      "execution_count": 32,
      "outputs": [
        {
          "output_type": "stream",
          "text": [
            "Epoch 0/19\n",
            "----------\n",
            "train Loss: 0.0262 Acc: 0.9906\n",
            "val Loss: 0.2827 Acc: 0.9289\n",
            "\n",
            "Epoch 1/19\n",
            "----------\n",
            "train Loss: 0.0294 Acc: 0.9900\n",
            "val Loss: 0.2807 Acc: 0.9297\n",
            "\n",
            "Epoch 2/19\n",
            "----------\n",
            "train Loss: 0.0267 Acc: 0.9913\n",
            "val Loss: 0.2691 Acc: 0.9314\n",
            "\n",
            "Epoch 3/19\n",
            "----------\n",
            "train Loss: 0.0271 Acc: 0.9908\n",
            "val Loss: 0.2764 Acc: 0.9347\n",
            "\n",
            "Epoch 4/19\n",
            "----------\n",
            "train Loss: 0.0233 Acc: 0.9921\n",
            "val Loss: 0.2929 Acc: 0.9305\n",
            "\n",
            "Epoch 5/19\n",
            "----------\n",
            "train Loss: 0.0227 Acc: 0.9922\n",
            "val Loss: 0.3122 Acc: 0.9272\n",
            "\n",
            "Epoch 6/19\n",
            "----------\n",
            "train Loss: 0.0291 Acc: 0.9896\n",
            "val Loss: 0.2989 Acc: 0.9331\n",
            "\n",
            "Epoch 7/19\n",
            "----------\n",
            "train Loss: 0.0262 Acc: 0.9917\n",
            "val Loss: 0.2833 Acc: 0.9280\n",
            "\n",
            "Epoch 8/19\n",
            "----------\n",
            "train Loss: 0.0247 Acc: 0.9917\n",
            "val Loss: 0.2759 Acc: 0.9272\n",
            "\n",
            "Epoch 9/19\n",
            "----------\n",
            "train Loss: 0.0229 Acc: 0.9918\n",
            "val Loss: 0.2922 Acc: 0.9289\n",
            "\n",
            "Epoch 10/19\n",
            "----------\n",
            "train Loss: 0.0227 Acc: 0.9923\n",
            "val Loss: 0.3072 Acc: 0.9331\n",
            "\n",
            "Epoch 11/19\n",
            "----------\n",
            "train Loss: 0.0233 Acc: 0.9918\n",
            "val Loss: 0.2958 Acc: 0.9297\n",
            "\n",
            "Epoch 12/19\n",
            "----------\n",
            "train Loss: 0.0203 Acc: 0.9928\n",
            "val Loss: 0.3253 Acc: 0.9305\n",
            "\n",
            "Epoch 13/19\n",
            "----------\n",
            "train Loss: 0.0215 Acc: 0.9924\n",
            "val Loss: 0.3160 Acc: 0.9255\n",
            "\n",
            "Epoch 14/19\n",
            "----------\n",
            "train Loss: 0.0183 Acc: 0.9945\n",
            "val Loss: 0.3220 Acc: 0.9272\n",
            "\n",
            "Epoch 15/19\n",
            "----------\n",
            "train Loss: 0.0192 Acc: 0.9929\n",
            "val Loss: 0.3193 Acc: 0.9280\n",
            "\n",
            "Epoch 16/19\n",
            "----------\n",
            "train Loss: 0.0218 Acc: 0.9929\n",
            "val Loss: 0.3256 Acc: 0.9255\n",
            "\n",
            "Epoch 17/19\n",
            "----------\n",
            "train Loss: 0.0176 Acc: 0.9931\n",
            "val Loss: 0.3407 Acc: 0.9264\n",
            "\n",
            "Epoch 18/19\n",
            "----------\n",
            "train Loss: 0.0186 Acc: 0.9936\n",
            "val Loss: 0.3063 Acc: 0.9297\n",
            "\n",
            "Epoch 19/19\n",
            "----------\n",
            "train Loss: 0.0196 Acc: 0.9931\n",
            "val Loss: 0.3235 Acc: 0.9297\n",
            "\n",
            "Training complete in 62m 49s\n",
            "Best val Acc: 0.934728\n"
          ],
          "name": "stdout"
        }
      ]
    },
    {
      "cell_type": "markdown",
      "metadata": {
        "id": "SoeHIKj4reUP",
        "colab_type": "text"
      },
      "source": [
        "# TTA"
      ]
    },
    {
      "cell_type": "code",
      "metadata": {
        "id": "m7LPzmhbqXkr",
        "colab_type": "code",
        "outputId": "7d66e5b9-094f-4a9d-de0d-20082259430c",
        "colab": {
          "base_uri": "https://localhost:8080/",
          "height": 118
        }
      },
      "source": [
        "!git clone https://github.com/qubvel/ttach.git"
      ],
      "execution_count": 25,
      "outputs": [
        {
          "output_type": "stream",
          "text": [
            "Cloning into 'ttach'...\n",
            "remote: Enumerating objects: 90, done.\u001b[K\n",
            "remote: Counting objects: 100% (90/90), done.\u001b[K\n",
            "remote: Compressing objects: 100% (66/66), done.\u001b[K\n",
            "remote: Total 90 (delta 45), reused 54 (delta 21), pack-reused 0\u001b[K\n",
            "Unpacking objects: 100% (90/90), done.\n"
          ],
          "name": "stdout"
        }
      ]
    },
    {
      "cell_type": "code",
      "metadata": {
        "id": "GDPOqpJdrlJT",
        "colab_type": "code",
        "colab": {}
      },
      "source": [
        "from ttach import *\n",
        "test_tf = Compose([HorizontalFlip()])\n",
        "                   #Multiply(factors=[0.9, 1, 1.1]),\n",
        "                   #Scale(scales=[1, 2, 5])])\n",
        "tta_model = ClassificationTTAWrapper(newest_model,test_tf,merge_mode='mean')"
      ],
      "execution_count": 0,
      "outputs": []
    },
    {
      "cell_type": "code",
      "metadata": {
        "id": "KFqEJ6y1rpz9",
        "colab_type": "code",
        "outputId": "e1b4a927-9cf8-4a26-f7ed-e561c0c5eabf",
        "colab": {
          "base_uri": "https://localhost:8080/",
          "height": 34
        }
      },
      "source": [
        "prediction_tta = torch.tensor([],dtype=torch.int64)\n",
        "device=torch.device('cuda')\n",
        "prediction_tta = prediction_tta.to(device)\n",
        "for inputs, labels in dataloader['test']:\n",
        "            inputs = inputs.to(device)\n",
        "            labels = labels.to(device)\n",
        "            tta_model.to(device)\n",
        "            \n",
        "            outputs = tta_model(inputs)\n",
        "            _, preds = torch.max(outputs, 1)\n",
        "            #print(type(preds),preds.shape,preds.dtype,preds.device)\n",
        "            prediction_tta = torch.cat((prediction_tta,preds),0)\n",
        "            #print(prediction.shape,prediction.device)\n",
        "print(prediction_tta.shape)"
      ],
      "execution_count": 27,
      "outputs": [
        {
          "output_type": "stream",
          "text": [
            "torch.Size([6636])\n"
          ],
          "name": "stdout"
        }
      ]
    },
    {
      "cell_type": "code",
      "metadata": {
        "id": "OPol5QpzrwR0",
        "colab_type": "code",
        "outputId": "ef381e7b-855d-409d-be4f-a09b3ab01002",
        "colab": {
          "base_uri": "https://localhost:8080/",
          "height": 34
        }
      },
      "source": [
        "sub_csv_tta = test_csv.copy()\n",
        "prediction_tta = prediction_tta.to('cpu')\n",
        "print(prediction_tta.device)\n",
        "for i in range(len(prediction_tta)):\n",
        "  sub_csv_tta.Class[i] = label_decoding[int(prediction_tta[i])]"
      ],
      "execution_count": 28,
      "outputs": [
        {
          "output_type": "stream",
          "text": [
            "cpu\n"
          ],
          "name": "stdout"
        }
      ]
    },
    {
      "cell_type": "code",
      "metadata": {
        "id": "r43wMvkPry7D",
        "colab_type": "code",
        "outputId": "b81ce6d3-5cfe-4b91-cddc-e2d32f79737f",
        "colab": {
          "base_uri": "https://localhost:8080/",
          "height": 195
        }
      },
      "source": [
        "sub_csv_tta.head()"
      ],
      "execution_count": 29,
      "outputs": [
        {
          "output_type": "execute_result",
          "data": {
            "text/html": [
              "<div>\n",
              "<style scoped>\n",
              "    .dataframe tbody tr th:only-of-type {\n",
              "        vertical-align: middle;\n",
              "    }\n",
              "\n",
              "    .dataframe tbody tr th {\n",
              "        vertical-align: top;\n",
              "    }\n",
              "\n",
              "    .dataframe thead th {\n",
              "        text-align: right;\n",
              "    }\n",
              "</style>\n",
              "<table border=\"1\" class=\"dataframe\">\n",
              "  <thead>\n",
              "    <tr style=\"text-align: right;\">\n",
              "      <th></th>\n",
              "      <th>ID</th>\n",
              "      <th>Class</th>\n",
              "    </tr>\n",
              "  </thead>\n",
              "  <tbody>\n",
              "    <tr>\n",
              "      <th>0</th>\n",
              "      <td>25321.jpg</td>\n",
              "      <td>MIDDLE</td>\n",
              "    </tr>\n",
              "    <tr>\n",
              "      <th>1</th>\n",
              "      <td>989.jpg</td>\n",
              "      <td>YOUNG</td>\n",
              "    </tr>\n",
              "    <tr>\n",
              "      <th>2</th>\n",
              "      <td>19277.jpg</td>\n",
              "      <td>MIDDLE</td>\n",
              "    </tr>\n",
              "    <tr>\n",
              "      <th>3</th>\n",
              "      <td>13093.jpg</td>\n",
              "      <td>MIDDLE</td>\n",
              "    </tr>\n",
              "    <tr>\n",
              "      <th>4</th>\n",
              "      <td>5367.jpg</td>\n",
              "      <td>OLD</td>\n",
              "    </tr>\n",
              "  </tbody>\n",
              "</table>\n",
              "</div>"
            ],
            "text/plain": [
              "          ID   Class\n",
              "0  25321.jpg  MIDDLE\n",
              "1    989.jpg   YOUNG\n",
              "2  19277.jpg  MIDDLE\n",
              "3  13093.jpg  MIDDLE\n",
              "4   5367.jpg     OLD"
            ]
          },
          "metadata": {
            "tags": []
          },
          "execution_count": 29
        }
      ]
    },
    {
      "cell_type": "code",
      "metadata": {
        "id": "eHFVE6Olrzzn",
        "colab_type": "code",
        "colab": {}
      },
      "source": [
        "sub_csv_tta.to_csv('/content/sample_submission_tta.csv',index=False)"
      ],
      "execution_count": 0,
      "outputs": []
    },
    {
      "cell_type": "code",
      "metadata": {
        "id": "zq3SdGtb0UTd",
        "colab_type": "code",
        "colab": {}
      },
      "source": [
        "# tta.Rotate90(angles=[180, 90, 270]),\n",
        "# tta.Scale(scales=[1, 2, 5]),\n",
        "# tta.Multiply(factors=[0.9, 1, 1.1]),  \n",
        "# tta.Resize((256, 256))"
      ],
      "execution_count": 0,
      "outputs": []
    },
    {
      "cell_type": "code",
      "metadata": {
        "id": "D3XSD-MVeNPE",
        "colab_type": "code",
        "colab": {}
      },
      "source": [
        "torch.cuda.empty_cache()"
      ],
      "execution_count": 0,
      "outputs": []
    },
    {
      "cell_type": "code",
      "metadata": {
        "id": "iTfGjwYweV7w",
        "colab_type": "code",
        "colab": {}
      },
      "source": [
        ""
      ],
      "execution_count": 0,
      "outputs": []
    }
  ]
}