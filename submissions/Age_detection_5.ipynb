{
  "nbformat": 4,
  "nbformat_minor": 0,
  "metadata": {
    "colab": {
      "name": "Age_detection_1.ipynb",
      "provenance": [],
      "collapsed_sections": [],
      "toc_visible": true
    },
    "kernelspec": {
      "name": "python3",
      "display_name": "Python 3"
    },
    "accelerator": "GPU"
  },
  "cells": [
    {
      "cell_type": "code",
      "metadata": {
        "id": "OcQjSUsi1bFI",
        "colab_type": "code",
        "colab": {}
      },
      "source": [
        "!unzip test_Bh8pGW3.zip\n",
        "!unzip train_DETg9GD.zip"
      ],
      "execution_count": 0,
      "outputs": []
    },
    {
      "cell_type": "code",
      "metadata": {
        "id": "q7WjL1QqDdQV",
        "colab_type": "code",
        "colab": {}
      },
      "source": [
        "import numpy as np\n",
        "import pandas as pd\n",
        "from random import randint\n",
        "import os\n",
        "import torch\n",
        "import torch.nn as nn\n",
        "import torch.nn.functional as F\n",
        "import torchvision\n",
        "from sklearn.model_selection import train_test_split\n",
        "from sklearn.utils import shuffle\n",
        "from torch.utils.data import DataLoader, Dataset\n",
        "from sklearn.metrics import accuracy_score\n",
        "from matplotlib.pyplot import imread\n",
        "from pylab import *\n",
        "from albumentations import (RGBShift,Blur,RandomContrast,HueSaturationValue,RandomGamma,Rotate,RandomBrightness,HorizontalFlip, Normalize, Resize, Compose, GaussNoise,Transpose,RandomBrightnessContrast,RandomCrop)\n",
        "from albumentations.pytorch import ToTensor\n",
        "import torch.optim as optim\n",
        "from torch.optim import lr_scheduler\n",
        "from torchvision import datasets, models, transforms\n",
        "import time\n",
        "import copy"
      ],
      "execution_count": 0,
      "outputs": []
    },
    {
      "cell_type": "code",
      "metadata": {
        "id": "74taFO98wHYT",
        "colab_type": "code",
        "colab": {}
      },
      "source": [
        "train_csv = pd.read_csv('/content/train.csv')\n",
        "train_csv,val_csv = train_test_split(train_csv,test_size=0.06,random_state=8)\n",
        "test_csv = pd.read_csv('/content/test.csv')\n",
        "test_csv['Class']=\"\"\n",
        "test_csv.Class='MIDDLE'"
      ],
      "execution_count": 0,
      "outputs": []
    },
    {
      "cell_type": "code",
      "metadata": {
        "id": "hF72YOEyw9fl",
        "colab_type": "code",
        "outputId": "d9f5f35d-d5d8-45ec-a01f-b2a263ab583b",
        "colab": {
          "base_uri": "https://localhost:8080/",
          "height": 101
        }
      },
      "source": [
        "print('train image count--',len(train_csv),'\\t test image count--',len(test_csv),'\\t val image count--',len(val_csv))\n",
        "train_csv.Class.value_counts(normalize=True)"
      ],
      "execution_count": 134,
      "outputs": [
        {
          "output_type": "stream",
          "text": [
            "train image count-- 18711 \t test image count-- 6636 \t val image count-- 1195\n"
          ],
          "name": "stdout"
        },
        {
          "output_type": "execute_result",
          "data": {
            "text/plain": [
              "MIDDLE    0.543103\n",
              "YOUNG     0.336112\n",
              "OLD       0.120785\n",
              "Name: Class, dtype: float64"
            ]
          },
          "metadata": {
            "tags": []
          },
          "execution_count": 134
        }
      ]
    },
    {
      "cell_type": "code",
      "metadata": {
        "id": "2qgEu1O3RUsE",
        "colab_type": "code",
        "colab": {}
      },
      "source": [
        "label_assign={'YOUNG':0,'MIDDLE':1,'OLD':2}"
      ],
      "execution_count": 0,
      "outputs": []
    },
    {
      "cell_type": "markdown",
      "metadata": {
        "id": "IK8jAK5CFUJp",
        "colab_type": "text"
      },
      "source": [
        "# knowing image shapes"
      ]
    },
    {
      "cell_type": "code",
      "metadata": {
        "id": "WfybElFLxQCt",
        "colab_type": "code",
        "colab": {}
      },
      "source": [
        "l=[]\n",
        "for i in range(len(train_csv)):\n",
        "  img_path = '/content/Train/' + str(train_csv.ID[i])\n",
        "  img = imread(img_path,format='jpg')\n",
        "  l.append(img.shape)\n",
        "l=np.array(l)"
      ],
      "execution_count": 0,
      "outputs": []
    },
    {
      "cell_type": "code",
      "metadata": {
        "id": "HSIurJn7Ef0C",
        "colab_type": "code",
        "colab": {}
      },
      "source": [
        "print(min(l[:,0]),min(l[:,1]))\n",
        "print(max(l[:,0]),max(l[:,1]))\n",
        "print(mean(l[:,0]),mean(l[:,1]))"
      ],
      "execution_count": 0,
      "outputs": []
    },
    {
      "cell_type": "markdown",
      "metadata": {
        "id": "y9tmNFakFps2",
        "colab_type": "text"
      },
      "source": [
        "# Building datasets and dataloaders before training"
      ]
    },
    {
      "cell_type": "code",
      "metadata": {
        "id": "LtqC04lP-Fvi",
        "colab_type": "code",
        "colab": {}
      },
      "source": [
        "class dataset(Dataset):\n",
        "  def __init__(self, csv_file, dir_path, phase):\n",
        "    self.csv_file = csv_file\n",
        "    self.dir_path = dir_path\n",
        "    self.phase = phase\n",
        "    self.transform = get_transforms(self.phase)\n",
        "\n",
        "  def __len__(self):\n",
        "    return len(self.csv_file)\n",
        "\n",
        "  def __getitem__(self,idx):\n",
        "    img_path = os.path.join(self.dir_path, self.csv_file.iloc[idx, 0])\n",
        "    image = imread(img_path)\n",
        "    label = label_assign[self.csv_file.iloc[idx, 1]]\n",
        "    aug_img = self.transform(image=image)\n",
        "    image = aug_img[\"image\"]\n",
        "    return image,label\n",
        "\n",
        "def get_transforms(phase):\n",
        "  t_list=[]\n",
        "  if phase=='train':\n",
        "    t_list.extend([RandomBrightness(limit=0.8, p=0.5),\n",
        "                   Rotate(limit=25, p=0.5),\n",
        "                   RGBShift(r_shift_limit=50, g_shift_limit=30, b_shift_limit=40, p=0.5),\n",
        "                   RandomGamma(gamma_limit=(80,165), p=0.5),\n",
        "                   HorizontalFlip(p=0.5),\n",
        "                   HueSaturationValue(hue_shift_limit=10, sat_shift_limit=30, val_shift_limit=30, p=0.5),\n",
        "                   RandomContrast(limit=0.5, p=0.5),\n",
        "                   RandomBrightnessContrast(brightness_limit=0.2, contrast_limit=0.2, p=0.5)\n",
        "                   ])\n",
        "  t_list.extend([Resize(32, 32, interpolation=1, p=1),    ## 16x16, 64x64 , 128x100\n",
        "                 Normalize(mean=(0.485, 0.456, 0.406), std=(0.229, 0.224, 0.225), max_pixel_value=255.0, p=1.0),\n",
        "                 ToTensor()])\n",
        "  return  Compose(t_list)"
      ],
      "execution_count": 0,
      "outputs": []
    },
    {
      "cell_type": "code",
      "metadata": {
        "id": "FcnzelbqB_2V",
        "colab_type": "code",
        "outputId": "1b020949-070f-485b-a0b0-10620510ff22",
        "colab": {
          "base_uri": "https://localhost:8080/",
          "height": 34
        }
      },
      "source": [
        "### creating train and test datasets\n",
        "train_dataset = dataset(train_csv,'/content/Train/','train')\n",
        "test_dataset = dataset(test_csv,'/content/Test/','test')\n",
        "val_dataset = dataset(val_csv,'/content/Train/','val')\n",
        "dataset_sizes={'train':len(train_dataset),'val':len(val_dataset),'test':len(test_dataset)}\n",
        "print(dataset_sizes)"
      ],
      "execution_count": 139,
      "outputs": [
        {
          "output_type": "stream",
          "text": [
            "{'train': 18711, 'val': 1195, 'test': 6636}\n"
          ],
          "name": "stdout"
        }
      ]
    },
    {
      "cell_type": "code",
      "metadata": {
        "id": "DUVSGOI7aNSe",
        "colab_type": "code",
        "outputId": "642695bd-8be8-4e20-8227-ed0969a5ba91",
        "colab": {
          "base_uri": "https://localhost:8080/",
          "height": 403
        }
      },
      "source": [
        "### visualising datasets\n",
        "a=randint(0,1700)\n",
        "print(\"VISUALISING TRAIN DATASET\")\n",
        "for i in range(a,a+10):\n",
        "  image, label = train_dataset[i]\n",
        "  print(i,'\\t', image.shape,'\\t', label)\n",
        "print(\"\\nVISUALISING TEST DATASET\")\n",
        "b=randint(0,6625)\n",
        "for i in range(b,b+10):\n",
        "  image, label = test_dataset[i]\n",
        "  print(i,'\\t', image.shape,'\\t', label)"
      ],
      "execution_count": 140,
      "outputs": [
        {
          "output_type": "stream",
          "text": [
            "VISUALISING TRAIN DATASET\n",
            "1544 \t torch.Size([3, 32, 32]) \t 1\n",
            "1545 \t torch.Size([3, 32, 32]) \t 1\n",
            "1546 \t torch.Size([3, 32, 32]) \t 1\n",
            "1547 \t torch.Size([3, 32, 32]) \t 1\n",
            "1548 \t torch.Size([3, 32, 32]) \t 2\n",
            "1549 \t torch.Size([3, 32, 32]) \t 1\n",
            "1550 \t torch.Size([3, 32, 32]) \t 0\n",
            "1551 \t torch.Size([3, 32, 32]) \t 1\n",
            "1552 \t torch.Size([3, 32, 32]) \t 1\n",
            "1553 \t torch.Size([3, 32, 32]) \t 1\n",
            "\n",
            "VISUALISING TEST DATASET\n",
            "1233 \t torch.Size([3, 32, 32]) \t 1\n",
            "1234 \t torch.Size([3, 32, 32]) \t 1\n",
            "1235 \t torch.Size([3, 32, 32]) \t 1\n",
            "1236 \t torch.Size([3, 32, 32]) \t 1\n",
            "1237 \t torch.Size([3, 32, 32]) \t 1\n",
            "1238 \t torch.Size([3, 32, 32]) \t 1\n",
            "1239 \t torch.Size([3, 32, 32]) \t 1\n",
            "1240 \t torch.Size([3, 32, 32]) \t 1\n",
            "1241 \t torch.Size([3, 32, 32]) \t 1\n",
            "1242 \t torch.Size([3, 32, 32]) \t 1\n"
          ],
          "name": "stdout"
        }
      ]
    },
    {
      "cell_type": "code",
      "metadata": {
        "id": "Xxb-q1OsUBML",
        "colab_type": "code",
        "colab": {}
      },
      "source": [
        "dataloader={}\n",
        "dataloader['train'] = DataLoader(train_dataset, batch_size=256, shuffle=True, num_workers=1)\n",
        "dataloader['test'] = DataLoader(test_dataset, batch_size=512, shuffle=False, num_workers=1)\n",
        "dataloader['val'] = DataLoader(val_dataset, batch_size=256, shuffle=True, num_workers=1)"
      ],
      "execution_count": 0,
      "outputs": []
    },
    {
      "cell_type": "code",
      "metadata": {
        "id": "2djqGSTGbG5d",
        "colab_type": "code",
        "outputId": "0740edd7-e564-4086-ef1b-828e2f63be12",
        "colab": {
          "base_uri": "https://localhost:8080/",
          "height": 386
        }
      },
      "source": [
        "### visualing batches\n",
        "def show_batch(sample_batch):\n",
        "  img_batch,label_batch = sample_batch\n",
        "  print('batch size--',len(img_batch))\n",
        "  print('img size--',img_batch.size(2))\n",
        "  grid_border_size = 2\n",
        "  grid = torchvision.utils.make_grid(img_batch)\n",
        "  plt.imshow(grid.numpy().transpose((1, 2, 0)))\n",
        "\n",
        "for i, sample_batch in enumerate(dataloader['train']):\n",
        "  img, label = sample_batch\n",
        "  print(i, img.size(), label.shape)\n",
        "  if i==3:\n",
        "    show_batch(sample_batch)\n",
        "    break"
      ],
      "execution_count": 142,
      "outputs": [
        {
          "output_type": "stream",
          "text": [
            "0 torch.Size([256, 3, 32, 32]) torch.Size([256])\n",
            "1 torch.Size([256, 3, 32, 32]) torch.Size([256])\n",
            "2 torch.Size([256, 3, 32, 32]) torch.Size([256])\n"
          ],
          "name": "stdout"
        },
        {
          "output_type": "stream",
          "text": [
            "Clipping input data to the valid range for imshow with RGB data ([0..1] for floats or [0..255] for integers).\n"
          ],
          "name": "stderr"
        },
        {
          "output_type": "stream",
          "text": [
            "3 torch.Size([256, 3, 32, 32]) torch.Size([256])\n",
            "batch size-- 256\n",
            "img size-- 32\n"
          ],
          "name": "stdout"
        },
        {
          "output_type": "display_data",
          "data": {
            "image/png": "[encoded data removed]",
            "text/plain": [
              "<Figure size 432x288 with 1 Axes>"
            ]
          },
          "metadata": {
            "tags": [],
            "needs_background": "light"
          }
        }
      ]
    },
    {
      "cell_type": "markdown",
      "metadata": {
        "id": "qfADvrlVQKNm",
        "colab_type": "text"
      },
      "source": [
        "# Trainer"
      ]
    },
    {
      "cell_type": "code",
      "metadata": {
        "id": "oZlxMge2rJRc",
        "colab_type": "code",
        "colab": {}
      },
      "source": [
        "def train_model(model, criterion, optimizer, scheduler, num_epochs=25):\n",
        "    since = time.time()\n",
        "    latest_model_wts = copy.deepcopy(model.state_dict())\n",
        "    best_model_wts = copy.deepcopy(model.state_dict())\n",
        "    best_acc = 0.0\n",
        "\n",
        "    for epoch in range(num_epochs):\n",
        "        print('Epoch {}/{}'.format(epoch, num_epochs - 1))\n",
        "        print('-' * 10)\n",
        "\n",
        "        # Each epoch has a training and validation phase\n",
        "        for phase in ['train', 'val']:\n",
        "            if phase == 'train':\n",
        "                model.train()  # Set model to training mode\n",
        "            else:\n",
        "                model.eval()   # Set model to evaluate mode\n",
        "\n",
        "            running_loss = 0.0\n",
        "            running_corrects = 0\n",
        "\n",
        "            # Iterate over data.\n",
        "            for img_batch, labels in dataloader[phase]:\n",
        "                img_batch = img_batch.to(device)\n",
        "                labels = labels.to(device)\n",
        "\n",
        "                # zero the parameter gradients\n",
        "                optimizer.zero_grad()\n",
        "\n",
        "                # forward\n",
        "                # track history if only in train\n",
        "                with torch.set_grad_enabled(phase == 'train'):\n",
        "                    outputs = model(img_batch)\n",
        "                    _, preds = torch.max(outputs, 1)\n",
        "                    loss = criterion(outputs, labels)\n",
        "\n",
        "                    # backward + optimize only if in training phase\n",
        "                    if phase == 'train':\n",
        "                        loss.backward()\n",
        "                        optimizer.step()\n",
        "\n",
        "                # statistics\n",
        "                running_loss += loss.item() * img_batch.size(0)\n",
        "                running_corrects += torch.sum(preds == labels.data)\n",
        "            if phase == 'train':\n",
        "                scheduler.step()\n",
        "\n",
        "            epoch_loss = running_loss / dataset_sizes[phase]\n",
        "            epoch_acc = running_corrects.double() / dataset_sizes[phase]\n",
        "\n",
        "            print('{} Loss: {:.4f} Acc: {:.4f}'.format(\n",
        "                phase, epoch_loss, epoch_acc))\n",
        "\n",
        "            # deep copy the model\n",
        "            latest_model_wts = copy.deepcopy(model.state_dict())\n",
        "            if phase == 'val' and epoch_acc > best_acc:\n",
        "                best_acc = epoch_acc\n",
        "                best_model_wts = copy.deepcopy(model.state_dict())\n",
        "\n",
        "        print()\n",
        "\n",
        "    time_elapsed = time.time() - since\n",
        "    print('Training complete in {:.0f}m {:.0f}s'.format(\n",
        "        time_elapsed // 60, time_elapsed % 60))\n",
        "    print('Best val Acc: {:4f}'.format(best_acc))\n",
        "    # load best model weights\n",
        "    model.load_state_dict(best_model_wts)\n",
        "    return model"
      ],
      "execution_count": 0,
      "outputs": []
    },
    {
      "cell_type": "markdown",
      "metadata": {
        "id": "33zCbo8VQXad",
        "colab_type": "text"
      },
      "source": [
        "# Training model with freeze"
      ]
    },
    {
      "cell_type": "code",
      "metadata": {
        "id": "Jc1EPN-Y2nu6",
        "colab_type": "code",
        "colab": {
          "base_uri": "https://localhost:8080/",
          "height": 1000
        },
        "outputId": "4c1ba3a4-f2d0-4fbb-bf07-b7a1626ed454"
      },
      "source": [
        "# lr_list = np.random.rand(20)\n",
        "# lr_list = 10**(-5*lr_list)\n",
        "# for lr in lr_list:\n",
        "#   print('***********\\tLR =',lr,'\\t************')\n",
        "model = models.resnet18(pretrained=True)\n",
        "for param in model.parameters():\n",
        "    param.requires_grad = False\n",
        "num_ftrs = model.fc.in_features\n",
        "model.fc = nn.Linear(num_ftrs, 3)\n",
        "\n",
        "device = torch.device(\"cuda\")\n",
        "model = model.to(device)\n",
        "\n",
        "criterion = nn.CrossEntropyLoss()\n",
        "optimizer = optim.SGD(model.parameters(), lr=0.004, momentum=0.9, nesterov=True)\n",
        "# Decay LR by a factor of 0.1 every 7 epochs\n",
        "exp_lr_scheduler = lr_scheduler.StepLR(optimizer, step_size=7, gamma=0.1)\n",
        "\n",
        "\n",
        "best_model = train_model(model, criterion, optimizer, exp_lr_scheduler, num_epochs=13)"
      ],
      "execution_count": 144,
      "outputs": [
        {
          "output_type": "stream",
          "text": [
            "Epoch 0/12\n",
            "----------\n",
            "train Loss: 0.9582 Acc: 0.5476\n",
            "val Loss: 1.0328 Acc: 0.4870\n",
            "\n",
            "Epoch 1/12\n",
            "----------\n",
            "train Loss: 0.9108 Acc: 0.5745\n",
            "val Loss: 0.8945 Acc: 0.5883\n",
            "\n",
            "Epoch 2/12\n",
            "----------\n",
            "train Loss: 0.9031 Acc: 0.5764\n",
            "val Loss: 0.8623 Acc: 0.5992\n",
            "\n",
            "Epoch 3/12\n",
            "----------\n",
            "train Loss: 0.8997 Acc: 0.5800\n",
            "val Loss: 0.8714 Acc: 0.5916\n",
            "\n",
            "Epoch 4/12\n",
            "----------\n",
            "train Loss: 0.8985 Acc: 0.5791\n",
            "val Loss: 1.1453 Acc: 0.4335\n",
            "\n",
            "Epoch 5/12\n",
            "----------\n",
            "train Loss: 0.9005 Acc: 0.5792\n",
            "val Loss: 0.8917 Acc: 0.5975\n",
            "\n",
            "Epoch 6/12\n",
            "----------\n",
            "train Loss: 0.8930 Acc: 0.5859\n",
            "val Loss: 0.8565 Acc: 0.6192\n",
            "\n",
            "Epoch 7/12\n",
            "----------\n",
            "train Loss: 0.8845 Acc: 0.5881\n",
            "val Loss: 0.8441 Acc: 0.6126\n",
            "\n",
            "Epoch 8/12\n",
            "----------\n",
            "train Loss: 0.8827 Acc: 0.5886\n",
            "val Loss: 0.8450 Acc: 0.6251\n",
            "\n",
            "Epoch 9/12\n",
            "----------\n",
            "train Loss: 0.8822 Acc: 0.5886\n",
            "val Loss: 0.8445 Acc: 0.6234\n",
            "\n",
            "Epoch 10/12\n",
            "----------\n",
            "train Loss: 0.8825 Acc: 0.5902\n",
            "val Loss: 0.8429 Acc: 0.6176\n",
            "\n",
            "Epoch 11/12\n",
            "----------\n",
            "train Loss: 0.8775 Acc: 0.5932\n",
            "val Loss: 0.8442 Acc: 0.6218\n",
            "\n",
            "Epoch 12/12\n",
            "----------\n",
            "train Loss: 0.8753 Acc: 0.5945\n",
            "val Loss: 0.8383 Acc: 0.6167\n",
            "\n",
            "Training complete in 10m 17s\n",
            "Best val Acc: 0.625105\n"
          ],
          "name": "stdout"
        }
      ]
    },
    {
      "cell_type": "markdown",
      "metadata": {
        "id": "c8u-GimZQh9g",
        "colab_type": "text"
      },
      "source": [
        "# Unfreeze and training (fine tuning)"
      ]
    },
    {
      "cell_type": "code",
      "metadata": {
        "id": "cRB599HdVivN",
        "colab_type": "code",
        "colab": {}
      },
      "source": [
        "model = best_model\n",
        "for param in model.parameters():\n",
        "    param.requires_grad = True\n",
        "\n",
        "device = torch.device(\"cuda\")\n",
        "model = model.to(device)\n",
        "\n",
        "criterion = nn.CrossEntropyLoss()\n",
        "optimizer = optim.SGD(model.parameters(), lr=0.01, momentum=0.9, nesterov=True)\n",
        "# Decay LR by a factor of 0.1 every 7 epochs\n",
        "exp_lr_scheduler = lr_scheduler.StepLR(optimizer, step_size=20, gamma=0.1)"
      ],
      "execution_count": 0,
      "outputs": []
    },
    {
      "cell_type": "code",
      "metadata": {
        "id": "eyYNAnvJpZs5",
        "colab_type": "code",
        "colab": {
          "base_uri": "https://localhost:8080/",
          "height": 1000
        },
        "outputId": "6e64c6b0-a58b-44d6-f29c-b21f483aa73b"
      },
      "source": [
        "new_model = train_model(model, criterion, optimizer, exp_lr_scheduler, num_epochs=50)"
      ],
      "execution_count": 146,
      "outputs": [
        {
          "output_type": "stream",
          "text": [
            "Epoch 0/49\n",
            "----------\n",
            "train Loss: 0.8489 Acc: 0.6236\n",
            "val Loss: 0.7314 Acc: 0.6720\n",
            "\n",
            "Epoch 1/49\n",
            "----------\n",
            "train Loss: 0.7059 Acc: 0.6977\n",
            "val Loss: 0.6817 Acc: 0.7146\n",
            "\n",
            "Epoch 2/49\n",
            "----------\n",
            "train Loss: 0.6486 Acc: 0.7270\n",
            "val Loss: 0.6215 Acc: 0.7423\n",
            "\n",
            "Epoch 3/49\n",
            "----------\n",
            "train Loss: 0.6003 Acc: 0.7476\n",
            "val Loss: 0.6707 Acc: 0.7255\n",
            "\n",
            "Epoch 4/49\n",
            "----------\n",
            "train Loss: 0.6176 Acc: 0.7371\n",
            "val Loss: 0.5533 Acc: 0.7707\n",
            "\n",
            "Epoch 5/49\n",
            "----------\n",
            "train Loss: 0.5489 Acc: 0.7716\n",
            "val Loss: 0.5038 Acc: 0.8008\n",
            "\n",
            "Epoch 6/49\n",
            "----------\n",
            "train Loss: 0.5070 Acc: 0.7871\n",
            "val Loss: 0.5515 Acc: 0.7833\n",
            "\n",
            "Epoch 7/49\n",
            "----------\n",
            "train Loss: 0.4899 Acc: 0.7969\n",
            "val Loss: 0.4904 Acc: 0.8151\n",
            "\n",
            "Epoch 8/49\n",
            "----------\n",
            "train Loss: 0.4645 Acc: 0.8066\n",
            "val Loss: 0.5248 Acc: 0.7891\n",
            "\n",
            "Epoch 9/49\n",
            "----------\n",
            "train Loss: 0.4491 Acc: 0.8166\n",
            "val Loss: 0.4497 Acc: 0.8301\n",
            "\n",
            "Epoch 10/49\n",
            "----------\n",
            "train Loss: 0.4692 Acc: 0.8050\n",
            "val Loss: 0.4686 Acc: 0.7967\n",
            "\n",
            "Epoch 11/49\n",
            "----------\n",
            "train Loss: 0.4261 Acc: 0.8269\n",
            "val Loss: 0.4342 Acc: 0.8234\n",
            "\n",
            "Epoch 12/49\n",
            "----------\n",
            "train Loss: 0.4233 Acc: 0.8259\n",
            "val Loss: 0.4333 Acc: 0.8335\n",
            "\n",
            "Epoch 13/49\n",
            "----------\n",
            "train Loss: 0.3904 Acc: 0.8422\n",
            "val Loss: 0.4347 Acc: 0.8276\n",
            "\n",
            "Epoch 14/49\n",
            "----------\n",
            "train Loss: 0.3733 Acc: 0.8472\n",
            "val Loss: 0.4586 Acc: 0.8234\n",
            "\n",
            "Epoch 15/49\n",
            "----------\n",
            "train Loss: 0.3755 Acc: 0.8502\n",
            "val Loss: 0.4838 Acc: 0.8167\n",
            "\n",
            "Epoch 16/49\n",
            "----------\n",
            "train Loss: 0.4436 Acc: 0.8197\n",
            "val Loss: 0.4345 Acc: 0.8368\n",
            "\n",
            "Epoch 17/49\n",
            "----------\n",
            "train Loss: 0.3766 Acc: 0.8500\n",
            "val Loss: 0.4708 Acc: 0.8192\n",
            "\n",
            "Epoch 18/49\n",
            "----------\n",
            "train Loss: 0.3788 Acc: 0.8497\n",
            "val Loss: 0.4419 Acc: 0.8285\n",
            "\n",
            "Epoch 19/49\n",
            "----------\n",
            "train Loss: 0.3365 Acc: 0.8691\n",
            "val Loss: 0.4722 Acc: 0.8184\n",
            "\n",
            "Epoch 20/49\n",
            "----------\n",
            "train Loss: 0.2939 Acc: 0.8864\n",
            "val Loss: 0.3711 Acc: 0.8678\n",
            "\n",
            "Epoch 21/49\n",
            "----------\n",
            "train Loss: 0.2659 Acc: 0.8972\n",
            "val Loss: 0.3647 Acc: 0.8661\n",
            "\n",
            "Epoch 22/49\n",
            "----------\n",
            "train Loss: 0.2634 Acc: 0.8981\n",
            "val Loss: 0.3730 Acc: 0.8619\n",
            "\n",
            "Epoch 23/49\n",
            "----------\n",
            "train Loss: 0.2590 Acc: 0.9002\n",
            "val Loss: 0.3661 Acc: 0.8603\n",
            "\n",
            "Epoch 24/49\n",
            "----------\n",
            "train Loss: 0.2543 Acc: 0.9017\n",
            "val Loss: 0.3604 Acc: 0.8728\n",
            "\n",
            "Epoch 25/49\n",
            "----------\n",
            "train Loss: 0.2459 Acc: 0.9046\n",
            "val Loss: 0.3632 Acc: 0.8669\n",
            "\n",
            "Epoch 26/49\n",
            "----------\n",
            "train Loss: 0.2431 Acc: 0.9034\n",
            "val Loss: 0.3748 Acc: 0.8611\n",
            "\n",
            "Epoch 27/49\n",
            "----------\n",
            "train Loss: 0.2348 Acc: 0.9078\n",
            "val Loss: 0.3698 Acc: 0.8653\n",
            "\n",
            "Epoch 28/49\n",
            "----------\n",
            "train Loss: 0.2335 Acc: 0.9092\n",
            "val Loss: 0.3776 Acc: 0.8619\n",
            "\n",
            "Epoch 29/49\n",
            "----------\n",
            "train Loss: 0.2374 Acc: 0.9074\n",
            "val Loss: 0.3744 Acc: 0.8653\n",
            "\n",
            "Epoch 30/49\n",
            "----------\n",
            "train Loss: 0.2285 Acc: 0.9113\n",
            "val Loss: 0.3752 Acc: 0.8736\n",
            "\n",
            "Epoch 31/49\n",
            "----------\n",
            "train Loss: 0.2237 Acc: 0.9149\n",
            "val Loss: 0.3712 Acc: 0.8611\n",
            "\n",
            "Epoch 32/49\n",
            "----------\n",
            "train Loss: 0.2161 Acc: 0.9167\n",
            "val Loss: 0.3738 Acc: 0.8703\n",
            "\n",
            "Epoch 33/49\n",
            "----------\n",
            "train Loss: 0.2207 Acc: 0.9119\n",
            "val Loss: 0.3770 Acc: 0.8720\n",
            "\n",
            "Epoch 34/49\n",
            "----------\n",
            "train Loss: 0.2221 Acc: 0.9135\n",
            "val Loss: 0.3894 Acc: 0.8686\n",
            "\n",
            "Epoch 35/49\n",
            "----------\n",
            "train Loss: 0.2128 Acc: 0.9188\n",
            "val Loss: 0.3798 Acc: 0.8695\n",
            "\n",
            "Epoch 36/49\n",
            "----------\n",
            "train Loss: 0.2116 Acc: 0.9183\n",
            "val Loss: 0.3897 Acc: 0.8686\n",
            "\n",
            "Epoch 37/49\n",
            "----------\n",
            "train Loss: 0.2131 Acc: 0.9187\n",
            "val Loss: 0.3944 Acc: 0.8720\n",
            "\n",
            "Epoch 38/49\n",
            "----------\n",
            "train Loss: 0.2001 Acc: 0.9230\n",
            "val Loss: 0.4023 Acc: 0.8678\n",
            "\n",
            "Epoch 39/49\n",
            "----------\n",
            "train Loss: 0.2023 Acc: 0.9218\n",
            "val Loss: 0.3932 Acc: 0.8686\n",
            "\n",
            "Epoch 40/49\n",
            "----------\n",
            "train Loss: 0.1987 Acc: 0.9222\n",
            "val Loss: 0.3969 Acc: 0.8661\n",
            "\n",
            "Epoch 41/49\n",
            "----------\n",
            "train Loss: 0.2017 Acc: 0.9220\n",
            "val Loss: 0.3942 Acc: 0.8661\n",
            "\n",
            "Epoch 42/49\n",
            "----------\n",
            "train Loss: 0.2036 Acc: 0.9235\n",
            "val Loss: 0.3941 Acc: 0.8661\n",
            "\n",
            "Epoch 43/49\n",
            "----------\n",
            "train Loss: 0.2006 Acc: 0.9233\n",
            "val Loss: 0.3950 Acc: 0.8669\n",
            "\n",
            "Epoch 44/49\n",
            "----------\n",
            "train Loss: 0.1946 Acc: 0.9261\n",
            "val Loss: 0.3965 Acc: 0.8728\n",
            "\n",
            "Epoch 45/49\n",
            "----------\n",
            "train Loss: 0.1923 Acc: 0.9265\n",
            "val Loss: 0.3939 Acc: 0.8720\n",
            "\n",
            "Epoch 46/49\n",
            "----------\n",
            "train Loss: 0.1952 Acc: 0.9260\n",
            "val Loss: 0.3983 Acc: 0.8669\n",
            "\n",
            "Epoch 47/49\n",
            "----------\n",
            "train Loss: 0.1900 Acc: 0.9268\n",
            "val Loss: 0.3892 Acc: 0.8711\n",
            "\n",
            "Epoch 48/49\n",
            "----------\n",
            "train Loss: 0.1935 Acc: 0.9256\n",
            "val Loss: 0.3926 Acc: 0.8728\n",
            "\n",
            "Epoch 49/49\n",
            "----------\n",
            "train Loss: 0.1899 Acc: 0.9295\n",
            "val Loss: 0.3967 Acc: 0.8711\n",
            "\n",
            "Training complete in 40m 29s\n",
            "Best val Acc: 0.873640\n"
          ],
          "name": "stdout"
        }
      ]
    },
    {
      "cell_type": "markdown",
      "metadata": {
        "id": "H4xZcA6uQzHU",
        "colab_type": "text"
      },
      "source": [
        "# Prediction on test "
      ]
    },
    {
      "cell_type": "code",
      "metadata": {
        "id": "nyHWPDrYRKCw",
        "colab_type": "code",
        "colab": {}
      },
      "source": [
        "label_decoding={0:'YOUNG',1:'MIDDLE',2:'OLD'}"
      ],
      "execution_count": 0,
      "outputs": []
    },
    {
      "cell_type": "code",
      "metadata": {
        "id": "_YxVhMHBLuqj",
        "colab_type": "code",
        "colab": {
          "base_uri": "https://localhost:8080/",
          "height": 34
        },
        "outputId": "6612d67c-c35d-4f0c-efc4-2778a8f570a8"
      },
      "source": [
        "prediction = torch.tensor([],dtype=torch.int64)\n",
        "prediction = prediction.to(device)\n",
        "for inputs, labels in dataloader['test']:\n",
        "            inputs = inputs.to(device)\n",
        "            labels = labels.to(device)\n",
        "            \n",
        "            outputs = new_model(inputs)\n",
        "            _, preds = torch.max(outputs, 1)\n",
        "            #print(type(preds),preds.shape,preds.dtype,preds.device)\n",
        "            prediction = torch.cat((prediction,preds),0)\n",
        "            #print(prediction.shape,prediction.device)\n",
        "print(prediction.shape)"
      ],
      "execution_count": 148,
      "outputs": [
        {
          "output_type": "stream",
          "text": [
            "torch.Size([6636])\n"
          ],
          "name": "stdout"
        }
      ]
    },
    {
      "cell_type": "code",
      "metadata": {
        "id": "5BnulH5dXCfd",
        "colab_type": "code",
        "colab": {
          "base_uri": "https://localhost:8080/",
          "height": 34
        },
        "outputId": "34250af1-b705-4321-9ff2-5223eafd0e19"
      },
      "source": [
        "sub_csv = test_csv.copy()\n",
        "prediction = prediction.to('cpu')\n",
        "print(prediction.device)\n",
        "for i in range(len(prediction)):\n",
        "  sub_csv.Class[i] = label_decoding[int(prediction[i])]"
      ],
      "execution_count": 149,
      "outputs": [
        {
          "output_type": "stream",
          "text": [
            "cpu\n"
          ],
          "name": "stdout"
        }
      ]
    },
    {
      "cell_type": "code",
      "metadata": {
        "id": "_ETLJEb-b6EW",
        "colab_type": "code",
        "colab": {
          "base_uri": "https://localhost:8080/",
          "height": 195
        },
        "outputId": "07c6f9e0-a854-4293-b9d9-9c114ebada21"
      },
      "source": [
        "test_csv.head()"
      ],
      "execution_count": 150,
      "outputs": [
        {
          "output_type": "execute_result",
          "data": {
            "text/html": [
              "<div>\n",
              "<style scoped>\n",
              "    .dataframe tbody tr th:only-of-type {\n",
              "        vertical-align: middle;\n",
              "    }\n",
              "\n",
              "    .dataframe tbody tr th {\n",
              "        vertical-align: top;\n",
              "    }\n",
              "\n",
              "    .dataframe thead th {\n",
              "        text-align: right;\n",
              "    }\n",
              "</style>\n",
              "<table border=\"1\" class=\"dataframe\">\n",
              "  <thead>\n",
              "    <tr style=\"text-align: right;\">\n",
              "      <th></th>\n",
              "      <th>ID</th>\n",
              "      <th>Class</th>\n",
              "    </tr>\n",
              "  </thead>\n",
              "  <tbody>\n",
              "    <tr>\n",
              "      <th>0</th>\n",
              "      <td>25321.jpg</td>\n",
              "      <td>MIDDLE</td>\n",
              "    </tr>\n",
              "    <tr>\n",
              "      <th>1</th>\n",
              "      <td>989.jpg</td>\n",
              "      <td>MIDDLE</td>\n",
              "    </tr>\n",
              "    <tr>\n",
              "      <th>2</th>\n",
              "      <td>19277.jpg</td>\n",
              "      <td>MIDDLE</td>\n",
              "    </tr>\n",
              "    <tr>\n",
              "      <th>3</th>\n",
              "      <td>13093.jpg</td>\n",
              "      <td>MIDDLE</td>\n",
              "    </tr>\n",
              "    <tr>\n",
              "      <th>4</th>\n",
              "      <td>5367.jpg</td>\n",
              "      <td>MIDDLE</td>\n",
              "    </tr>\n",
              "  </tbody>\n",
              "</table>\n",
              "</div>"
            ],
            "text/plain": [
              "          ID   Class\n",
              "0  25321.jpg  MIDDLE\n",
              "1    989.jpg  MIDDLE\n",
              "2  19277.jpg  MIDDLE\n",
              "3  13093.jpg  MIDDLE\n",
              "4   5367.jpg  MIDDLE"
            ]
          },
          "metadata": {
            "tags": []
          },
          "execution_count": 150
        }
      ]
    },
    {
      "cell_type": "code",
      "metadata": {
        "id": "RJjY6JfGcEAU",
        "colab_type": "code",
        "colab": {
          "base_uri": "https://localhost:8080/",
          "height": 195
        },
        "outputId": "3d462d61-2326-4892-ca54-3967b06656a7"
      },
      "source": [
        "sub_csv.head()"
      ],
      "execution_count": 151,
      "outputs": [
        {
          "output_type": "execute_result",
          "data": {
            "text/html": [
              "<div>\n",
              "<style scoped>\n",
              "    .dataframe tbody tr th:only-of-type {\n",
              "        vertical-align: middle;\n",
              "    }\n",
              "\n",
              "    .dataframe tbody tr th {\n",
              "        vertical-align: top;\n",
              "    }\n",
              "\n",
              "    .dataframe thead th {\n",
              "        text-align: right;\n",
              "    }\n",
              "</style>\n",
              "<table border=\"1\" class=\"dataframe\">\n",
              "  <thead>\n",
              "    <tr style=\"text-align: right;\">\n",
              "      <th></th>\n",
              "      <th>ID</th>\n",
              "      <th>Class</th>\n",
              "    </tr>\n",
              "  </thead>\n",
              "  <tbody>\n",
              "    <tr>\n",
              "      <th>0</th>\n",
              "      <td>25321.jpg</td>\n",
              "      <td>YOUNG</td>\n",
              "    </tr>\n",
              "    <tr>\n",
              "      <th>1</th>\n",
              "      <td>989.jpg</td>\n",
              "      <td>YOUNG</td>\n",
              "    </tr>\n",
              "    <tr>\n",
              "      <th>2</th>\n",
              "      <td>19277.jpg</td>\n",
              "      <td>MIDDLE</td>\n",
              "    </tr>\n",
              "    <tr>\n",
              "      <th>3</th>\n",
              "      <td>13093.jpg</td>\n",
              "      <td>MIDDLE</td>\n",
              "    </tr>\n",
              "    <tr>\n",
              "      <th>4</th>\n",
              "      <td>5367.jpg</td>\n",
              "      <td>MIDDLE</td>\n",
              "    </tr>\n",
              "  </tbody>\n",
              "</table>\n",
              "</div>"
            ],
            "text/plain": [
              "          ID   Class\n",
              "0  25321.jpg   YOUNG\n",
              "1    989.jpg   YOUNG\n",
              "2  19277.jpg  MIDDLE\n",
              "3  13093.jpg  MIDDLE\n",
              "4   5367.jpg  MIDDLE"
            ]
          },
          "metadata": {
            "tags": []
          },
          "execution_count": 151
        }
      ]
    },
    {
      "cell_type": "code",
      "metadata": {
        "id": "706505Aqdfa2",
        "colab_type": "code",
        "colab": {}
      },
      "source": [
        "sub_csv.to_csv('/content/sample_submission_sDO3m7O.csv',index=False)"
      ],
      "execution_count": 0,
      "outputs": []
    },
    {
      "cell_type": "code",
      "metadata": {
        "id": "kFZYqWjxxcH2",
        "colab_type": "code",
        "colab": {}
      },
      "source": [
        ""
      ],
      "execution_count": 0,
      "outputs": []
    }
  ]
}